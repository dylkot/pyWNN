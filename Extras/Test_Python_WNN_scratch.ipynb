{
 "cells": [
  {
   "cell_type": "code",
   "execution_count": 1,
   "metadata": {},
   "outputs": [],
   "source": [
    "%matplotlib inline\n",
    "import scanpy as sc\n",
    "import numpy as np\n",
    "from sklearn import preprocessing\n",
    "from scipy.sparse import csr_matrix, load_npz\n",
    "import pandas as pd\n",
    "import sys\n",
    "import matplotlib.pyplot as plt\n",
    "\n",
    "from scipy.sparse import diags\n",
    "import time\n",
    "from scipy.sparse import lil_matrix"
   ]
  },
  {
   "cell_type": "markdown",
   "metadata": {},
   "source": [
    "## Load in bone marrow data provided by SEURAT with tutorial for WNN analysis\n",
    "- this was processed in test_Seurat_WNN.Rmd so that there would be a baseline to compare with to check our results are correct"
   ]
  },
  {
   "cell_type": "code",
   "execution_count": 2,
   "metadata": {},
   "outputs": [],
   "source": [
    "adtfn = '../../../Data/Misc/TestWNN/bm_adt.h5ad'\n",
    "rnafn = '../../../Data/Misc/TestWNN/bm_rna_2.h5ad'\n",
    "rnadistmatfn = '../../../Data/Misc/TestWNN/bm_rna_2_distmat.npz'"
   ]
  },
  {
   "cell_type": "code",
   "execution_count": 3,
   "metadata": {},
   "outputs": [
    {
     "name": "stderr",
     "output_type": "stream",
     "text": [
      "/PHShome/dk718/anaconda3/envs/py38_R411/lib/python3.8/site-packages/anndata/compat/__init__.py:180: FutureWarning: Moving element from .uns['neighbors']['distances'] to .obsp['distances'].\n",
      "\n",
      "This is where adjacency matrices should go now.\n",
      "  warn(\n"
     ]
    },
    {
     "data": {
      "text/plain": [
       "AnnData object with n_obs × n_vars = 30672 × 25\n",
       "    obs: 'orig.ident', 'nCount_RNA', 'nFeature_RNA', 'nCount_ADT', 'nFeature_ADT', 'lane', 'donor', 'celltype.l1', 'celltype.l2', 'RNA.weight', 'NNdist_PCA', 'NNdist_APCA', 'ADT.weight'\n",
       "    var: 'features'\n",
       "    uns: 'neighbors'\n",
       "    obsm: 'X_apca', 'X_apca.norm'\n",
       "    varm: 'APCA'\n",
       "    obsp: 'distances'"
      ]
     },
     "execution_count": 3,
     "metadata": {},
     "output_type": "execute_result"
    }
   ],
   "source": [
    "adata_adt = sc.read(adtfn)\n",
    "adata_adt"
   ]
  },
  {
   "cell_type": "code",
   "execution_count": 4,
   "metadata": {},
   "outputs": [],
   "source": [
    "orig_adt_distances = csr_matrix(adata_adt.obsp['distances'].transpose())\n",
    "orig_adt_distances.eliminate_zeros()\n",
    "\n",
    "orig_adt_norm = adata_adt.obsm['X_apca.norm']"
   ]
  },
  {
   "cell_type": "code",
   "execution_count": 5,
   "metadata": {},
   "outputs": [],
   "source": [
    "distmat = load_npz(rnadistmatfn)"
   ]
  },
  {
   "cell_type": "code",
   "execution_count": 6,
   "metadata": {},
   "outputs": [],
   "source": [
    "adata_rna = sc.read(rnafn)\n",
    "adata_rna = sc.AnnData(X=adata_rna.X, obs=adata_rna.obs, var=adata_rna.var, varm=adata_rna.varm, obsm=adata_rna.obsm)\n",
    "adata_rna.obsp['distances'] = distmat"
   ]
  },
  {
   "cell_type": "code",
   "execution_count": 7,
   "metadata": {},
   "outputs": [
    {
     "data": {
      "text/plain": [
       "<30672x30672 sparse matrix of type '<class 'numpy.float64'>'\n",
       "\twith 613440 stored elements in Compressed Sparse Row format>"
      ]
     },
     "execution_count": 7,
     "metadata": {},
     "output_type": "execute_result"
    }
   ],
   "source": [
    "adata_rna.obsp['distances']"
   ]
  },
  {
   "cell_type": "code",
   "execution_count": 8,
   "metadata": {},
   "outputs": [],
   "source": [
    "orig_rna_distances = csr_matrix(adata_rna.obsp['distances'].transpose())\n",
    "orig_rna_distances.eliminate_zeros()\n",
    "\n",
    "orig_rna_norm = adata_rna.obsm['X_pca.norm']"
   ]
  },
  {
   "cell_type": "markdown",
   "metadata": {},
   "source": [
    "## Run the WNN pipeline"
   ]
  },
  {
   "cell_type": "code",
   "execution_count": 9,
   "metadata": {},
   "outputs": [],
   "source": [
    "n_neighbors = 20\n",
    "npcs_adt = 18\n",
    "npcs_rna = 30"
   ]
  },
  {
   "cell_type": "markdown",
   "metadata": {},
   "source": [
    "### L2 normalize the data"
   ]
  },
  {
   "cell_type": "code",
   "execution_count": 10,
   "metadata": {},
   "outputs": [],
   "source": [
    "adt_X = adata_adt.obsm['X_apca'][:,:npcs_adt]\n",
    "rna_X = adata_rna.obsm['X_pca'][:,:npcs_rna]\n",
    "adt_X_norm = preprocessing.normalize(adt_X)\n",
    "rna_X_norm = preprocessing.normalize(rna_X)"
   ]
  },
  {
   "cell_type": "code",
   "execution_count": 11,
   "metadata": {},
   "outputs": [],
   "source": [
    "adata_adt.obsm['X_apca_norm_manual'] = adt_X_norm\n",
    "adata_rna.obsm['X_pca_norm_manual'] = rna_X_norm"
   ]
  },
  {
   "cell_type": "markdown",
   "metadata": {},
   "source": [
    "### Obtain the nearest neighbor graph for each modality"
   ]
  },
  {
   "cell_type": "code",
   "execution_count": 12,
   "metadata": {},
   "outputs": [],
   "source": [
    "adata_adt.uns['neighbors']['params']['n_neighbors'] = 20"
   ]
  },
  {
   "cell_type": "code",
   "execution_count": 13,
   "metadata": {},
   "outputs": [],
   "source": [
    "sc.pp.neighbors(adata_adt, n_neighbors=n_neighbors, n_pcs=npcs_adt, use_rep='X_apca_norm_manual', metric='euclidean')\n",
    "sc.pp.neighbors(adata_rna, n_neighbors=n_neighbors, n_pcs=npcs_rna, use_rep='X_pca_norm_manual', metric='euclidean')"
   ]
  },
  {
   "cell_type": "code",
   "execution_count": 14,
   "metadata": {},
   "outputs": [],
   "source": [
    "a = np.array(adata_adt.obsp['distances'][0,:].todense()).reshape(-1)\n",
    "b = np.array(orig_adt_distances[0,:].todense()).reshape(-1)"
   ]
  },
  {
   "cell_type": "code",
   "execution_count": 15,
   "metadata": {},
   "outputs": [
    {
     "data": {
      "text/plain": [
       "array([0.        , 0.28284734, 0.27803758, 0.28994524, 0.30856389,\n",
       "       0.23730983, 0.23829791])"
      ]
     },
     "execution_count": 15,
     "metadata": {},
     "output_type": "execute_result"
    }
   ],
   "source": [
    "ind = a!=b\n",
    "a[ind]"
   ]
  },
  {
   "cell_type": "code",
   "execution_count": 16,
   "metadata": {},
   "outputs": [
    {
     "data": {
      "text/plain": [
       "array([0.31480041, 0.28284732, 0.27803761, 0.28994527, 0.        ,\n",
       "       0.23730981, 0.23829792])"
      ]
     },
     "execution_count": 16,
     "metadata": {},
     "output_type": "execute_result"
    }
   ],
   "source": [
    "b[ind]"
   ]
  },
  {
   "cell_type": "code",
   "execution_count": 17,
   "metadata": {},
   "outputs": [],
   "source": [
    "a = np.array(adata_rna.obsp['distances'][0,:].todense()).reshape(-1)\n",
    "b = np.array(orig_rna_distances[0,:].todense()).reshape(-1)"
   ]
  },
  {
   "cell_type": "code",
   "execution_count": 18,
   "metadata": {},
   "outputs": [
    {
     "data": {
      "text/plain": [
       "array([0.4076927 , 0.38409859, 0.3921023 , 0.37660593, 0.40944564,\n",
       "       0.41542891])"
      ]
     },
     "execution_count": 18,
     "metadata": {},
     "output_type": "execute_result"
    }
   ],
   "source": [
    "ind = a!=b\n",
    "a[ind]"
   ]
  },
  {
   "cell_type": "code",
   "execution_count": 19,
   "metadata": {},
   "outputs": [
    {
     "data": {
      "text/plain": [
       "array([0.40769273, 0.38409862, 0.39210233, 0.3766059 , 0.40944561,\n",
       "       0.41542888])"
      ]
     },
     "execution_count": 19,
     "metadata": {},
     "output_type": "execute_result"
    }
   ],
   "source": [
    "b[ind]"
   ]
  },
  {
   "cell_type": "code",
   "execution_count": 20,
   "metadata": {},
   "outputs": [],
   "source": [
    "#adt_knn_dist = adata_adt.obsp['distances']\n",
    "rna_knn_dist = adata_rna.obsp['distances']\n",
    "adt_knn_dist = orig_adt_distances\n",
    "rna_knn_dist = orig_rna_distances"
   ]
  },
  {
   "cell_type": "code",
   "execution_count": 21,
   "metadata": {},
   "outputs": [],
   "source": [
    "adt_knn_adj = (adt_knn_dist>0).astype(int)\n",
    "#adt_knn_adj.setdiag(1)\n",
    "\n",
    "rna_knn_adj = (rna_knn_dist>0).astype(int)\n",
    "#rna_knn_adj.setdiag(1)"
   ]
  },
  {
   "cell_type": "code",
   "execution_count": 22,
   "metadata": {},
   "outputs": [
    {
     "data": {
      "text/plain": [
       "<30672x30672 sparse matrix of type '<class 'numpy.float64'>'\n",
       "\twith 582768 stored elements in Compressed Sparse Row format>"
      ]
     },
     "execution_count": 22,
     "metadata": {},
     "output_type": "execute_result"
    }
   ],
   "source": [
    "orig_adt_distances"
   ]
  },
  {
   "cell_type": "markdown",
   "metadata": {},
   "source": [
    "## Obtain the single nearest neighbor distance"
   ]
  },
  {
   "cell_type": "code",
   "execution_count": 23,
   "metadata": {},
   "outputs": [],
   "source": [
    "def get_nearestneighbor(knn, neighbor=1):\n",
    "    indices = knn.indices\n",
    "    indptr = knn.indptr\n",
    "    data = knn.data\n",
    "    nn_idx = []\n",
    "    for i in range(knn.shape[0]):\n",
    "        cols = indices[indptr[i]:indptr[i+1]]\n",
    "        rowvals = data[indptr[i]:indptr[i+1]]\n",
    "        idx = np.argsort(rowvals)\n",
    "        nn_idx.append(cols[idx[neighbor-1]])\n",
    "    return(np.array(nn_idx))\n",
    "\n",
    "## Note, because the diagonal is 0, it isn't considered so it returns the distance to the nearest non-self cell\n",
    "rna_nn_list = get_nearestneighbor(rna_knn_dist)   \n",
    "adt_nn_list = get_nearestneighbor(adt_knn_dist)   \n",
    "\n",
    "## However, when using R version of the distance matrix, the diagnoal is included so you need to select neighbor=2\n",
    "#adt_nn_list = get_nearestneighbor(adt_knn_dist, neighbor=2)"
   ]
  },
  {
   "cell_type": "code",
   "execution_count": null,
   "metadata": {},
   "outputs": [],
   "source": []
  },
  {
   "cell_type": "code",
   "execution_count": 24,
   "metadata": {},
   "outputs": [],
   "source": [
    "adt_dist_to_nn = ((adt_X_norm-adt_X_norm[adt_nn_list, :])**2).sum(axis=1)**.5\n",
    "rna_dist_to_nn = ((rna_X_norm-rna_X_norm[rna_nn_list, :])**2).sum(axis=1)**.5"
   ]
  },
  {
   "cell_type": "code",
   "execution_count": 25,
   "metadata": {},
   "outputs": [
    {
     "data": {
      "text/plain": [
       "array([0.23730984, 0.2931412 , 0.28891129, 0.1969009 , 0.1551266 ,\n",
       "       0.18203526])"
      ]
     },
     "execution_count": 25,
     "metadata": {},
     "output_type": "execute_result"
    }
   ],
   "source": [
    "adt_dist_to_nn[:6]"
   ]
  },
  {
   "cell_type": "code",
   "execution_count": 26,
   "metadata": {},
   "outputs": [
    {
     "data": {
      "text/plain": [
       "array([0.35856377, 0.45807189, 0.33703748, 0.47222749, 0.30397008,\n",
       "       0.26402367])"
      ]
     },
     "execution_count": 26,
     "metadata": {},
     "output_type": "execute_result"
    }
   ],
   "source": [
    "rna_dist_to_nn[:6]"
   ]
  },
  {
   "cell_type": "markdown",
   "metadata": {},
   "source": [
    "## Get the within modality and cross modality prediction for each cell"
   ]
  },
  {
   "cell_type": "raw",
   "metadata": {},
   "source": [
    "adt_knn_dist\n",
    "orig_adt_distances\n",
    "i = 0\n",
    "a = np.array(adt_knn_dist[i, :].todense()).reshape(-1)\n",
    "b = np.array(orig_adt_distances[i, :].todense()).reshape(-1)\n",
    "ind=a!=b"
   ]
  },
  {
   "cell_type": "code",
   "execution_count": 27,
   "metadata": {},
   "outputs": [],
   "source": [
    "adtnn_adtpredict = adt_knn_adj.dot(adt_X_norm)/ (n_neighbors-1)\n",
    "rnann_rnapredict = rna_knn_adj.dot(rna_X_norm)/ (n_neighbors-1)"
   ]
  },
  {
   "cell_type": "code",
   "execution_count": 28,
   "metadata": {},
   "outputs": [],
   "source": [
    "adtnn_rnapredict = adt_knn_adj.dot(rna_X_norm)/(n_neighbors-1)\n",
    "rnann_adtpredict = rna_knn_adj.dot(adt_X_norm)/(n_neighbors-1)"
   ]
  },
  {
   "cell_type": "code",
   "execution_count": 29,
   "metadata": {},
   "outputs": [],
   "source": [
    "d_rna_rnapredict = ((rna_X_norm-rnann_rnapredict)**2).sum(axis=1)**.5\n",
    "d_rna_adtpredict = ((rna_X_norm-adtnn_rnapredict)**2).sum(axis=1)**.5\n",
    "\n",
    "d_adt_adtpredict = ((adt_X_norm-adtnn_adtpredict)**2).sum(axis=1)**.5\n",
    "d_adt_rnapredict = ((adt_X_norm-rnann_adtpredict)**2).sum(axis=1)**.5\n"
   ]
  },
  {
   "cell_type": "code",
   "execution_count": 49,
   "metadata": {},
   "outputs": [
    {
     "data": {
      "text/plain": [
       "array([0.42094427, 0.83719184, 0.62665383, ..., 0.1932855 , 0.384797  ,\n",
       "       0.5957621 ])"
      ]
     },
     "execution_count": 49,
     "metadata": {},
     "output_type": "execute_result"
    }
   ],
   "source": [
    "d_rna_adtpredict"
   ]
  },
  {
   "cell_type": "code",
   "execution_count": 30,
   "metadata": {},
   "outputs": [
    {
     "data": {
      "text/plain": [
       "False    29289\n",
       "True      1383\n",
       "dtype: int64"
      ]
     },
     "execution_count": 30,
     "metadata": {},
     "output_type": "execute_result"
    }
   ],
   "source": [
    "pd.Series((d_adt_adtpredict-adt_dist_to_nn)>0).value_counts()"
   ]
  },
  {
   "cell_type": "code",
   "execution_count": 31,
   "metadata": {},
   "outputs": [
    {
     "data": {
      "text/plain": [
       "False    30022\n",
       "True       650\n",
       "dtype: int64"
      ]
     },
     "execution_count": 31,
     "metadata": {},
     "output_type": "execute_result"
    }
   ],
   "source": [
    "pd.Series((d_rna_rnapredict-rna_dist_to_nn)>0).value_counts()"
   ]
  },
  {
   "cell_type": "code",
   "execution_count": 32,
   "metadata": {},
   "outputs": [
    {
     "data": {
      "text/plain": [
       "True     30517\n",
       "False      155\n",
       "dtype: int64"
      ]
     },
     "execution_count": 32,
     "metadata": {},
     "output_type": "execute_result"
    }
   ],
   "source": [
    "pd.Series((d_adt_rnapredict-adt_dist_to_nn)>0).value_counts()"
   ]
  },
  {
   "cell_type": "code",
   "execution_count": 33,
   "metadata": {},
   "outputs": [
    {
     "data": {
      "text/plain": [
       "True     30199\n",
       "False      473\n",
       "dtype: int64"
      ]
     },
     "execution_count": 33,
     "metadata": {},
     "output_type": "execute_result"
    }
   ],
   "source": [
    "pd.Series((d_rna_adtpredict-rna_dist_to_nn)>0).value_counts()"
   ]
  },
  {
   "cell_type": "code",
   "execution_count": 34,
   "metadata": {},
   "outputs": [
    {
     "data": {
      "text/plain": [
       "array([0.06238049, 0.37911995, 0.28961635, 0.18905257, 0.17675104,\n",
       "       0.07694431])"
      ]
     },
     "execution_count": 34,
     "metadata": {},
     "output_type": "execute_result"
    }
   ],
   "source": [
    "x = d_rna_adtpredict-rna_dist_to_nn\n",
    "(x[x>0])[:6]"
   ]
  },
  {
   "cell_type": "markdown",
   "metadata": {},
   "source": [
    "### Compute the bandwidth for each cell"
   ]
  },
  {
   "cell_type": "code",
   "execution_count": 35,
   "metadata": {},
   "outputs": [],
   "source": [
    "def compute_bw(knn_adj, embedding, n_neighbors=20):\n",
    "    intersect = knn_adj.dot(knn_adj.T)\n",
    "    indices = intersect.indices\n",
    "    indptr = intersect.indptr\n",
    "    data = intersect.data\n",
    "    data = data / ((n_neighbors*2) - data)\n",
    "    bandwidth = []\n",
    "    for i in range(intersect.shape[0]):\n",
    "        cols = indices[indptr[i]:indptr[i+1]]\n",
    "        rowvals = data[indptr[i]:indptr[i+1]]\n",
    "        idx = np.argsort(rowvals)\n",
    "        valssort = rowvals[idx]\n",
    "        numinset = len(cols)\n",
    "        if numinset<n_neighbors:\n",
    "            sys.exit('Fewer than 20 cells with Jacard sim > 0')\n",
    "        else:\n",
    "            curval = valssort[n_neighbors]\n",
    "            for num in range(n_neighbors, numinset):\n",
    "                if valssort[num]!=curval:\n",
    "                    break\n",
    "                else:\n",
    "                    num+=1\n",
    "            minjacinset = cols[idx][:num]\n",
    "            if num <n_neighbors:\n",
    "                print('shouldnt end up here')\n",
    "                sys.exit(-1)\n",
    "            else:\n",
    "                euc_dist = ((embedding[minjacinset,:]-embedding[i,:])**2).sum(axis=1)**.5\n",
    "                euc_dist_sorted = np.sort(euc_dist)[::-1]\n",
    "                bandwidth.append( np.mean(euc_dist_sorted[:n_neighbors]) )\n",
    "    return(np.array(bandwidth))"
   ]
  },
  {
   "cell_type": "code",
   "execution_count": 36,
   "metadata": {},
   "outputs": [
    {
     "name": "stderr",
     "output_type": "stream",
     "text": [
      "/PHShome/dk718/anaconda3/envs/py38_R411/lib/python3.8/site-packages/scipy/sparse/_index.py:125: SparseEfficiencyWarning: Changing the sparsity structure of a csr_matrix is expensive. lil_matrix is more efficient.\n",
      "  self._set_arrayXarray(i, j, x)\n"
     ]
    }
   ],
   "source": [
    "adt_knn_adj_wdiag = adt_knn_adj.copy()\n",
    "adt_knn_adj_wdiag.setdiag(1)\n",
    "\n",
    "rna_knn_adj_wdiag = rna_knn_adj.copy()\n",
    "rna_knn_adj_wdiag.setdiag(1)"
   ]
  },
  {
   "cell_type": "code",
   "execution_count": 37,
   "metadata": {},
   "outputs": [],
   "source": [
    "adt_bw = compute_bw(adt_knn_adj_wdiag, adt_X_norm)\n",
    "rna_bw = compute_bw(rna_knn_adj_wdiag, rna_X_norm)"
   ]
  },
  {
   "cell_type": "code",
   "execution_count": 38,
   "metadata": {},
   "outputs": [
    {
     "data": {
      "text/plain": [
       "array([0.3589431 , 0.50541738, 0.29854833, 0.36831769, 0.25969651,\n",
       "       0.35338741])"
      ]
     },
     "execution_count": 38,
     "metadata": {},
     "output_type": "execute_result"
    }
   ],
   "source": [
    "(adt_bw-adt_dist_to_nn)[:6]"
   ]
  },
  {
   "cell_type": "markdown",
   "metadata": {},
   "source": [
    "### Compute affinities for each cell"
   ]
  },
  {
   "cell_type": "code",
   "execution_count": 39,
   "metadata": {},
   "outputs": [],
   "source": [
    "def compute_affinity(dist_to_predict, dist_to_nn, bw):\n",
    "    affinity = dist_to_predict-dist_to_nn\n",
    "    affinity[affinity<0]=0\n",
    "    affinity = affinity * -1\n",
    "    affinity = np.exp(affinity / (bw-dist_to_nn))\n",
    "    return(affinity)\n",
    "\n",
    "a_rna_rnapredict = compute_affinity(d_rna_rnapredict, rna_dist_to_nn, rna_bw)\n",
    "a_rna_adtpredict = compute_affinity(d_rna_adtpredict, rna_dist_to_nn, rna_bw)\n",
    "a_adt_adtpredict = compute_affinity(d_adt_adtpredict, adt_dist_to_nn, adt_bw)\n",
    "a_adt_rnapredict = compute_affinity(d_adt_rnapredict, adt_dist_to_nn, adt_bw)"
   ]
  },
  {
   "cell_type": "code",
   "execution_count": 50,
   "metadata": {},
   "outputs": [
    {
     "data": {
      "text/plain": [
       "array([1., 1., 1., ..., 1., 1., 1.])"
      ]
     },
     "execution_count": 50,
     "metadata": {},
     "output_type": "execute_result"
    }
   ],
   "source": [
    "a_rna_rnapredict"
   ]
  },
  {
   "cell_type": "code",
   "execution_count": 40,
   "metadata": {},
   "outputs": [
    {
     "data": {
      "text/plain": [
       "30022"
      ]
     },
     "execution_count": 40,
     "metadata": {},
     "output_type": "execute_result"
    }
   ],
   "source": [
    "sum(a_rna_rnapredict==1)"
   ]
  },
  {
   "cell_type": "code",
   "execution_count": 41,
   "metadata": {},
   "outputs": [
    {
     "data": {
      "text/plain": [
       "473"
      ]
     },
     "execution_count": 41,
     "metadata": {},
     "output_type": "execute_result"
    }
   ],
   "source": [
    "sum(a_rna_adtpredict==1)"
   ]
  },
  {
   "cell_type": "code",
   "execution_count": 42,
   "metadata": {},
   "outputs": [
    {
     "data": {
      "text/plain": [
       "29289"
      ]
     },
     "execution_count": 42,
     "metadata": {},
     "output_type": "execute_result"
    }
   ],
   "source": [
    "sum(a_adt_adtpredict==1)"
   ]
  },
  {
   "cell_type": "code",
   "execution_count": 43,
   "metadata": {},
   "outputs": [
    {
     "data": {
      "text/plain": [
       "155"
      ]
     },
     "execution_count": 43,
     "metadata": {},
     "output_type": "execute_result"
    }
   ],
   "source": [
    "sum(a_adt_rnapredict==1)"
   ]
  },
  {
   "cell_type": "code",
   "execution_count": 44,
   "metadata": {},
   "outputs": [
    {
     "data": {
      "text/plain": [
       "array([0.78143179, 0.26033919, 0.51997823, 0.554694  , 0.70520204,\n",
       "       0.64151488])"
      ]
     },
     "execution_count": 44,
     "metadata": {},
     "output_type": "execute_result"
    }
   ],
   "source": [
    "a_adt_rnapredict[a_adt_rnapredict!=1][:6]"
   ]
  },
  {
   "cell_type": "markdown",
   "metadata": {},
   "source": [
    "### Compute weight for RNA and ADT feature for each cell"
   ]
  },
  {
   "cell_type": "code",
   "execution_count": 45,
   "metadata": {},
   "outputs": [],
   "source": [
    "rna_affinity_ratio = a_rna_rnapredict / (a_rna_adtpredict + 0.0001)\n",
    "adt_affinity_ratio = a_adt_adtpredict / (a_adt_rnapredict + 0.0001)"
   ]
  },
  {
   "cell_type": "code",
   "execution_count": 46,
   "metadata": {},
   "outputs": [],
   "source": [
    "weight_rna = 1 / (1+ np.exp(adt_affinity_ratio-rna_affinity_ratio))\n",
    "weight_protein = 1 - weight_rna"
   ]
  },
  {
   "cell_type": "code",
   "execution_count": 47,
   "metadata": {},
   "outputs": [
    {
     "data": {
      "text/plain": [
       "array([0.48729927, 0.24554279, 0.50168017, ..., 0.50681364, 0.22571795,\n",
       "       0.27931865])"
      ]
     },
     "execution_count": 47,
     "metadata": {},
     "output_type": "execute_result"
    }
   ],
   "source": [
    "weight_rna"
   ]
  },
  {
   "cell_type": "code",
   "execution_count": null,
   "metadata": {},
   "outputs": [],
   "source": []
  },
  {
   "cell_type": "code",
   "execution_count": null,
   "metadata": {},
   "outputs": [],
   "source": []
  },
  {
   "cell_type": "code",
   "execution_count": null,
   "metadata": {},
   "outputs": [],
   "source": []
  },
  {
   "cell_type": "markdown",
   "metadata": {},
   "source": [
    "## Compute union of 200 nearest neighbors for RNA and ADT\n",
    "- this time uses the actual PCs instead of the noramlized ones"
   ]
  },
  {
   "cell_type": "code",
   "execution_count": 51,
   "metadata": {},
   "outputs": [],
   "source": [
    "adt200fn = '../../../Data/Misc/TestWNN/bm_adt_200NN.h5ad'\n",
    "rna200fn = '../../../Data/Misc/TestWNN/bm_rna_200NN.h5ad'"
   ]
  },
  {
   "cell_type": "code",
   "execution_count": 52,
   "metadata": {},
   "outputs": [
    {
     "name": "stderr",
     "output_type": "stream",
     "text": [
      "/PHShome/dk718/anaconda3/envs/py38_R411/lib/python3.8/site-packages/anndata/compat/__init__.py:180: FutureWarning: Moving element from .uns['neighbors']['distances'] to .obsp['distances'].\n",
      "\n",
      "This is where adjacency matrices should go now.\n",
      "  warn(\n"
     ]
    },
    {
     "data": {
      "text/plain": [
       "AnnData object with n_obs × n_vars = 30672 × 25\n",
       "    obs: 'orig.ident', 'nCount_RNA', 'nFeature_RNA', 'nCount_ADT', 'nFeature_ADT', 'lane', 'donor', 'celltype.l1', 'celltype.l2', 'RNA.weight', 'ADT.weight'\n",
       "    var: 'features'\n",
       "    uns: 'neighbors'\n",
       "    obsm: 'X_apca'\n",
       "    varm: 'APCA'\n",
       "    obsp: 'distances'"
      ]
     },
     "execution_count": 52,
     "metadata": {},
     "output_type": "execute_result"
    }
   ],
   "source": [
    "adata_adt_200 = sc.read(adt200fn)\n",
    "adata_adt_200"
   ]
  },
  {
   "cell_type": "code",
   "execution_count": 53,
   "metadata": {},
   "outputs": [],
   "source": [
    "orig_adt_distances200 = csr_matrix(adata_adt_200.obsp['distances'].transpose())\n",
    "orig_adt_distances200.eliminate_zeros()"
   ]
  },
  {
   "cell_type": "code",
   "execution_count": 54,
   "metadata": {},
   "outputs": [
    {
     "data": {
      "text/plain": [
       "AnnData object with n_obs × n_vars = 30672 × 2000\n",
       "    obs: 'orig.ident', 'nCount_RNA', 'nFeature_RNA', 'nCount_ADT', 'nFeature_ADT', 'lane', 'donor', 'celltype.l1', 'celltype.l2', 'RNA.weight', 'ADT.weight'\n",
       "    var: 'vst.mean', 'vst.variance', 'vst.variance.expected', 'vst.variance.standardized', 'vst.variable'\n",
       "    uns: 'neighbors'\n",
       "    obsm: 'X_pca'\n",
       "    varm: 'PCs'\n",
       "    obsp: 'distances'"
      ]
     },
     "execution_count": 54,
     "metadata": {},
     "output_type": "execute_result"
    }
   ],
   "source": [
    "adata_rna_200 = sc.read(rna200fn)\n",
    "adata_rna_200"
   ]
  },
  {
   "cell_type": "code",
   "execution_count": 55,
   "metadata": {},
   "outputs": [],
   "source": [
    "orig_rna_distances200 = csr_matrix(adata_rna_200.obsp['distances'].transpose())\n",
    "orig_rna_distances200.eliminate_zeros()"
   ]
  },
  {
   "cell_type": "code",
   "execution_count": null,
   "metadata": {},
   "outputs": [],
   "source": [
    "sc.pp.neighbors(adata_adt, n_neighbors=200, n_pcs=npcs_adt, use_rep='X_apca_norm_manual', metric='euclidean')\n",
    "sc.pp.neighbors(adata_rna, n_neighbors=200, n_pcs=npcs_rna, use_rep='X_pca_norm_manual', metric='euclidean')"
   ]
  },
  {
   "cell_type": "code",
   "execution_count": null,
   "metadata": {},
   "outputs": [],
   "source": [
    "adt_knn200_dist = adata_adt.obsp['distances']\n",
    "rna_knn200_dist = adata_rna.obsp['distances']\n"
   ]
  },
  {
   "cell_type": "code",
   "execution_count": 58,
   "metadata": {},
   "outputs": [
    {
     "data": {
      "text/plain": [
       "0.4850425838110719"
      ]
     },
     "execution_count": 58,
     "metadata": {},
     "output_type": "execute_result"
    }
   ],
   "source": [
    "i = 10\n",
    "a = np.array(adt_knn200_dist[i,:].todense()).reshape(-1)\n",
    "b = np.array(orig_adt_distances200[i,:].todense()).reshape(-1)\n",
    "((a-b)**2).sum()**.5\n"
   ]
  },
  {
   "cell_type": "code",
   "execution_count": 59,
   "metadata": {},
   "outputs": [
    {
     "data": {
      "text/plain": [
       "1.5804470122766374"
      ]
     },
     "execution_count": 59,
     "metadata": {},
     "output_type": "execute_result"
    }
   ],
   "source": [
    "i = 1\n",
    "a = np.array(rna_knn200_dist[i,:].todense()).reshape(-1)\n",
    "b = np.array(orig_rna_distances200[i,:].todense()).reshape(-1)\n",
    "((a-b)**2).sum()**.5"
   ]
  },
  {
   "cell_type": "code",
   "execution_count": 60,
   "metadata": {},
   "outputs": [],
   "source": [
    "diff = np.abs(a-b)"
   ]
  },
  {
   "cell_type": "code",
   "execution_count": 61,
   "metadata": {},
   "outputs": [
    {
     "data": {
      "text/plain": [
       "6"
      ]
     },
     "execution_count": 61,
     "metadata": {},
     "output_type": "execute_result"
    }
   ],
   "source": [
    "sum(np.abs(a-b)>.1)"
   ]
  },
  {
   "cell_type": "code",
   "execution_count": 62,
   "metadata": {},
   "outputs": [],
   "source": [
    "ind = np.abs(a-b)>.1"
   ]
  },
  {
   "cell_type": "code",
   "execution_count": 63,
   "metadata": {},
   "outputs": [
    {
     "data": {
      "text/plain": [
       "array([0.        , 0.        , 0.63447493, 0.65399927, 0.        ,\n",
       "       0.61887139])"
      ]
     },
     "execution_count": 63,
     "metadata": {},
     "output_type": "execute_result"
    }
   ],
   "source": [
    "a[ind]"
   ]
  },
  {
   "cell_type": "code",
   "execution_count": 64,
   "metadata": {},
   "outputs": [
    {
     "data": {
      "text/plain": [
       "array([0.65439796, 0.65424263, 0.        , 0.        , 0.65442139,\n",
       "       0.        ])"
      ]
     },
     "execution_count": 64,
     "metadata": {},
     "output_type": "execute_result"
    }
   ],
   "source": [
    "b[ind]"
   ]
  },
  {
   "cell_type": "code",
   "execution_count": 65,
   "metadata": {},
   "outputs": [],
   "source": [
    "## Move forward using the R based distances"
   ]
  },
  {
   "cell_type": "code",
   "execution_count": 66,
   "metadata": {},
   "outputs": [],
   "source": [
    "adt_knn200_dist = orig_adt_distances200\n",
    "rna_knn200_dist = orig_rna_distances200"
   ]
  },
  {
   "cell_type": "code",
   "execution_count": 67,
   "metadata": {},
   "outputs": [],
   "source": [
    "adt_knn200_adj = (adt_knn200_dist>0).astype(int)\n",
    "rna_knn200_adj = (rna_knn200_dist>0).astype(int)\n",
    "#adt_knn200_adj.setdiag(1)\n",
    "#rna_knn200_adj.setdiag(1)"
   ]
  },
  {
   "cell_type": "code",
   "execution_count": 68,
   "metadata": {},
   "outputs": [
    {
     "data": {
      "text/plain": [
       "<30672x30672 sparse matrix of type '<class 'numpy.int64'>'\n",
       "\twith 11473748 stored elements in Compressed Sparse Row format>"
      ]
     },
     "execution_count": 68,
     "metadata": {},
     "output_type": "execute_result"
    }
   ],
   "source": [
    "union_adj_mat = ((adt_knn200_adj+rna_knn200_adj) > 0).astype(int)\n",
    "union_adj_mat\n"
   ]
  },
  {
   "cell_type": "code",
   "execution_count": 69,
   "metadata": {},
   "outputs": [
    {
     "data": {
      "text/plain": [
       "matrix([[297],\n",
       "        [397],\n",
       "        [390],\n",
       "        ...,\n",
       "        [273],\n",
       "        [392],\n",
       "        [398]])"
      ]
     },
     "execution_count": 69,
     "metadata": {},
     "output_type": "execute_result"
    }
   ],
   "source": [
    "union_adj_mat.sum(axis=1)"
   ]
  },
  {
   "cell_type": "code",
   "execution_count": 70,
   "metadata": {},
   "outputs": [
    {
     "data": {
      "text/plain": [
       "<30672x30672 sparse matrix of type '<class 'numpy.int64'>'\n",
       "\twith 11473748 stored elements in Compressed Sparse Row format>"
      ]
     },
     "execution_count": 70,
     "metadata": {},
     "output_type": "execute_result"
    }
   ],
   "source": [
    "union_adj_mat"
   ]
  },
  {
   "cell_type": "code",
   "execution_count": 71,
   "metadata": {},
   "outputs": [],
   "source": [
    "i = 0\n",
    "j = 21152"
   ]
  },
  {
   "cell_type": "code",
   "execution_count": 72,
   "metadata": {},
   "outputs": [
    {
     "data": {
      "text/plain": [
       "array([21152,  8050, 23995, ...,  6518, 13932, 25103], dtype=int32)"
      ]
     },
     "execution_count": 72,
     "metadata": {},
     "output_type": "execute_result"
    }
   ],
   "source": [
    "rna_nn_list"
   ]
  },
  {
   "cell_type": "code",
   "execution_count": 73,
   "metadata": {},
   "outputs": [
    {
     "data": {
      "text/plain": [
       "0.35856377476063833"
      ]
     },
     "execution_count": 73,
     "metadata": {},
     "output_type": "execute_result"
    }
   ],
   "source": [
    "((rna_X_norm[i,:] - rna_X_norm[j,:])**2).sum()**.5"
   ]
  },
  {
   "cell_type": "code",
   "execution_count": 75,
   "metadata": {},
   "outputs": [
    {
     "name": "stdout",
     "output_type": "stream",
     "text": [
      "0 out of 30672 -0.01 seconds elapsed\n",
      "500 out of 30672 -4.11 seconds elapsed\n",
      "1000 out of 30672 -8.21 seconds elapsed\n"
     ]
    }
   ],
   "source": [
    "\n",
    "\n",
    "rna_dist_full = lil_matrix(union_adj_mat.shape, )\n",
    "adt_dist_full = lil_matrix(union_adj_mat.shape)\n",
    "\n",
    "tic = time.perf_counter()\n",
    "count = 0\n",
    "indices = union_adj_mat.indices\n",
    "indptr = union_adj_mat.indptr\n",
    "ncells = union_adj_mat.shape[0]\n",
    "for i in range(ncells):\n",
    "    for j in range(indptr[i], indptr[i+1]):\n",
    "        col = indices[j]\n",
    "        \n",
    "        a = (((adt_X_norm[i,:] - adt_X_norm[col,:])**2).sum()**.5) - adt_dist_to_nn[i]\n",
    "        if a > 0:\n",
    "            adt_dist_full[i,col] = a\n",
    "        else:\n",
    "            adt_dist_full[i,col] = np.nan\n",
    "            \n",
    "        b = (((rna_X_norm[i,:] - rna_X_norm[col,:])**2).sum()**.5) - rna_dist_to_nn[i]\n",
    "        if b > 0:\n",
    "            rna_dist_full[i,col] = b\n",
    "        else:\n",
    "            rna_dist_full[i,col] = np.nan          \n",
    "    \n",
    "    if (i % 500) == 0:\n",
    "        toc = time.perf_counter()\n",
    "        print('%d out of %d -%.2f seconds elapsed' % (i, ncells, toc-tic))\n",
    "        \n",
    "    if i == 1000:\n",
    "        break\n",
    "\n",
    "rna_dist_full = csr_matrix(rna_dist_full)        \n",
    "adt_dist_full = csr_matrix(adt_dist_full)\n",
    "\n",
    "rna_dist_full = diags(-1 / (rna_bw - rna_dist_to_nn), format='csr').dot(rna_dist_full)\n",
    "adt_dist_full = diags(-1 / (adt_bw - adt_dist_to_nn), format='csr').dot(adt_dist_full)\n",
    "\n",
    "rna_dist_full.data = np.exp(rna_dist_full.data)\n",
    "adt_dist_full.data = np.exp(adt_dist_full.data)\n",
    "\n",
    "\n",
    "ind1 = np.isnan(rna_dist_full.data)\n",
    "ind2 = np.isnan(adt_dist_full.data)\n",
    "\n",
    "rna_dist_full.data[ind1] = 1\n",
    "adt_dist_full.data[ind2] = 1\n",
    "\n",
    "rna_dist_full = diags(weight_rna).dot(rna_dist_full)\n",
    "adt_dist_full = diags(weight_protein).dot(adt_dist_full)"
   ]
  },
  {
   "cell_type": "code",
   "execution_count": 76,
   "metadata": {},
   "outputs": [
    {
     "data": {
      "text/plain": [
       "(0, 0)"
      ]
     },
     "execution_count": 76,
     "metadata": {},
     "output_type": "execute_result"
    }
   ],
   "source": [
    "np.isnan(rna_dist_full.data).sum(), np.isnan(adt_dist_full.data).sum()"
   ]
  },
  {
   "cell_type": "code",
   "execution_count": 77,
   "metadata": {},
   "outputs": [],
   "source": [
    "weighted_dist = rna_dist_full + adt_dist_full\n"
   ]
  },
  {
   "cell_type": "code",
   "execution_count": 80,
   "metadata": {},
   "outputs": [
    {
     "name": "stdout",
     "output_type": "stream",
     "text": [
      "20020 20020 20020\n"
     ]
    }
   ],
   "source": [
    "def select_topK(dist,  n_neighbors=20):\n",
    "    indices = dist.indices\n",
    "    indptr = dist.indptr\n",
    "    data = dist.data\n",
    "    nrows = dist.shape[0]\n",
    "\n",
    "    final_data = []\n",
    "    final_col_ind = []\n",
    "\n",
    "    tic = time.perf_counter()\n",
    "    for i in range(nrows):\n",
    "        cols = indices[indptr[i]:indptr[i+1]]\n",
    "        rowvals = data[indptr[i]:indptr[i+1]]\n",
    "        idx = np.argsort(rowvals)[::-1]\n",
    "        final_data.append(rowvals[idx[(-1*n_neighbors):]])\n",
    "        final_col_ind.append(cols[idx[(-1*n_neighbors):]])\n",
    "            \n",
    "    final_data = np.concatenate(final_data)\n",
    "    final_col_ind = np.concatenate(final_col_ind)\n",
    "    #final_row_ind = np.tile(np.arange(nrows), (n_neighbors, 1)).reshape(-1, order='F')\n",
    "    final_row_ind = np.tile(np.arange(1001), (n_neighbors, 1)).reshape(-1, order='F')\n",
    "    \n",
    "    print(len(final_data), len(final_col_ind), len(final_row_ind))\n",
    "    \n",
    "    #result = csr_matrix((final_data, (final_row_ind, final_col_ind)), shape=(nrows, dist.shape[1]))\n",
    "    result = csr_matrix((final_data, (final_row_ind, final_col_ind)), shape=(1001, dist.shape[1]))\n",
    "\n",
    "    return(result)\n",
    "        \n",
    "weighted_dist_top20 = select_topK(weighted_dist)"
   ]
  },
  {
   "cell_type": "code",
   "execution_count": 82,
   "metadata": {},
   "outputs": [
    {
     "data": {
      "text/plain": [
       "array([0.21599531, 0.19196024, 0.20825021, 0.18702039, 0.20588442,\n",
       "       0.21887885, 0.19304572, 0.18179561, 0.17634009, 0.18038624,\n",
       "       0.22250339, 0.19496941, 0.21195342, 0.21942194, 0.1811762 ,\n",
       "       0.19115276, 0.21659647, 0.21553135, 0.22066435, 0.19626436])"
      ]
     },
     "execution_count": 82,
     "metadata": {},
     "output_type": "execute_result"
    }
   ],
   "source": [
    "i = 500\n",
    "a = np.array(weighted_dist_top20[i,:].todense()).reshape(-1)\n",
    "a[a>0]"
   ]
  },
  {
   "cell_type": "code",
   "execution_count": null,
   "metadata": {},
   "outputs": [],
   "source": [
    "3"
   ]
  },
  {
   "cell_type": "code",
   "execution_count": null,
   "metadata": {},
   "outputs": [],
   "source": []
  },
  {
   "cell_type": "code",
   "execution_count": null,
   "metadata": {},
   "outputs": [],
   "source": []
  },
  {
   "cell_type": "code",
   "execution_count": 147,
   "metadata": {},
   "outputs": [
    {
     "data": {
      "text/plain": [
       "(0.48729926657803013, 0.05683478725363307)"
      ]
     },
     "execution_count": 147,
     "metadata": {},
     "output_type": "execute_result"
    }
   ],
   "source": [
    "row = 0\n",
    "col = 21152\n",
    "#col = 21407\n",
    "rna_dist_full[row, col], adt_dist_full[row, col]"
   ]
  },
  {
   "cell_type": "code",
   "execution_count": 106,
   "metadata": {},
   "outputs": [
    {
     "data": {
      "text/plain": [
       "(0.0, 0.05683478725363307)"
      ]
     },
     "execution_count": 106,
     "metadata": {},
     "output_type": "execute_result"
    }
   ],
   "source": [
    "rna_dist_full3[row, col], adt_dist_full3[row, col]"
   ]
  },
  {
   "cell_type": "code",
   "execution_count": 187,
   "metadata": {},
   "outputs": [
    {
     "data": {
      "text/plain": [
       "0.9574767287508351"
      ]
     },
     "execution_count": 187,
     "metadata": {},
     "output_type": "execute_result"
    }
   ],
   "source": [
    "rna_dist_full2[row, col] + adt_dist_full2[row, col]"
   ]
  },
  {
   "cell_type": "code",
   "execution_count": null,
   "metadata": {},
   "outputs": [],
   "source": [
    "dval = 0.01804213591162812\n",
    "np.exp(-1*(nn_dist[[r]][[x]] / sigma.list[[r]][x] ) ** 1)"
   ]
  },
  {
   "cell_type": "code",
   "execution_count": null,
   "metadata": {},
   "outputs": [],
   "source": []
  },
  {
   "cell_type": "code",
   "execution_count": null,
   "metadata": {},
   "outputs": [],
   "source": []
  },
  {
   "cell_type": "code",
   "execution_count": null,
   "metadata": {},
   "outputs": [],
   "source": []
  },
  {
   "cell_type": "code",
   "execution_count": null,
   "metadata": {},
   "outputs": [],
   "source": []
  },
  {
   "cell_type": "code",
   "execution_count": null,
   "metadata": {},
   "outputs": [],
   "source": []
  },
  {
   "cell_type": "code",
   "execution_count": null,
   "metadata": {},
   "outputs": [],
   "source": []
  },
  {
   "cell_type": "code",
   "execution_count": 116,
   "metadata": {},
   "outputs": [],
   "source": [
    "a = rna_dist_full[:5,].todense()\n",
    "b = adt_dist_full[:5,].todense()"
   ]
  },
  {
   "cell_type": "code",
   "execution_count": 118,
   "metadata": {},
   "outputs": [],
   "source": [
    "c = (a>0) != (b>0)"
   ]
  },
  {
   "cell_type": "code",
   "execution_count": 119,
   "metadata": {},
   "outputs": [
    {
     "data": {
      "text/plain": [
       "(array([0, 0]), array([21152, 22592]))"
      ]
     },
     "execution_count": 119,
     "metadata": {},
     "output_type": "execute_result"
    }
   ],
   "source": [
    "np.where(c[0, :])"
   ]
  },
  {
   "cell_type": "code",
   "execution_count": 124,
   "metadata": {},
   "outputs": [
    {
     "data": {
      "text/plain": [
       "(0.0, 0.11085372723049362, 1)"
      ]
     },
     "execution_count": 124,
     "metadata": {},
     "output_type": "execute_result"
    }
   ],
   "source": [
    "rna_dist_full[0, 21152], adt_dist_full[0, 21152], union_adj_mat[0, 21152]"
   ]
  },
  {
   "cell_type": "code",
   "execution_count": 125,
   "metadata": {},
   "outputs": [
    {
     "data": {
      "text/plain": [
       "(0.07339361716172668, 0.0, 1)"
      ]
     },
     "execution_count": 125,
     "metadata": {},
     "output_type": "execute_result"
    }
   ],
   "source": [
    "rna_dist_full[0, 22592], adt_dist_full[0, 22592], union_adj_mat[0, 22592]"
   ]
  },
  {
   "cell_type": "code",
   "execution_count": null,
   "metadata": {},
   "outputs": [],
   "source": []
  },
  {
   "cell_type": "code",
   "execution_count": null,
   "metadata": {},
   "outputs": [],
   "source": []
  },
  {
   "cell_type": "code",
   "execution_count": null,
   "metadata": {},
   "outputs": [],
   "source": []
  },
  {
   "cell_type": "code",
   "execution_count": null,
   "metadata": {},
   "outputs": [],
   "source": []
  },
  {
   "cell_type": "code",
   "execution_count": null,
   "metadata": {},
   "outputs": [],
   "source": []
  },
  {
   "cell_type": "code",
   "execution_count": null,
   "metadata": {},
   "outputs": [],
   "source": []
  },
  {
   "cell_type": "code",
   "execution_count": 113,
   "metadata": {},
   "outputs": [
    {
     "data": {
      "text/plain": [
       "matrix([[296],\n",
       "        [396],\n",
       "        [389],\n",
       "        [392],\n",
       "        [383]])"
      ]
     },
     "execution_count": 113,
     "metadata": {},
     "output_type": "execute_result"
    }
   ],
   "source": [
    "(adt_dist_full[:5,]>0)"
   ]
  },
  {
   "cell_type": "code",
   "execution_count": null,
   "metadata": {},
   "outputs": [],
   "source": []
  },
  {
   "cell_type": "code",
   "execution_count": null,
   "metadata": {},
   "outputs": [],
   "source": []
  },
  {
   "cell_type": "code",
   "execution_count": null,
   "metadata": {},
   "outputs": [],
   "source": []
  },
  {
   "cell_type": "code",
   "execution_count": 94,
   "metadata": {},
   "outputs": [
    {
     "data": {
      "text/plain": [
       "matrix([[297],\n",
       "        [397],\n",
       "        [390],\n",
       "        [393],\n",
       "        [384]])"
      ]
     },
     "execution_count": 94,
     "metadata": {},
     "output_type": "execute_result"
    }
   ],
   "source": [
    "weighted_dist = diags(weight_rna).dot(rna_dist_full) + diags(weight_protein).dot(adt_dist_full)\n",
    "(weighted_dist[:5,]>0).sum(axis=1)"
   ]
  },
  {
   "cell_type": "code",
   "execution_count": 101,
   "metadata": {},
   "outputs": [],
   "source": [
    "i=0\n",
    "a = np.array(rna_dist_full[i,:].todense()).reshape(-1)\n",
    "b = np.array(adt_dist_full[i,:].todense()).reshape(-1)\n",
    "anonzero = a[a>0]\n",
    "bnonzero = b[b>0]"
   ]
  },
  {
   "cell_type": "code",
   "execution_count": 102,
   "metadata": {},
   "outputs": [
    {
     "data": {
      "text/plain": [
       "(0.6598352293694809, 0.5903218608531833)"
      ]
     },
     "execution_count": 102,
     "metadata": {},
     "output_type": "execute_result"
    }
   ],
   "source": [
    "anonzero[0], bnonzero[0]"
   ]
  },
  {
   "cell_type": "code",
   "execution_count": 106,
   "metadata": {},
   "outputs": [
    {
     "data": {
      "text/plain": [
       "(array([21152]),)"
      ]
     },
     "execution_count": 106,
     "metadata": {},
     "output_type": "execute_result"
    }
   ],
   "source": [
    "i = 0\n",
    "a = np.array(adt_dist_full[i,:].todense()).reshape(-1)*weight_protein[0]\n",
    "np.where(np.abs(a-0.05683479)<.00001)"
   ]
  },
  {
   "cell_type": "code",
   "execution_count": 107,
   "metadata": {},
   "outputs": [],
   "source": [
    "wrna = diags(weight_rna).dot(rna_dist_full)\n",
    "wprot = diags(weight_protein).dot(adt_dist_full)"
   ]
  },
  {
   "cell_type": "code",
   "execution_count": 108,
   "metadata": {},
   "outputs": [
    {
     "data": {
      "text/plain": [
       "0.05683478725363307"
      ]
     },
     "execution_count": 108,
     "metadata": {},
     "output_type": "execute_result"
    }
   ],
   "source": [
    "wprot[0,21152]"
   ]
  },
  {
   "cell_type": "code",
   "execution_count": 109,
   "metadata": {},
   "outputs": [
    {
     "data": {
      "text/plain": [
       "0.0"
      ]
     },
     "execution_count": 109,
     "metadata": {},
     "output_type": "execute_result"
    }
   ],
   "source": [
    "wrna[0,21152]"
   ]
  },
  {
   "cell_type": "code",
   "execution_count": null,
   "metadata": {},
   "outputs": [],
   "source": []
  },
  {
   "cell_type": "code",
   "execution_count": null,
   "metadata": {},
   "outputs": [],
   "source": []
  },
  {
   "cell_type": "code",
   "execution_count": null,
   "metadata": {},
   "outputs": [],
   "source": []
  },
  {
   "cell_type": "code",
   "execution_count": null,
   "metadata": {},
   "outputs": [],
   "source": []
  },
  {
   "cell_type": "code",
   "execution_count": 95,
   "metadata": {},
   "outputs": [
    {
     "data": {
      "text/plain": [
       "[0.035764655814418136,\n",
       " 0.05683478725363307,\n",
       " 0.2639380410047457,\n",
       " 0.3007475360707175,\n",
       " 0.3063440605265137,\n",
       " 0.3080613194659834,\n",
       " 0.3158676469976009,\n",
       " 0.32092553366474597,\n",
       " 0.3213622380738922,\n",
       " 0.32346633934222385,\n",
       " 0.32798094387687643,\n",
       " 0.3550573060772854,\n",
       " 0.35736247832225926,\n",
       " 0.3578325044921435,\n",
       " 0.36101183956873456,\n",
       " 0.3613610865619144,\n",
       " 0.3618580561008885,\n",
       " 0.3636036398570563,\n",
       " 0.3650023457526446,\n",
       " 0.37528153978216894,\n",
       " 0.3773549149838883,\n",
       " 0.3796482627068104,\n",
       " 0.3854039295516316,\n",
       " 0.38633106402580036,\n",
       " 0.3888536808658584,\n",
       " 0.389440305411134,\n",
       " 0.3932155454972853,\n",
       " 0.39414600598757465,\n",
       " 0.3948061093342202,\n",
       " 0.39761783528545236,\n",
       " 0.40062305803680254,\n",
       " 0.40090662752252626,\n",
       " 0.4039925886827465,\n",
       " 0.4066810055571931,\n",
       " 0.4067256440357656,\n",
       " 0.4078196623129323,\n",
       " 0.4130239738457225,\n",
       " 0.4130489753797073,\n",
       " 0.4138646948030026,\n",
       " 0.4142436304588333,\n",
       " 0.41438784863650185,\n",
       " 0.4159423196847623,\n",
       " 0.4193423857739945,\n",
       " 0.42013725296864657,\n",
       " 0.4208066549822459,\n",
       " 0.42094424321446344,\n",
       " 0.4217790799173592,\n",
       " 0.42326072495381806,\n",
       " 0.42477988017228296,\n",
       " 0.425290547064086,\n",
       " 0.42546200426786807,\n",
       " 0.4257010839614558,\n",
       " 0.426826149361332,\n",
       " 0.42750156016017066,\n",
       " 0.4284480657165498,\n",
       " 0.42941941306107745,\n",
       " 0.42966748255458526,\n",
       " 0.430558607038434,\n",
       " 0.43162507789989046,\n",
       " 0.43167904109257976,\n",
       " 0.4324221557180242,\n",
       " 0.43404136892671025,\n",
       " 0.4351975163469851,\n",
       " 0.44044561470037175,\n",
       " 0.4413809884976811,\n",
       " 0.4415993566939568,\n",
       " 0.4432860273407317,\n",
       " 0.4434947460312719,\n",
       " 0.44400461288000326,\n",
       " 0.44493583773965545,\n",
       " 0.4472970975455746,\n",
       " 0.4477502766001956,\n",
       " 0.45032959828124164,\n",
       " 0.4519792584218699,\n",
       " 0.45427722497870526,\n",
       " 0.45428501528005333,\n",
       " 0.455390260727197,\n",
       " 0.4560670467068615,\n",
       " 0.45639367502912886,\n",
       " 0.4581482523151821,\n",
       " 0.4597258974527336,\n",
       " 0.46250653192818225,\n",
       " 0.4642310977148649,\n",
       " 0.46743754413509164,\n",
       " 0.4699702488134435,\n",
       " 0.4711573494251764,\n",
       " 0.47221837019863533,\n",
       " 0.47254677185822663,\n",
       " 0.4736015224724358,\n",
       " 0.47440763433948463,\n",
       " 0.4760708229261802,\n",
       " 0.4765525342021523,\n",
       " 0.478209475876771,\n",
       " 0.47974369956655033,\n",
       " 0.47988104724350245,\n",
       " 0.4803294012030736,\n",
       " 0.4805598353429824,\n",
       " 0.4811560773305523,\n",
       " 0.481295814999988,\n",
       " 0.48139747558905854,\n",
       " 0.4835716140389721,\n",
       " 0.4860556351962303,\n",
       " 0.48743163435668835,\n",
       " 0.48968948474199636,\n",
       " 0.4897568012406009,\n",
       " 0.4898664992480194,\n",
       " 0.48997628638875523,\n",
       " 0.49323579621642744,\n",
       " 0.4932446540160387,\n",
       " 0.4935575547126734,\n",
       " 0.4941450708901073,\n",
       " 0.49428385801251895,\n",
       " 0.49453863500229883,\n",
       " 0.4949497028689692,\n",
       " 0.496975761467751,\n",
       " 0.5016266581226883,\n",
       " 0.5029735118113896,\n",
       " 0.5050808466682271,\n",
       " 0.505149803181485,\n",
       " 0.5064400666764254,\n",
       " 0.5065692204265408,\n",
       " 0.5067326052058664,\n",
       " 0.5070179195497362,\n",
       " 0.5074360340239024,\n",
       " 0.5081354132404226,\n",
       " 0.5083748032829776,\n",
       " 0.5088324405586546,\n",
       " 0.5091433728781409,\n",
       " 0.5102304133072151,\n",
       " 0.5107897098285341,\n",
       " 0.5128410245733369,\n",
       " 0.5139576955516661,\n",
       " 0.5153661303525692,\n",
       " 0.5155379393937717,\n",
       " 0.5156544775899211,\n",
       " 0.5170307815157229,\n",
       " 0.5176360666166857,\n",
       " 0.5178401322253542,\n",
       " 0.5191350773384636,\n",
       " 0.5202239481003643,\n",
       " 0.5217852575236165,\n",
       " 0.5222555733721124,\n",
       " 0.5250462036640124,\n",
       " 0.5254875135049308,\n",
       " 0.5262303674003929,\n",
       " 0.52635452993307,\n",
       " 0.52817550004149,\n",
       " 0.5285901860111686,\n",
       " 0.5287768398817292,\n",
       " 0.5290180328031857,\n",
       " 0.5305094486895734,\n",
       " 0.5336665459971238,\n",
       " 0.5344068772195365,\n",
       " 0.5346673081809202,\n",
       " 0.5360404356884281,\n",
       " 0.538241913868079,\n",
       " 0.5385951195721328,\n",
       " 0.5408201532490485,\n",
       " 0.5412573562450798,\n",
       " 0.5422247268091568,\n",
       " 0.5424930811040258,\n",
       " 0.5449618253435857,\n",
       " 0.545788883124646,\n",
       " 0.5486117971706852,\n",
       " 0.5490894553091337,\n",
       " 0.5490946719417331,\n",
       " 0.5493765664475755,\n",
       " 0.5511115777880212,\n",
       " 0.5524942272416168,\n",
       " 0.5569173418408836,\n",
       " 0.557579055888525,\n",
       " 0.5590262430300504,\n",
       " 0.5599476676360816,\n",
       " 0.5626650860101422,\n",
       " 0.5651525376129332,\n",
       " 0.5658129184308132,\n",
       " 0.5717893953501432,\n",
       " 0.5720570748320508,\n",
       " 0.5732944638123447,\n",
       " 0.5743072030045023,\n",
       " 0.5748261253890832,\n",
       " 0.5758504748840364,\n",
       " 0.5760594872684959,\n",
       " 0.5803809819079777,\n",
       " 0.5817996215116555,\n",
       " 0.5828122531199237,\n",
       " 0.5856068834083553,\n",
       " 0.5874868448225656,\n",
       " 0.58936676365314,\n",
       " 0.5894789028711152,\n",
       " 0.5904181290079381,\n",
       " 0.5926066281021857,\n",
       " 0.5967797137717168,\n",
       " 0.5970019549450881,\n",
       " 0.5970953905267865,\n",
       " 0.5976255805081896,\n",
       " 0.5984300481503231,\n",
       " 0.5985316035353978,\n",
       " 0.5987192972347328,\n",
       " 0.5987610283493718,\n",
       " 0.5995544663161502,\n",
       " 0.5997815561629278,\n",
       " 0.6000142057486015,\n",
       " 0.6020419956914767,\n",
       " 0.6040649267691819,\n",
       " 0.6057677264238397,\n",
       " 0.6062019485590556,\n",
       " 0.6069393208076228,\n",
       " 0.6078056084660125,\n",
       " 0.6084940059462022,\n",
       " 0.6098864399603349,\n",
       " 0.6100245308835615,\n",
       " 0.6100476988123744,\n",
       " 0.6108465116322666,\n",
       " 0.6116623102663669,\n",
       " 0.6121730784253182,\n",
       " 0.6136020479792537,\n",
       " 0.6141583770082091,\n",
       " 0.6152418728757473,\n",
       " 0.6179902920046609,\n",
       " 0.6182299790409084,\n",
       " 0.6241956743485435,\n",
       " 0.6250589427539768,\n",
       " 0.627615156212553,\n",
       " 0.6296861582821389,\n",
       " 0.6297104653046789,\n",
       " 0.6301912941356086,\n",
       " 0.6306668013190284,\n",
       " 0.6331855342067942,\n",
       " 0.6337892918762236,\n",
       " 0.6344396685994194,\n",
       " 0.6400953072952887,\n",
       " 0.6404996432142565,\n",
       " 0.6419532727108264,\n",
       " 0.6429409503391783,\n",
       " 0.6436159714786139,\n",
       " 0.6442080027723831,\n",
       " 0.6445405618003315,\n",
       " 0.6448118751156873,\n",
       " 0.6454786984242369,\n",
       " 0.6457651315252989,\n",
       " 0.6458511489796893,\n",
       " 0.6486628307910469,\n",
       " 0.6524586228999154,\n",
       " 0.6592065487190928,\n",
       " 0.6634016388294048,\n",
       " 0.6650762075354919,\n",
       " 0.6650895366520937,\n",
       " 0.6653792453678365,\n",
       " 0.6669254738794523,\n",
       " 0.6688632713053275,\n",
       " 0.6697779805185904,\n",
       " 0.6702680026380604,\n",
       " 0.6711070021283602,\n",
       " 0.672925723488244,\n",
       " 0.6756932693048061,\n",
       " 0.6759273975706246,\n",
       " 0.6826367655854211,\n",
       " 0.6827933092655514,\n",
       " 0.688531853322849,\n",
       " 0.6885733997157604,\n",
       " 0.6888598805979065,\n",
       " 0.6893697626919404,\n",
       " 0.694365149760533,\n",
       " 0.6963534804497091,\n",
       " 0.696853406201596,\n",
       " 0.6980733776190096,\n",
       " 0.6996019062680724,\n",
       " 0.7005252413529671,\n",
       " 0.7047840530748135,\n",
       " 0.7070891863335302,\n",
       " 0.7114884255636493,\n",
       " 0.7180961077611179,\n",
       " 0.7192147613166856,\n",
       " 0.7196801239185013,\n",
       " 0.7213299299248923,\n",
       " 0.729037524460634,\n",
       " 0.7291222091225142,\n",
       " 0.7304450840484318,\n",
       " 0.735215798783333,\n",
       " 0.7392122709715657,\n",
       " 0.7425436361679082,\n",
       " 0.7459097234189307,\n",
       " 0.7467941783118812,\n",
       " 0.748667131379734,\n",
       " 0.7545199997399732,\n",
       " 0.7669899832403149,\n",
       " 0.7869708750261828,\n",
       " 0.787804575939104,\n",
       " 0.7906815519177357,\n",
       " 0.7992486965524046,\n",
       " 0.8089531780896614,\n",
       " 0.8152515749638416,\n",
       " 0.843785898567619,\n",
       " 0.8501601251381958,\n",
       " 0.9272002274931489,\n",
       " 0.9574767287508351]"
      ]
     },
     "execution_count": 95,
     "metadata": {},
     "output_type": "execute_result"
    }
   ],
   "source": [
    "i = 0\n",
    "a = np.array(weighted_dist[i,:].todense()).reshape(-1)\n",
    "sorted(a[a!=0])"
   ]
  },
  {
   "cell_type": "code",
   "execution_count": 90,
   "metadata": {},
   "outputs": [],
   "source": [
    "z = diags(weight_rna).dot(rna_dist_full)\n",
    "z = diags(weight_protein).dot(adt_dist_full)"
   ]
  },
  {
   "cell_type": "code",
   "execution_count": 91,
   "metadata": {},
   "outputs": [
    {
     "data": {
      "text/plain": [
       "[0.011974473617394852,\n",
       " 0.045796434734490916,\n",
       " 0.056811778118350274,\n",
       " 0.05683478725363307,\n",
       " 0.06516632211359492,\n",
       " 0.0947855499555626,\n",
       " 0.09552924156893396,\n",
       " 0.10885247922507095,\n",
       " 0.11832358920775352,\n",
       " 0.12761665664330604,\n",
       " 0.13175790635572676,\n",
       " 0.13201330304699502,\n",
       " 0.1384977168622843,\n",
       " 0.1415291542220021,\n",
       " 0.14423783517356206,\n",
       " 0.14772241346175685,\n",
       " 0.15175952107055887,\n",
       " 0.152095900900853,\n",
       " 0.1525572008752437,\n",
       " 0.1567953218606122,\n",
       " 0.15882620894478292,\n",
       " 0.15933145555871242,\n",
       " 0.15946463848288714,\n",
       " 0.16195728644931348,\n",
       " 0.16743167065616535,\n",
       " 0.1720008865138222,\n",
       " 0.1751737028987231,\n",
       " 0.17792487570567989,\n",
       " 0.17830575937520263,\n",
       " 0.18897616480033966,\n",
       " 0.18920028639783307,\n",
       " 0.1905609113230405,\n",
       " 0.1925486033846838,\n",
       " 0.19436366798704346,\n",
       " 0.1947794482368765,\n",
       " 0.19524954550064744,\n",
       " 0.19544650439823008,\n",
       " 0.19876286791931988,\n",
       " 0.20226078347298868,\n",
       " 0.20557511491494607,\n",
       " 0.20777673905519536,\n",
       " 0.20794965885015354,\n",
       " 0.20977791456949688,\n",
       " 0.2109550694409544,\n",
       " 0.21293152097215018,\n",
       " 0.21402280095921172,\n",
       " 0.2180456056323583,\n",
       " 0.21829204602073188,\n",
       " 0.2189815112441583,\n",
       " 0.2204876946839097,\n",
       " 0.22092319219150364,\n",
       " 0.22094236165010625,\n",
       " 0.22111302134555513,\n",
       " 0.22192490743880036,\n",
       " 0.2231683981982896,\n",
       " 0.22466250893032672,\n",
       " 0.22540831882683374,\n",
       " 0.2256225070858367,\n",
       " 0.23026261287829397,\n",
       " 0.2312414838251886,\n",
       " 0.23148964677806957,\n",
       " 0.2319367697703225,\n",
       " 0.23409309570434805,\n",
       " 0.23470442057834945,\n",
       " 0.23569116377655353,\n",
       " 0.23613203047392708,\n",
       " 0.23620521875386782,\n",
       " 0.2380231569511049,\n",
       " 0.23810313606838143,\n",
       " 0.2385825911011379,\n",
       " 0.2415384001825356,\n",
       " 0.242769046163179,\n",
       " 0.24326388058380835,\n",
       " 0.24780355064396586,\n",
       " 0.25051778289027044,\n",
       " 0.2512968373093953,\n",
       " 0.25241255850106215,\n",
       " 0.25401707523878375,\n",
       " 0.25430303700384965,\n",
       " 0.25466809270876267,\n",
       " 0.2615832066427875,\n",
       " 0.2623581715510585,\n",
       " 0.2623594185300906,\n",
       " 0.26358085439742246,\n",
       " 0.2636587963566058,\n",
       " 0.2640444823764124,\n",
       " 0.2660279776026377,\n",
       " 0.26687681803746754,\n",
       " 0.2669395129918404,\n",
       " 0.26763303382952747,\n",
       " 0.27098287463947474,\n",
       " 0.27156640706799307,\n",
       " 0.27176536185340805,\n",
       " 0.27280679164057575,\n",
       " 0.27451288255783646,\n",
       " 0.27489794562448316,\n",
       " 0.2766378064172245,\n",
       " 0.2767344097241389,\n",
       " 0.27707195014934777,\n",
       " 0.2793224208585531,\n",
       " 0.27940059459110317,\n",
       " 0.27963270156728093,\n",
       " 0.28029198355505996,\n",
       " 0.28071032056015266,\n",
       " 0.2807486562505666,\n",
       " 0.2808676973252079,\n",
       " 0.2810917362058306,\n",
       " 0.2814581186925924,\n",
       " 0.2821069198846367,\n",
       " 0.2825197853836468,\n",
       " 0.2834729168141451,\n",
       " 0.2838522776195255,\n",
       " 0.283854094349253,\n",
       " 0.28462104453482695,\n",
       " 0.2849260742412187,\n",
       " 0.2852109578387816,\n",
       " 0.28522364002713474,\n",
       " 0.28552617136126945,\n",
       " 0.28675709587497306,\n",
       " 0.2867661206435238,\n",
       " 0.2875236221884061,\n",
       " 0.28765214387427096,\n",
       " 0.2884476443447346,\n",
       " 0.2889929513158685,\n",
       " 0.2904418554258116,\n",
       " 0.2904577618953292,\n",
       " 0.29129225948833876,\n",
       " 0.29213787713234984,\n",
       " 0.2922835427868929,\n",
       " 0.29263374022751815,\n",
       " 0.2935395449754316,\n",
       " 0.2940485935715017,\n",
       " 0.2940594318035232,\n",
       " 0.29481313033243584,\n",
       " 0.29529236046346696,\n",
       " 0.29540385863295876,\n",
       " 0.2960719705862345,\n",
       " 0.2970236989044051,\n",
       " 0.29720072503146816,\n",
       " 0.29752998576651246,\n",
       " 0.2980348975397102,\n",
       " 0.29830954950056093,\n",
       " 0.2983207675834987,\n",
       " 0.2989806245688604,\n",
       " 0.2992558195440095,\n",
       " 0.29934895749445634,\n",
       " 0.29938889611855296,\n",
       " 0.2994590049373832,\n",
       " 0.29962533311551376,\n",
       " 0.30113663493292203,\n",
       " 0.3026584510144491,\n",
       " 0.30269740568397396,\n",
       " 0.3034329825385733,\n",
       " 0.30434446309541124,\n",
       " 0.3048759014186747,\n",
       " 0.3051228761596618,\n",
       " 0.3053043368603389,\n",
       " 0.30540511240620605,\n",
       " 0.3055028900554282,\n",
       " 0.3060312767424119,\n",
       " 0.3064030064299431,\n",
       " 0.3066469359054402,\n",
       " 0.3086710202403775,\n",
       " 0.3088757246294959,\n",
       " 0.3098145183223046,\n",
       " 0.3105020032204216,\n",
       " 0.31139085525301696,\n",
       " 0.3122023124800337,\n",
       " 0.3124324696602657,\n",
       " 0.3133238639868939,\n",
       " 0.3134448726353118,\n",
       " 0.31396888035644427,\n",
       " 0.31433794697828976,\n",
       " 0.3144238670660643,\n",
       " 0.314756308970339,\n",
       " 0.3150900581115335,\n",
       " 0.31544060706064575,\n",
       " 0.3155750051991899,\n",
       " 0.31559211115347197,\n",
       " 0.31584681160726324,\n",
       " 0.31639130060779774,\n",
       " 0.3166037819485089,\n",
       " 0.31663902673767064,\n",
       " 0.31810131605388353,\n",
       " 0.31810829253943207,\n",
       " 0.31818407824418204,\n",
       " 0.3194857496470815,\n",
       " 0.31955913713261674,\n",
       " 0.32009351806018943,\n",
       " 0.3201209390145753,\n",
       " 0.32050747367645255,\n",
       " 0.3206012523575652,\n",
       " 0.32112255188008726,\n",
       " 0.3218020951692544,\n",
       " 0.32219443382578133,\n",
       " 0.322258904948521,\n",
       " 0.32294943768145545,\n",
       " 0.32313645798740015,\n",
       " 0.32369535042433933,\n",
       " 0.32507281401575033,\n",
       " 0.325408048015285,\n",
       " 0.32641746303911034,\n",
       " 0.327202918378214,\n",
       " 0.32793895856027916,\n",
       " 0.32846474571353595,\n",
       " 0.32923283121686203,\n",
       " 0.3293920105245598,\n",
       " 0.3298978992391022,\n",
       " 0.3303957284088126,\n",
       " 0.3304724669857294,\n",
       " 0.3306483285730888,\n",
       " 0.330718656416814,\n",
       " 0.33072674862919627,\n",
       " 0.33084450600741605,\n",
       " 0.33088146145247155,\n",
       " 0.3316169854299528,\n",
       " 0.33215183143057264,\n",
       " 0.3324992373845652,\n",
       " 0.3348041289394283,\n",
       " 0.33537938935889194,\n",
       " 0.34009201382746407,\n",
       " 0.3405857382959711,\n",
       " 0.3409764613516773,\n",
       " 0.3417279296277338,\n",
       " 0.34236393187680875,\n",
       " 0.3424494077065734,\n",
       " 0.3432910419836619,\n",
       " 0.3435799885293088,\n",
       " 0.3448948887571552,\n",
       " 0.34510159382386646,\n",
       " 0.3458100325526713,\n",
       " 0.3459371745264596,\n",
       " 0.34686218405351665,\n",
       " 0.3475755049935866,\n",
       " 0.3487187240142478,\n",
       " 0.3496067454893881,\n",
       " 0.3515211132622873,\n",
       " 0.35215070002025217,\n",
       " 0.35363349678112554,\n",
       " 0.3538790673653052,\n",
       " 0.35410468336250656,\n",
       " 0.35549222312510104,\n",
       " 0.3567349472170973,\n",
       " 0.35918609639056004,\n",
       " 0.3595554286879536,\n",
       " 0.36151194529227093,\n",
       " 0.36306211659883664,\n",
       " 0.36346704215163694,\n",
       " 0.36481863166618395,\n",
       " 0.36528954014249776,\n",
       " 0.3654634273252479,\n",
       " 0.3654779019735172,\n",
       " 0.3655521142303626,\n",
       " 0.36558511566866325,\n",
       " 0.36654612488464633,\n",
       " 0.3666029802305136,\n",
       " 0.36751904207320213,\n",
       " 0.3682825524538646,\n",
       " 0.3692111149641718,\n",
       " 0.37036446921060867,\n",
       " 0.37068211448215393,\n",
       " 0.37071581583419594,\n",
       " 0.37381106200653713,\n",
       " 0.3775193737552389,\n",
       " 0.3787956590495149,\n",
       " 0.3792783066919375,\n",
       " 0.3813350973922779,\n",
       " 0.38441925896376977,\n",
       " 0.3862595136768051,\n",
       " 0.38746307299828164,\n",
       " 0.38983202109107773,\n",
       " 0.391175431317348,\n",
       " 0.392798280243291,\n",
       " 0.3965820025586736,\n",
       " 0.40617673061976567,\n",
       " 0.40729633902389273,\n",
       " 0.4115037247854069,\n",
       " 0.41314845101858527,\n",
       " 0.4203894542676896,\n",
       " 0.4204522784381542,\n",
       " 0.42825299159626934,\n",
       " 0.42856775996503244,\n",
       " 0.4303813501941827,\n",
       " 0.43075866206747787,\n",
       " 0.4362007355627955,\n",
       " 0.43799091746729124,\n",
       " 0.44277081945905966,\n",
       " 0.45161354190229686,\n",
       " 0.4577057670376266,\n",
       " 0.4603038775291325,\n",
       " 0.4702493363766478,\n",
       " 0.472227213941187,\n",
       " 0.47731032521969674,\n",
       " 0.4773695338355072,\n",
       " 0.4983763732407803,\n",
       " 0.5112913199862512]"
      ]
     },
     "execution_count": 91,
     "metadata": {},
     "output_type": "execute_result"
    }
   ],
   "source": [
    "i = 0\n",
    "a = np.array(z[i,:].todense()).reshape(-1)\n",
    "sorted(a[a!=0])"
   ]
  },
  {
   "cell_type": "code",
   "execution_count": null,
   "metadata": {},
   "outputs": [],
   "source": []
  },
  {
   "cell_type": "code",
   "execution_count": null,
   "metadata": {},
   "outputs": [],
   "source": []
  },
  {
   "cell_type": "code",
   "execution_count": 74,
   "metadata": {},
   "outputs": [],
   "source": [
    "weighted_dist_full = diags(weight_rna).dot(rna_dist_full) + diags(weight_protein).dot(adt_dist_full)"
   ]
  },
  {
   "cell_type": "code",
   "execution_count": 85,
   "metadata": {},
   "outputs": [
    {
     "data": {
      "text/plain": [
       "[0.1624018751737937,\n",
       " 0.21669561317263064,\n",
       " 0.21974415311780332,\n",
       " 0.22088897403101804,\n",
       " 0.22266328455059697,\n",
       " 0.22297643871113815,\n",
       " 0.22645378667035,\n",
       " 0.22891414326205733,\n",
       " 0.23002917333188205,\n",
       " 0.23077896077704924,\n",
       " 0.23084505072952988,\n",
       " 0.2326367098118664,\n",
       " 0.23365881048558013,\n",
       " 0.23430688016920875,\n",
       " 0.23432631985024405,\n",
       " 0.23482324551685713,\n",
       " 0.23525551489680646,\n",
       " 0.2359690143409462,\n",
       " 0.24058490649917214,\n",
       " 0.2428198241886887]"
      ]
     },
     "execution_count": 85,
     "metadata": {},
     "output_type": "execute_result"
    }
   ],
   "source": [
    "i = 1\n",
    "a = np.array(weighted_dist_full[i,:].todense()).reshape(-1)\n",
    "sorted(a[a!=0])[:20]"
   ]
  },
  {
   "cell_type": "code",
   "execution_count": null,
   "metadata": {},
   "outputs": [],
   "source": [
    "3"
   ]
  },
  {
   "cell_type": "code",
   "execution_count": null,
   "metadata": {},
   "outputs": [],
   "source": []
  },
  {
   "cell_type": "code",
   "execution_count": null,
   "metadata": {},
   "outputs": [],
   "source": []
  },
  {
   "cell_type": "code",
   "execution_count": null,
   "metadata": {},
   "outputs": [],
   "source": []
  },
  {
   "cell_type": "code",
   "execution_count": null,
   "metadata": {},
   "outputs": [],
   "source": []
  },
  {
   "cell_type": "code",
   "execution_count": null,
   "metadata": {},
   "outputs": [],
   "source": [
    "np.where(np.array(union_adj_mat[0,:].todense()>0).reshape(-1))"
   ]
  },
  {
   "cell_type": "code",
   "execution_count": null,
   "metadata": {},
   "outputs": [],
   "source": [
    "i = 0\n",
    "a = np.array(rna_dist_full[i,:].todense()).reshape(-1)\n",
    "ind = np.array(union_adj_mat[i,:].todense()).reshape(-1)\n",
    "\n",
    "vals = np.where(ind)\n",
    "np.sort(a[a>0])*weight_rna[i]"
   ]
  },
  {
   "cell_type": "code",
   "execution_count": null,
   "metadata": {},
   "outputs": [],
   "source": [
    "i = 5\n",
    "j = 231\n",
    "a = np.array(rna_dist_full[i,:].todense()).reshape(-1)\n",
    "np.where(a!=0)"
   ]
  },
  {
   "cell_type": "code",
   "execution_count": null,
   "metadata": {},
   "outputs": [],
   "source": [
    "rna_dist_full[i,j]"
   ]
  },
  {
   "cell_type": "code",
   "execution_count": null,
   "metadata": {},
   "outputs": [],
   "source": [
    "rna_dist_full2[i,j]"
   ]
  },
  {
   "cell_type": "code",
   "execution_count": null,
   "metadata": {},
   "outputs": [],
   "source": [
    "np.exp(-1*rna_dist_full[i,j]/(rna_bw[i]-rna_dist_to_nn[i]))"
   ]
  },
  {
   "cell_type": "code",
   "execution_count": null,
   "metadata": {},
   "outputs": [],
   "source": []
  },
  {
   "cell_type": "code",
   "execution_count": null,
   "metadata": {},
   "outputs": [],
   "source": []
  },
  {
   "cell_type": "code",
   "execution_count": null,
   "metadata": {},
   "outputs": [],
   "source": []
  },
  {
   "cell_type": "code",
   "execution_count": null,
   "metadata": {},
   "outputs": [],
   "source": []
  },
  {
   "cell_type": "code",
   "execution_count": null,
   "metadata": {},
   "outputs": [],
   "source": []
  },
  {
   "cell_type": "code",
   "execution_count": null,
   "metadata": {},
   "outputs": [],
   "source": []
  },
  {
   "cell_type": "code",
   "execution_count": null,
   "metadata": {},
   "outputs": [],
   "source": []
  },
  {
   "cell_type": "code",
   "execution_count": null,
   "metadata": {},
   "outputs": [],
   "source": []
  },
  {
   "cell_type": "code",
   "execution_count": null,
   "metadata": {},
   "outputs": [],
   "source": []
  },
  {
   "cell_type": "code",
   "execution_count": null,
   "metadata": {},
   "outputs": [],
   "source": []
  },
  {
   "cell_type": "code",
   "execution_count": null,
   "metadata": {},
   "outputs": [],
   "source": []
  },
  {
   "cell_type": "code",
   "execution_count": null,
   "metadata": {},
   "outputs": [],
   "source": []
  },
  {
   "cell_type": "code",
   "execution_count": null,
   "metadata": {},
   "outputs": [],
   "source": []
  },
  {
   "cell_type": "code",
   "execution_count": null,
   "metadata": {},
   "outputs": [],
   "source": []
  },
  {
   "cell_type": "code",
   "execution_count": null,
   "metadata": {},
   "outputs": [],
   "source": []
  },
  {
   "cell_type": "code",
   "execution_count": null,
   "metadata": {},
   "outputs": [],
   "source": []
  },
  {
   "cell_type": "code",
   "execution_count": null,
   "metadata": {},
   "outputs": [],
   "source": []
  },
  {
   "cell_type": "code",
   "execution_count": null,
   "metadata": {},
   "outputs": [],
   "source": []
  },
  {
   "cell_type": "code",
   "execution_count": null,
   "metadata": {},
   "outputs": [],
   "source": []
  },
  {
   "cell_type": "code",
   "execution_count": null,
   "metadata": {},
   "outputs": [],
   "source": []
  },
  {
   "cell_type": "code",
   "execution_count": null,
   "metadata": {},
   "outputs": [],
   "source": []
  },
  {
   "cell_type": "code",
   "execution_count": null,
   "metadata": {},
   "outputs": [],
   "source": []
  },
  {
   "cell_type": "code",
   "execution_count": 317,
   "metadata": {},
   "outputs": [
    {
     "data": {
      "text/plain": [
       "<30672x30672 sparse matrix of type '<class 'numpy.float64'>'\n",
       "\twith 374349 stored elements in Compressed Sparse Row format>"
      ]
     },
     "execution_count": 317,
     "metadata": {},
     "output_type": "execute_result"
    }
   ],
   "source": [
    "rna_dist_full2"
   ]
  },
  {
   "cell_type": "code",
   "execution_count": 321,
   "metadata": {},
   "outputs": [
    {
     "data": {
      "text/plain": [
       "array([-0.41576513, -1.73676025, -0.46047762, -0.72682273, -0.72689809,\n",
       "       -1.07031298])"
      ]
     },
     "execution_count": 321,
     "metadata": {},
     "output_type": "execute_result"
    }
   ],
   "source": [
    "a = np.array(rna_dist_full2[0,:].todense()).reshape(-1)\n",
    "a[a!=0][:6]"
   ]
  },
  {
   "cell_type": "code",
   "execution_count": null,
   "metadata": {},
   "outputs": [],
   "source": []
  },
  {
   "cell_type": "code",
   "execution_count": 307,
   "metadata": {},
   "outputs": [
    {
     "data": {
      "text/plain": [
       "<30672x30672 sparse matrix of type '<class 'numpy.float64'>'\n",
       "\twith 374349 stored elements in Compressed Sparse Row format>"
      ]
     },
     "execution_count": 307,
     "metadata": {},
     "output_type": "execute_result"
    }
   ],
   "source": [
    "rna_dist_full"
   ]
  },
  {
   "cell_type": "code",
   "execution_count": 298,
   "metadata": {},
   "outputs": [
    {
     "data": {
      "text/plain": [
       "matrix([[-3.30391144,  0.        ,  0.        ,  0.        ,  0.        ],\n",
       "        [ 0.        , -2.4503864 ,  0.        ,  0.        ,  0.        ],\n",
       "        [ 0.        ,  0.        , -2.27010037,  0.        ,  0.        ],\n",
       "        [ 0.        ,  0.        ,  0.        , -2.23626864,  0.        ],\n",
       "        [ 0.        ,  0.        ,  0.        ,  0.        , -3.03046171]])"
      ]
     },
     "execution_count": 298,
     "metadata": {},
     "output_type": "execute_result"
    }
   ],
   "source": [
    "x = diags(-1 / (rna_bw - rna_dist_to_nn), format='csr')\n",
    "x.todense()[:5,:5]"
   ]
  },
  {
   "cell_type": "code",
   "execution_count": 299,
   "metadata": {},
   "outputs": [
    {
     "data": {
      "text/plain": [
       "3.3039114354105523"
      ]
     },
     "execution_count": 299,
     "metadata": {},
     "output_type": "execute_result"
    }
   ],
   "source": [
    "1/(rna_bw[0]-rna_dist_to_nn[0])"
   ]
  },
  {
   "cell_type": "code",
   "execution_count": 308,
   "metadata": {},
   "outputs": [
    {
     "data": {
      "text/plain": [
       "[]"
      ]
     },
     "execution_count": 308,
     "metadata": {},
     "output_type": "execute_result"
    }
   ],
   "source": [
    "a = np.array(rna_dist_full[0,:].todense()).reshape(-1)\n",
    "sorted(a[a>0])[:6]\n"
   ]
  },
  {
   "cell_type": "code",
   "execution_count": null,
   "metadata": {},
   "outputs": [],
   "source": []
  },
  {
   "cell_type": "code",
   "execution_count": null,
   "metadata": {},
   "outputs": [],
   "source": []
  },
  {
   "cell_type": "code",
   "execution_count": 290,
   "metadata": {},
   "outputs": [
    {
     "data": {
      "text/plain": [
       "[0.01804213591162812,\n",
       " 0.019062131968500984,\n",
       " 0.023164977149492616,\n",
       " 0.02553478190039371,\n",
       " 0.03353853741475088,\n",
       " 0.03772817591618349]"
      ]
     },
     "execution_count": 290,
     "metadata": {},
     "output_type": "execute_result"
    }
   ],
   "source": [
    "a = np.array(rna_dist_full[0,:].todense()).reshape(-1)\n",
    "sorted(a[a>0])[:6]\n"
   ]
  },
  {
   "cell_type": "code",
   "execution_count": 300,
   "metadata": {},
   "outputs": [
    {
     "data": {
      "text/plain": [
       "-0.05960961915765954"
      ]
     },
     "execution_count": 300,
     "metadata": {},
     "output_type": "execute_result"
    }
   ],
   "source": [
    "(-1*0.01804213591162812) / (rna_bw[0]-rna_dist_to_nn[0])"
   ]
  },
  {
   "cell_type": "code",
   "execution_count": 297,
   "metadata": {},
   "outputs": [
    {
     "data": {
      "text/plain": [
       "0.4591003555100548"
      ]
     },
     "execution_count": 297,
     "metadata": {},
     "output_type": "execute_result"
    }
   ],
   "source": [
    "np.exp((-1*0.01804213591162812) / (rna_bw[0]-rna_dist_to_nn[0]))*weight_rna[0]"
   ]
  },
  {
   "cell_type": "code",
   "execution_count": null,
   "metadata": {},
   "outputs": [],
   "source": []
  },
  {
   "cell_type": "code",
   "execution_count": null,
   "metadata": {},
   "outputs": [],
   "source": []
  },
  {
   "cell_type": "code",
   "execution_count": 296,
   "metadata": {},
   "outputs": [
    {
     "data": {
      "text/plain": [
       "0.48729926657803013"
      ]
     },
     "execution_count": 296,
     "metadata": {},
     "output_type": "execute_result"
    }
   ],
   "source": [
    "weight_rna[0]"
   ]
  },
  {
   "cell_type": "code",
   "execution_count": null,
   "metadata": {},
   "outputs": [],
   "source": []
  },
  {
   "cell_type": "markdown",
   "metadata": {},
   "source": [
    "## Compute weighted distance matrix"
   ]
  },
  {
   "cell_type": "code",
   "execution_count": 278,
   "metadata": {},
   "outputs": [],
   "source": [
    "adt_dist_full = csr_matrix(adt_dist_full)\n",
    "rna_dist_full = csr_matrix(rna_dist_full)"
   ]
  },
  {
   "cell_type": "raw",
   "metadata": {},
   "source": [
    "a = np.array(rna_dist_full[0, :].todense()).reshape(-1)\n",
    "b = np.array(rna_dist_full[1, :].todense()).reshape(-1)"
   ]
  },
  {
   "cell_type": "code",
   "execution_count": 252,
   "metadata": {},
   "outputs": [
    {
     "data": {
      "text/plain": [
       "array([0.44203006, 0.11796439, 0.42270114, 0.3238629 , 0.3238385 ,\n",
       "       0.22971285])"
      ]
     },
     "execution_count": 252,
     "metadata": {},
     "output_type": "execute_result"
    }
   ],
   "source": [
    "a[a>0][:6]"
   ]
  },
  {
   "cell_type": "raw",
   "metadata": {},
   "source": [
    "b[b>0][:6]"
   ]
  },
  {
   "cell_type": "code",
   "execution_count": 279,
   "metadata": {},
   "outputs": [],
   "source": []
  },
  {
   "cell_type": "code",
   "execution_count": null,
   "metadata": {},
   "outputs": [],
   "source": []
  },
  {
   "cell_type": "code",
   "execution_count": null,
   "metadata": {},
   "outputs": [],
   "source": []
  },
  {
   "cell_type": "code",
   "execution_count": null,
   "metadata": {},
   "outputs": [],
   "source": []
  },
  {
   "cell_type": "code",
   "execution_count": null,
   "metadata": {},
   "outputs": [],
   "source": []
  },
  {
   "cell_type": "code",
   "execution_count": 264,
   "metadata": {},
   "outputs": [
    {
     "data": {
      "text/plain": [
       "<30672x30672 sparse matrix of type '<class 'numpy.float64'>'\n",
       "\twith 375350 stored elements in Compressed Sparse Row format>"
      ]
     },
     "execution_count": 264,
     "metadata": {},
     "output_type": "execute_result"
    }
   ],
   "source": [
    "rna_dist_full_weighted = diags(weight_rna, format='csr').dot(rna_dist_full)\n",
    "adt_dist_full_weighted = diags(weight_protein, format='csr').dot(adt_dist_full)\n",
    "\n",
    "rna_dist_full_weighted"
   ]
  },
  {
   "cell_type": "code",
   "execution_count": 236,
   "metadata": {},
   "outputs": [],
   "source": [
    "a2 = np.array(rna_dist_full_weighted[0, :].todense()).reshape(-1)\n",
    "b2 = np.array(rna_dist_full_weighted[1, :].todense()).reshape(-1)"
   ]
  },
  {
   "cell_type": "code",
   "execution_count": 237,
   "metadata": {},
   "outputs": [
    {
     "data": {
      "text/plain": [
       "array([0.21540092, 0.05748396, 0.20598195, 0.15781815, 0.15780626,\n",
       "       0.1119389 ])"
      ]
     },
     "execution_count": 237,
     "metadata": {},
     "output_type": "execute_result"
    }
   ],
   "source": [
    "a2[a2>0][:6]"
   ]
  },
  {
   "cell_type": "code",
   "execution_count": 238,
   "metadata": {},
   "outputs": [
    {
     "data": {
      "text/plain": [
       "array([0.21540092, 0.05748396, 0.20598195, 0.15781815, 0.15780626,\n",
       "       0.1119389 ])"
      ]
     },
     "execution_count": 238,
     "metadata": {},
     "output_type": "execute_result"
    }
   ],
   "source": [
    "weight_rna[0]*a[a>0][:6]"
   ]
  },
  {
   "cell_type": "code",
   "execution_count": 239,
   "metadata": {},
   "outputs": [
    {
     "data": {
      "text/plain": [
       "array([0.10614856, 0.03202147, 0.11246375, 0.01645903, 0.12812735,\n",
       "       0.05220907])"
      ]
     },
     "execution_count": 239,
     "metadata": {},
     "output_type": "execute_result"
    }
   ],
   "source": [
    "b2[b2>0][:6]"
   ]
  },
  {
   "cell_type": "code",
   "execution_count": 240,
   "metadata": {},
   "outputs": [
    {
     "data": {
      "text/plain": [
       "array([0.10614856, 0.03202147, 0.11246375, 0.01645903, 0.12812735,\n",
       "       0.05220907])"
      ]
     },
     "execution_count": 240,
     "metadata": {},
     "output_type": "execute_result"
    }
   ],
   "source": [
    "weight_rna[1]*b[b>0][:6]"
   ]
  },
  {
   "cell_type": "code",
   "execution_count": 242,
   "metadata": {},
   "outputs": [],
   "source": [
    "combined_weighted_matrix = rna_dist_full_weighted+adt_dist_full_weighted"
   ]
  },
  {
   "cell_type": "code",
   "execution_count": 250,
   "metadata": {},
   "outputs": [
    {
     "data": {
      "text/plain": [
       "array([0.63968923, 0.5035372 , 0.51595403, 0.24917297, 0.51430648,\n",
       "       0.53968201])"
      ]
     },
     "execution_count": 250,
     "metadata": {},
     "output_type": "execute_result"
    }
   ],
   "source": [
    "a = np.array(combined_weighted_matrix[0,:].todense()).reshape(-1)\n",
    "a[a>0][:6]"
   ]
  },
  {
   "cell_type": "markdown",
   "metadata": {},
   "source": [
    "## Subset weighted matrix down to only the top K nearest neighbors"
   ]
  },
  {
   "cell_type": "code",
   "execution_count": null,
   "metadata": {},
   "outputs": [],
   "source": [
    "def only_topK_nns(distmat, n_neighbors=20):\n",
    "    indices = distmat.indices\n",
    "    indptr = distmat.indptr\n",
    "    data = distmat.data\n",
    "    Ncells = distmat.shape[0]\n",
    "    final_is = np.empty(Ncells*n_neighbors)\n",
    "    final_js = np.empty(Ncells*n_neighbors)\n",
    "    for i in range(final_is):\n",
    "        cols = indices[indptr[i]:indptr[i+1]]\n",
    "        rowvals = data[indptr[i]:indptr[i+1]]\n",
    "        idx = np.argsort(rowvals)\n",
    "        valssort = rowvals[idx]\n",
    "        numinset = len(cols)\n",
    "        if numinset<n_neighbors:\n",
    "            sys.exit('Fewer than 20 cells with Jacard sim > 0')\n",
    "        else:\n",
    "            curval = valssort[n_neighbors]\n",
    "            for num in range(n_neighbors, numinset):\n",
    "                if valssort[num]!=curval:\n",
    "                    break\n",
    "                else:\n",
    "                    num+=1\n",
    "            minjacinset = cols[idx][:num]\n",
    "            if num <n_neighbors:\n",
    "                print('shouldnt end up here')\n",
    "                sys.exit(-1)\n",
    "            else:\n",
    "                euc_dist = ((embedding[minjacinset,:]-embedding[i,:])**2).sum(axis=1)**.5\n",
    "                euc_dist_sorted = np.sort(euc_dist)[::-1]\n",
    "                bandwidth.append( np.mean(euc_dist_sorted[:n_neighbors]) )\n",
    "    return(np.array(bandwidth))"
   ]
  },
  {
   "cell_type": "code",
   "execution_count": 244,
   "metadata": {},
   "outputs": [
    {
     "data": {
      "text/plain": [
       "array([6.94459462e-310, 6.94459466e-310, 6.94459466e-310, 6.94459467e-310,\n",
       "       6.94459467e-310, 6.94459467e-310, 6.94459466e-310, 6.94459467e-310,\n",
       "       6.94459467e-310, 6.94459467e-310])"
      ]
     },
     "execution_count": 244,
     "metadata": {},
     "output_type": "execute_result"
    }
   ],
   "source": []
  },
  {
   "cell_type": "code",
   "execution_count": null,
   "metadata": {},
   "outputs": [],
   "source": []
  },
  {
   "cell_type": "code",
   "execution_count": null,
   "metadata": {},
   "outputs": [],
   "source": []
  },
  {
   "cell_type": "code",
   "execution_count": null,
   "metadata": {},
   "outputs": [],
   "source": []
  },
  {
   "cell_type": "code",
   "execution_count": null,
   "metadata": {},
   "outputs": [],
   "source": []
  },
  {
   "cell_type": "code",
   "execution_count": 189,
   "metadata": {},
   "outputs": [
    {
     "data": {
      "text/plain": [
       "array([0.35856377, 0.45807189, 0.33703748, ..., 0.18714753, 0.36418392,\n",
       "       0.36749977])"
      ]
     },
     "execution_count": 189,
     "metadata": {},
     "output_type": "execute_result"
    }
   ],
   "source": []
  },
  {
   "cell_type": "code",
   "execution_count": 191,
   "metadata": {},
   "outputs": [
    {
     "data": {
      "text/plain": [
       "[0.0,\n",
       " 0.010607214725777303,\n",
       " 0.04029737754555657,\n",
       " 0.046798276260486105,\n",
       " 0.0492331603005467]"
      ]
     },
     "execution_count": 191,
     "metadata": {},
     "output_type": "execute_result"
    }
   ],
   "source": [
    "ival = 5\n",
    "a = np.array(rna_dist_full[ival,:].todense()).reshape(-1)**.5\n",
    "ind = np.array(union_adj_mat[ival,:].todense()).reshape(-1)==1\n",
    "nonzeros = np.sort(a[ind])\n",
    "z = sorted(nonzeros-rna_dist_to_nn[ival])\n",
    "z[:5]"
   ]
  },
  {
   "cell_type": "code",
   "execution_count": 192,
   "metadata": {},
   "outputs": [
    {
     "data": {
      "text/plain": [
       "[0.0,\n",
       " 0.03475894832259896,\n",
       " 0.04617959435542335,\n",
       " 0.07191816109068447,\n",
       " 0.08381332430800978]"
      ]
     },
     "execution_count": 192,
     "metadata": {},
     "output_type": "execute_result"
    }
   ],
   "source": [
    "ival = 5\n",
    "a = np.array(adt_dist_full[ival,:].todense()).reshape(-1)**.5\n",
    "ind = np.array(union_adj_mat[ival,:].todense()).reshape(-1)==1\n",
    "nonzeros = np.sort(a[ind])\n",
    "z = sorted(nonzeros-adt_dist_to_nn[ival])\n",
    "z[:5]"
   ]
  },
  {
   "cell_type": "code",
   "execution_count": null,
   "metadata": {},
   "outputs": [],
   "source": []
  },
  {
   "cell_type": "code",
   "execution_count": null,
   "metadata": {},
   "outputs": [],
   "source": []
  },
  {
   "cell_type": "code",
   "execution_count": null,
   "metadata": {},
   "outputs": [],
   "source": []
  },
  {
   "cell_type": "code",
   "execution_count": null,
   "metadata": {},
   "outputs": [],
   "source": []
  },
  {
   "cell_type": "code",
   "execution_count": null,
   "metadata": {},
   "outputs": [],
   "source": []
  },
  {
   "cell_type": "code",
   "execution_count": null,
   "metadata": {},
   "outputs": [],
   "source": []
  },
  {
   "cell_type": "code",
   "execution_count": null,
   "metadata": {},
   "outputs": [],
   "source": []
  },
  {
   "cell_type": "code",
   "execution_count": null,
   "metadata": {},
   "outputs": [],
   "source": []
  },
  {
   "cell_type": "code",
   "execution_count": null,
   "metadata": {},
   "outputs": [],
   "source": []
  },
  {
   "cell_type": "code",
   "execution_count": null,
   "metadata": {},
   "outputs": [],
   "source": []
  },
  {
   "cell_type": "code",
   "execution_count": null,
   "metadata": {},
   "outputs": [],
   "source": []
  },
  {
   "cell_type": "code",
   "execution_count": 184,
   "metadata": {},
   "outputs": [
    {
     "name": "stdout",
     "output_type": "stream",
     "text": [
      "[list([1.0, 1.0, 1.0, 1.0, 1.0, 1.0, 1.0, 1.0, 1.0, 1.0, 1.0, 1.0, 1.0, 1.0, 1.0, 1.0, 1.0, 1.0, 1.0, 1.0, 1.0, 1.0, 1.0, 1.0, 1.0, 1.0, 1.0, 1.0, 1.0, 1.0, 1.0, 1.0, 1.0, 1.0, 1.0, 1.0, 1.0, 1.0, 1.0, 1.0, 1.0, 1.0, 1.0, 1.0, 1.0, 1.0, 1.0, 1.0, 1.0, 1.0, 1.0, 1.0, 1.0, 1.0, 1.0, 1.0, 1.0, 1.0, 1.0, 1.0, 1.0, 1.0, 1.0, 1.0, 1.0, 1.0, 1.0, 1.0, 1.0, 1.0, 1.0, 1.0, 1.0, 1.0, 1.0, 1.0, 1.0, 1.0, 1.0, 1.0, 1.0, 1.0, 1.0, 1.0, 1.0, 1.0, 1.0, 1.0, 1.0, 1.0, 1.0, 1.0, 1.0, 1.0, 1.0, 1.0, 1.0, 1.0, 1.0, 1.0, 1.0, 1.0, 1.0, 1.0, 1.0, 1.0, 1.0, 1.0, 1.0, 1.0, 1.0, 1.0, 1.0, 1.0, 1.0, 1.0, 1.0, 1.0, 1.0, 1.0, 1.0, 1.0, 1.0, 1.0, 1.0, 1.0, 1.0, 1.0, 1.0, 1.0, 1.0, 1.0, 1.0, 1.0, 1.0, 1.0, 1.0, 1.0, 1.0, 1.0, 1.0, 1.0, 1.0, 1.0, 1.0, 1.0, 1.0, 1.0, 1.0, 1.0, 1.0, 1.0, 1.0, 1.0, 1.0, 1.0, 1.0, 1.0, 1.0, 1.0, 1.0, 1.0, 1.0, 1.0, 1.0, 1.0, 1.0, 1.0, 1.0, 1.0, 1.0, 1.0, 1.0, 1.0, 1.0, 1.0, 1.0, 1.0, 1.0, 1.0, 1.0, 1.0, 1.0, 1.0, 1.0, 1.0, 1.0, 1.0, 1.0, 1.0, 1.0, 1.0, 1.0, 1.0, 1.0, 1.0, 1.0, 1.0, 1.0, 1.0, 1.0, 1.0, 1.0, 1.0, 1.0, 1.0, 1.0, 1.0, 1.0, 1.0, 1.0, 1.0, 1.0, 1.0, 1.0, 1.0, 1.0, 1.0, 1.0, 1.0, 1.0, 1.0, 1.0, 1.0, 1.0, 1.0, 1.0, 1.0, 1.0, 1.0, 1.0, 1.0, 1.0, 1.0, 1.0, 1.0, 1.0, 1.0, 1.0, 1.0, 1.0, 1.0, 1.0, 1.0, 1.0, 1.0, 1.0, 1.0, 1.0, 1.0, 1.0, 1.0, 1.0, 1.0, 1.0, 1.0, 1.0, 1.0, 1.0, 1.0, 1.0, 1.0, 1.0, 1.0, 1.0, 1.0, 1.0, 1.0, 1.0, 1.0, 1.0, 1.0, 1.0, 1.0, 1.0, 1.0, 1.0, 1.0, 1.0, 1.0, 1.0, 1.0, 1.0, 1.0, 1.0, 1.0, 1.0, 1.0, 1.0, 1.0, 1.0, 1.0, 1.0, 1.0, 1.0, 1.0, 1.0])\n",
      " list([1.0, 1.0, 1.0, 1.0, 1.0, 1.0, 1.0, 1.0, 1.0, 1.0, 1.0, 1.0, 1.0, 1.0, 1.0, 1.0, 1.0, 1.0, 1.0, 1.0, 1.0, 1.0, 1.0, 1.0, 1.0, 1.0, 1.0, 1.0, 1.0, 1.0, 1.0, 1.0, 1.0, 1.0, 1.0, 1.0, 1.0, 1.0, 1.0, 1.0, 1.0, 1.0, 1.0, 1.0, 1.0, 1.0, 1.0, 1.0, 1.0, 1.0, 1.0, 1.0, 1.0, 1.0, 1.0, 1.0, 1.0, 1.0, 1.0, 1.0, 1.0, 1.0, 1.0, 1.0, 1.0, 1.0, 1.0, 1.0, 1.0, 1.0, 1.0, 1.0, 1.0, 1.0, 1.0, 1.0, 1.0, 1.0, 1.0, 1.0, 1.0, 1.0, 1.0, 1.0, 1.0, 1.0, 1.0, 1.0, 1.0, 1.0, 1.0, 1.0, 1.0, 1.0, 1.0, 1.0, 1.0, 1.0, 1.0, 1.0, 1.0, 1.0, 1.0, 1.0, 1.0, 1.0, 1.0, 1.0, 1.0, 1.0, 1.0, 1.0, 1.0, 1.0, 1.0, 1.0, 1.0, 1.0, 1.0, 1.0, 1.0, 1.0, 1.0, 1.0, 1.0, 1.0, 1.0, 1.0, 1.0, 1.0, 1.0, 1.0, 1.0, 1.0, 1.0, 1.0, 1.0, 1.0, 1.0, 1.0, 1.0, 1.0, 1.0, 1.0, 1.0, 1.0, 1.0, 1.0, 1.0, 1.0, 1.0, 1.0, 1.0, 1.0, 1.0, 1.0, 1.0, 1.0, 1.0, 1.0, 1.0, 1.0, 1.0, 1.0, 1.0, 1.0, 1.0, 1.0, 1.0, 1.0, 1.0, 1.0, 1.0, 1.0, 1.0, 1.0, 1.0, 1.0, 1.0, 1.0, 1.0, 1.0, 1.0, 1.0, 1.0, 1.0, 1.0, 1.0, 1.0, 1.0, 1.0, 1.0, 1.0, 1.0, 1.0, 1.0, 1.0, 1.0, 1.0, 1.0, 1.0, 1.0, 1.0, 1.0, 1.0, 1.0, 1.0, 1.0, 1.0, 1.0, 1.0, 1.0, 1.0, 1.0, 1.0, 1.0, 1.0, 1.0, 1.0, 1.0, 1.0, 1.0, 1.0, 1.0, 1.0, 1.0, 1.0, 1.0, 1.0, 1.0, 1.0, 1.0, 1.0, 1.0, 1.0, 1.0, 1.0, 1.0, 1.0, 1.0, 1.0, 1.0, 1.0, 1.0, 1.0, 1.0, 1.0, 1.0, 1.0, 1.0, 1.0, 1.0, 1.0, 1.0, 1.0, 1.0, 1.0, 1.0, 1.0, 1.0, 1.0, 1.0, 1.0, 1.0, 1.0, 1.0, 1.0, 1.0, 1.0, 1.0, 1.0, 1.0, 1.0, 1.0, 1.0, 1.0, 1.0, 1.0, 1.0, 1.0, 1.0, 1.0, 1.0, 1.0, 1.0, 1.0, 1.0, 1.0, 1.0, 1.0, 1.0, 1.0, 1.0, 1.0, 1.0, 1.0, 1.0, 1.0, 1.0, 1.0, 1.0, 1.0, 1.0, 1.0, 1.0, 1.0, 1.0, 1.0, 1.0, 1.0, 1.0, 1.0, 1.0, 1.0, 1.0, 1.0, 1.0, 1.0, 1.0, 1.0, 1.0, 1.0, 1.0, 1.0, 1.0, 1.0, 1.0, 1.0, 1.0, 1.0, 1.0, 1.0, 1.0, 1.0, 1.0, 1.0, 1.0, 1.0, 1.0, 1.0, 1.0, 1.0, 1.0, 1.0, 1.0, 1.0, 1.0, 1.0, 1.0, 1.0, 1.0, 1.0, 1.0, 1.0, 1.0, 1.0, 1.0, 1.0, 1.0, 1.0, 1.0, 1.0, 1.0, 1.0, 1.0, 1.0, 1.0, 1.0, 1.0, 1.0, 1.0, 1.0, 1.0, 1.0, 1.0, 1.0, 1.0, 1.0, 1.0, 1.0, 1.0, 1.0, 1.0, 1.0, 1.0, 1.0, 1.0, 1.0, 1.0, 1.0, 1.0, 1.0, 1.0, 1.0, 1.0, 1.0, 1.0])\n",
      " list([1.0, 1.0, 1.0, 1.0, 1.0, 1.0, 1.0, 1.0, 1.0, 1.0, 1.0, 1.0, 1.0, 1.0, 1.0, 1.0, 1.0, 1.0, 1.0, 1.0, 1.0, 1.0, 1.0, 1.0, 1.0, 1.0, 1.0, 1.0, 1.0, 1.0, 1.0, 1.0, 1.0, 1.0, 1.0, 1.0, 1.0, 1.0, 1.0, 1.0, 1.0, 1.0, 1.0, 1.0, 1.0, 1.0, 1.0, 1.0, 1.0, 1.0, 1.0, 1.0, 1.0, 1.0, 1.0, 1.0, 1.0, 1.0, 1.0, 1.0, 1.0, 1.0, 1.0, 1.0, 1.0, 1.0, 1.0, 1.0, 1.0, 1.0, 1.0, 1.0, 1.0, 1.0, 1.0, 1.0, 1.0, 1.0, 1.0, 1.0, 1.0, 1.0, 1.0, 1.0, 1.0, 1.0, 1.0, 1.0, 1.0, 1.0, 1.0, 1.0, 1.0, 1.0, 1.0, 1.0, 1.0, 1.0, 1.0, 1.0, 1.0, 1.0, 1.0, 1.0, 1.0, 1.0, 1.0, 1.0, 1.0, 1.0, 1.0, 1.0, 1.0, 1.0, 1.0, 1.0, 1.0, 1.0, 1.0, 1.0, 1.0, 1.0, 1.0, 1.0, 1.0, 1.0, 1.0, 1.0, 1.0, 1.0, 1.0, 1.0, 1.0, 1.0, 1.0, 1.0, 1.0, 1.0, 1.0, 1.0, 1.0, 1.0, 1.0, 1.0, 1.0, 1.0, 1.0, 1.0, 1.0, 1.0, 1.0, 1.0, 1.0, 1.0, 1.0, 1.0, 1.0, 1.0, 1.0, 1.0, 1.0, 1.0, 1.0, 1.0, 1.0, 1.0, 1.0, 1.0, 1.0, 1.0, 1.0, 1.0, 1.0, 1.0, 1.0, 1.0, 1.0, 1.0, 1.0, 1.0, 1.0, 1.0, 1.0, 1.0, 1.0, 1.0, 1.0, 1.0, 1.0, 1.0, 1.0, 1.0, 1.0, 1.0, 1.0, 1.0, 1.0, 1.0, 1.0, 1.0, 1.0, 1.0, 1.0, 1.0, 1.0, 1.0, 1.0, 1.0, 1.0, 1.0, 1.0, 1.0, 1.0, 1.0, 1.0, 1.0, 1.0, 1.0, 1.0, 1.0, 1.0, 1.0, 1.0, 1.0, 1.0, 1.0, 1.0, 1.0, 1.0, 1.0, 1.0, 1.0, 1.0, 1.0, 1.0, 1.0, 1.0, 1.0, 1.0, 1.0, 1.0, 1.0, 1.0, 1.0, 1.0, 1.0, 1.0, 1.0, 1.0, 1.0, 1.0, 1.0, 1.0, 1.0, 1.0, 1.0, 1.0, 1.0, 1.0, 1.0, 1.0, 1.0, 1.0, 1.0, 1.0, 1.0, 1.0, 1.0, 1.0, 1.0, 1.0, 1.0, 1.0, 1.0, 1.0, 1.0, 1.0, 1.0, 1.0, 1.0, 1.0, 1.0, 1.0, 1.0, 1.0, 1.0, 1.0, 1.0, 1.0, 1.0, 1.0, 1.0, 1.0, 1.0, 1.0, 1.0, 1.0, 1.0, 1.0, 1.0, 1.0, 1.0, 1.0, 1.0, 1.0, 1.0, 1.0, 1.0, 1.0, 1.0, 1.0, 1.0, 1.0, 1.0, 1.0, 1.0, 1.0, 1.0, 1.0, 1.0, 1.0, 1.0, 1.0, 1.0, 1.0, 1.0, 1.0, 1.0, 1.0, 1.0, 1.0, 1.0, 1.0, 1.0, 1.0, 1.0, 1.0, 1.0, 1.0, 1.0, 1.0, 1.0, 1.0, 1.0, 1.0, 1.0, 1.0, 1.0, 1.0, 1.0, 1.0, 1.0, 1.0, 1.0, 1.0, 1.0, 1.0, 1.0, 1.0, 1.0, 1.0, 1.0, 1.0, 1.0, 1.0, 1.0, 1.0, 1.0, 1.0, 1.0, 1.0, 1.0, 1.0, 1.0, 1.0, 1.0, 1.0, 1.0, 1.0, 1.0, 1.0, 1.0, 1.0, 1.0, 1.0, 1.0, 1.0, 1.0, 1.0, 1.0])\n",
      " list([1.0, 1.0, 1.0, 1.0, 1.0, 1.0, 1.0, 1.0, 1.0, 1.0, 1.0, 1.0, 1.0, 1.0, 1.0, 1.0, 1.0, 1.0, 1.0, 1.0, 1.0, 1.0, 1.0, 1.0, 1.0, 1.0, 1.0, 1.0, 1.0, 1.0, 1.0, 1.0, 1.0, 1.0, 1.0, 1.0, 1.0, 1.0, 1.0, 1.0, 1.0, 1.0, 1.0, 1.0, 1.0, 1.0, 1.0, 1.0, 1.0, 1.0, 1.0, 1.0, 1.0, 1.0, 1.0, 1.0, 1.0, 1.0, 1.0, 1.0, 1.0, 1.0, 1.0, 1.0, 1.0, 1.0, 1.0, 1.0, 1.0, 1.0, 1.0, 1.0, 1.0, 1.0, 1.0, 1.0, 1.0, 1.0, 1.0, 1.0, 1.0, 1.0, 1.0, 1.0, 1.0, 1.0, 1.0, 1.0, 1.0, 1.0, 1.0, 1.0, 1.0, 1.0, 1.0, 1.0, 1.0, 1.0, 1.0, 1.0, 1.0, 1.0, 1.0, 1.0, 1.0, 1.0, 1.0, 1.0, 1.0, 1.0, 1.0, 1.0, 1.0, 1.0, 1.0, 1.0, 1.0, 1.0, 1.0, 1.0, 1.0, 1.0, 1.0, 1.0, 1.0, 1.0, 1.0, 1.0, 1.0, 1.0, 1.0, 1.0, 1.0, 1.0, 1.0, 1.0, 1.0, 1.0, 1.0, 1.0, 1.0, 1.0, 1.0, 1.0, 1.0, 1.0, 1.0, 1.0, 1.0, 1.0, 1.0, 1.0, 1.0, 1.0, 1.0, 1.0, 1.0, 1.0, 1.0, 1.0, 1.0, 1.0, 1.0, 1.0, 1.0, 1.0, 1.0, 1.0, 1.0, 1.0, 1.0, 1.0, 1.0, 1.0, 1.0, 1.0, 1.0, 1.0, 1.0, 1.0, 1.0, 1.0, 1.0, 1.0, 1.0, 1.0, 1.0, 1.0, 1.0, 1.0, 1.0, 1.0, 1.0, 1.0, 1.0, 1.0, 1.0, 1.0, 1.0, 1.0, 1.0, 1.0, 1.0, 1.0, 1.0, 1.0, 1.0, 1.0, 1.0, 1.0, 1.0, 1.0, 1.0, 1.0, 1.0, 1.0, 1.0, 1.0, 1.0, 1.0, 1.0, 1.0, 1.0, 1.0, 1.0, 1.0, 1.0, 1.0, 1.0, 1.0, 1.0, 1.0, 1.0, 1.0, 1.0, 1.0, 1.0, 1.0, 1.0, 1.0, 1.0, 1.0, 1.0, 1.0, 1.0, 1.0, 1.0, 1.0, 1.0, 1.0, 1.0, 1.0, 1.0, 1.0, 1.0, 1.0, 1.0, 1.0, 1.0, 1.0, 1.0, 1.0, 1.0, 1.0, 1.0, 1.0, 1.0, 1.0, 1.0, 1.0, 1.0, 1.0, 1.0, 1.0, 1.0, 1.0, 1.0, 1.0, 1.0, 1.0, 1.0, 1.0, 1.0, 1.0, 1.0, 1.0, 1.0, 1.0, 1.0, 1.0, 1.0, 1.0, 1.0, 1.0, 1.0, 1.0, 1.0, 1.0, 1.0, 1.0, 1.0, 1.0, 1.0, 1.0, 1.0, 1.0, 1.0, 1.0, 1.0, 1.0, 1.0, 1.0, 1.0, 1.0, 1.0, 1.0, 1.0, 1.0, 1.0, 1.0, 1.0, 1.0, 1.0, 1.0, 1.0, 1.0, 1.0, 1.0, 1.0, 1.0, 1.0, 1.0, 1.0, 1.0, 1.0, 1.0, 1.0, 1.0, 1.0, 1.0, 1.0, 1.0, 1.0, 1.0, 1.0, 1.0, 1.0, 1.0, 1.0, 1.0, 1.0, 1.0, 1.0, 1.0, 1.0, 1.0, 1.0, 1.0, 1.0, 1.0, 1.0, 1.0, 1.0, 1.0, 1.0, 1.0, 1.0, 1.0, 1.0, 1.0, 1.0, 1.0, 1.0, 1.0, 1.0, 1.0, 1.0, 1.0, 1.0, 1.0, 1.0, 1.0, 1.0, 1.0, 1.0, 1.0, 1.0, 1.0, 1.0, 1.0, 1.0, 1.0, 1.0])\n",
      " list([1.0, 1.0, 1.0, 1.0, 1.0, 1.0, 1.0, 1.0, 1.0, 1.0, 1.0, 1.0, 1.0, 1.0, 1.0, 1.0, 1.0, 1.0, 1.0, 1.0, 1.0, 1.0, 1.0, 1.0, 1.0, 1.0, 1.0, 1.0, 1.0, 1.0, 1.0, 1.0, 1.0, 1.0, 1.0, 1.0, 1.0, 1.0, 1.0, 1.0, 1.0, 1.0, 1.0, 1.0, 1.0, 1.0, 1.0, 1.0, 1.0, 1.0, 1.0, 1.0, 1.0, 1.0, 1.0, 1.0, 1.0, 1.0, 1.0, 1.0, 1.0, 1.0, 1.0, 1.0, 1.0, 1.0, 1.0, 1.0, 1.0, 1.0, 1.0, 1.0, 1.0, 1.0, 1.0, 1.0, 1.0, 1.0, 1.0, 1.0, 1.0, 1.0, 1.0, 1.0, 1.0, 1.0, 1.0, 1.0, 1.0, 1.0, 1.0, 1.0, 1.0, 1.0, 1.0, 1.0, 1.0, 1.0, 1.0, 1.0, 1.0, 1.0, 1.0, 1.0, 1.0, 1.0, 1.0, 1.0, 1.0, 1.0, 1.0, 1.0, 1.0, 1.0, 1.0, 1.0, 1.0, 1.0, 1.0, 1.0, 1.0, 1.0, 1.0, 1.0, 1.0, 1.0, 1.0, 1.0, 1.0, 1.0, 1.0, 1.0, 1.0, 1.0, 1.0, 1.0, 1.0, 1.0, 1.0, 1.0, 1.0, 1.0, 1.0, 1.0, 1.0, 1.0, 1.0, 1.0, 1.0, 1.0, 1.0, 1.0, 1.0, 1.0, 1.0, 1.0, 1.0, 1.0, 1.0, 1.0, 1.0, 1.0, 1.0, 1.0, 1.0, 1.0, 1.0, 1.0, 1.0, 1.0, 1.0, 1.0, 1.0, 1.0, 1.0, 1.0, 1.0, 1.0, 1.0, 1.0, 1.0, 1.0, 1.0, 1.0, 1.0, 1.0, 1.0, 1.0, 1.0, 1.0, 1.0, 1.0, 1.0, 1.0, 1.0, 1.0, 1.0, 1.0, 1.0, 1.0, 1.0, 1.0, 1.0, 1.0, 1.0, 1.0, 1.0, 1.0, 1.0, 1.0, 1.0, 1.0, 1.0, 1.0, 1.0, 1.0, 1.0, 1.0, 1.0, 1.0, 1.0, 1.0, 1.0, 1.0, 1.0, 1.0, 1.0, 1.0, 1.0, 1.0, 1.0, 1.0, 1.0, 1.0, 1.0, 1.0, 1.0, 1.0, 1.0, 1.0, 1.0, 1.0, 1.0, 1.0, 1.0, 1.0, 1.0, 1.0, 1.0, 1.0, 1.0, 1.0, 1.0, 1.0, 1.0, 1.0, 1.0, 1.0, 1.0, 1.0, 1.0, 1.0, 1.0, 1.0, 1.0, 1.0, 1.0, 1.0, 1.0, 1.0, 1.0, 1.0, 1.0, 1.0, 1.0, 1.0, 1.0, 1.0, 1.0, 1.0, 1.0, 1.0, 1.0, 1.0, 1.0, 1.0, 1.0, 1.0, 1.0, 1.0, 1.0, 1.0, 1.0, 1.0, 1.0, 1.0, 1.0, 1.0, 1.0, 1.0, 1.0, 1.0, 1.0, 1.0, 1.0, 1.0, 1.0, 1.0, 1.0, 1.0, 1.0, 1.0, 1.0, 1.0, 1.0, 1.0, 1.0, 1.0, 1.0, 1.0, 1.0, 1.0, 1.0, 1.0, 1.0, 1.0, 1.0, 1.0, 1.0, 1.0, 1.0, 1.0, 1.0, 1.0, 1.0, 1.0, 1.0, 1.0, 1.0, 1.0, 1.0, 1.0, 1.0, 1.0, 1.0, 1.0, 1.0, 1.0, 1.0, 1.0, 1.0, 1.0, 1.0, 1.0, 1.0, 1.0, 1.0, 1.0, 1.0, 1.0, 1.0, 1.0, 1.0, 1.0, 1.0, 1.0, 1.0, 1.0, 1.0, 1.0, 1.0, 1.0, 1.0, 1.0, 1.0, 1.0, 1.0, 1.0, 1.0, 1.0, 1.0, 1.0, 1.0, 1.0])\n",
      " list([1.0, 1.0, 1.0, 1.0, 1.0, 1.0, 1.0, 1.0, 1.0, 1.0, 1.0, 1.0, 1.0, 1.0, 1.0, 1.0, 1.0, 1.0, 1.0, 1.0, 1.0, 1.0, 1.0, 1.0, 1.0, 1.0, 1.0, 1.0, 1.0, 1.0, 1.0, 1.0, 1.0, 1.0, 1.0, 1.0, 1.0, 1.0, 1.0, 1.0, 1.0, 1.0, 1.0, 1.0, 1.0, 1.0, 1.0, 1.0, 1.0, 1.0, 1.0, 1.0, 1.0, 1.0, 1.0, 1.0, 1.0, 1.0, 1.0, 1.0, 1.0, 1.0, 1.0, 1.0, 1.0, 1.0, 1.0, 1.0, 1.0, 1.0, 1.0, 1.0, 1.0, 1.0, 1.0, 1.0, 1.0, 1.0, 1.0, 1.0, 1.0, 1.0, 1.0, 1.0, 1.0, 1.0, 1.0, 1.0, 1.0, 1.0, 1.0, 1.0, 1.0, 1.0, 1.0, 1.0, 1.0, 1.0, 1.0, 1.0, 1.0, 1.0, 1.0, 1.0, 1.0, 1.0, 1.0, 1.0, 1.0, 1.0, 1.0, 1.0, 1.0, 1.0, 1.0, 1.0, 1.0, 1.0, 1.0, 1.0, 1.0, 1.0, 1.0, 1.0, 1.0, 1.0, 1.0, 1.0, 1.0, 1.0, 1.0, 1.0, 1.0, 1.0, 1.0, 1.0, 1.0, 1.0, 1.0, 1.0, 1.0, 1.0, 1.0, 1.0, 1.0, 1.0, 1.0, 1.0, 1.0, 1.0, 1.0, 1.0, 1.0, 1.0, 1.0, 1.0, 1.0, 1.0, 1.0, 1.0, 1.0, 1.0, 1.0, 1.0, 1.0, 1.0, 1.0, 1.0, 1.0, 1.0, 1.0, 1.0, 1.0, 1.0, 1.0, 1.0, 1.0, 1.0, 1.0, 1.0, 1.0, 1.0, 1.0, 1.0, 1.0, 1.0, 1.0, 1.0, 1.0, 1.0, 1.0, 1.0, 1.0, 1.0, 1.0, 1.0, 1.0, 1.0, 1.0, 1.0, 1.0, 1.0, 1.0, 1.0, 1.0, 1.0, 1.0, 1.0, 1.0, 1.0, 1.0, 1.0, 1.0, 1.0, 1.0, 1.0, 1.0, 1.0, 1.0, 1.0, 1.0, 1.0, 1.0, 1.0, 1.0, 1.0, 1.0, 1.0, 1.0, 1.0, 1.0, 1.0, 1.0, 1.0, 1.0, 1.0, 1.0, 1.0, 1.0, 1.0, 1.0, 1.0, 1.0, 1.0, 1.0, 1.0, 1.0, 1.0, 1.0, 1.0, 1.0, 1.0, 1.0, 1.0, 1.0, 1.0, 1.0, 1.0, 1.0, 1.0, 1.0, 1.0, 1.0, 1.0, 1.0, 1.0, 1.0, 1.0, 1.0, 1.0, 1.0, 1.0, 1.0, 1.0, 1.0, 1.0, 1.0, 1.0, 1.0, 1.0, 1.0, 1.0, 1.0, 1.0, 1.0, 1.0, 1.0, 1.0, 1.0, 1.0, 1.0, 1.0, 1.0, 1.0, 1.0, 1.0, 1.0, 1.0, 1.0, 1.0, 1.0, 1.0, 1.0, 1.0, 1.0, 1.0, 1.0, 1.0, 1.0, 1.0, 1.0, 1.0, 1.0, 1.0, 1.0, 1.0, 1.0, 1.0, 1.0, 1.0, 1.0, 1.0, 1.0, 1.0, 1.0, 1.0, 1.0, 1.0, 1.0, 1.0, 1.0, 1.0, 1.0, 1.0, 1.0, 1.0, 1.0, 1.0, 1.0, 1.0, 1.0, 1.0, 1.0, 1.0, 1.0, 1.0, 1.0, 1.0, 1.0, 1.0, 1.0, 1.0, 1.0, 1.0, 1.0, 1.0, 1.0, 1.0, 1.0, 1.0, 1.0, 1.0, 1.0, 1.0, 1.0])\n",
      " list([1.0, 1.0, 1.0, 1.0, 1.0, 1.0, 1.0, 1.0, 1.0, 1.0, 1.0, 1.0, 1.0, 1.0, 1.0, 1.0, 1.0, 1.0, 1.0, 1.0, 1.0, 1.0, 1.0, 1.0, 1.0, 1.0, 1.0, 1.0, 1.0, 1.0, 1.0, 1.0, 1.0, 1.0, 1.0, 1.0, 1.0, 1.0, 1.0, 1.0, 1.0, 1.0, 1.0, 1.0, 1.0, 1.0, 1.0, 1.0, 1.0, 1.0, 1.0, 1.0, 1.0, 1.0, 1.0, 1.0, 1.0, 1.0, 1.0, 1.0, 1.0, 1.0, 1.0, 1.0, 1.0, 1.0, 1.0, 1.0, 1.0, 1.0, 1.0, 1.0, 1.0, 1.0, 1.0, 1.0, 1.0, 1.0, 1.0, 1.0, 1.0, 1.0, 1.0, 1.0, 1.0, 1.0, 1.0, 1.0, 1.0, 1.0, 1.0, 1.0, 1.0, 1.0, 1.0, 1.0, 1.0, 1.0, 1.0, 1.0, 1.0, 1.0, 1.0, 1.0, 1.0, 1.0, 1.0, 1.0, 1.0, 1.0, 1.0, 1.0, 1.0, 1.0, 1.0, 1.0, 1.0, 1.0, 1.0, 1.0, 1.0, 1.0, 1.0, 1.0, 1.0, 1.0, 1.0, 1.0, 1.0, 1.0, 1.0, 1.0, 1.0, 1.0, 1.0, 1.0, 1.0, 1.0, 1.0, 1.0, 1.0, 1.0, 1.0, 1.0, 1.0, 1.0, 1.0, 1.0, 1.0, 1.0, 1.0, 1.0, 1.0, 1.0, 1.0, 1.0, 1.0, 1.0, 1.0, 1.0, 1.0, 1.0, 1.0, 1.0, 1.0, 1.0, 1.0, 1.0, 1.0, 1.0, 1.0, 1.0, 1.0, 1.0, 1.0, 1.0, 1.0, 1.0, 1.0, 1.0, 1.0, 1.0, 1.0, 1.0, 1.0, 1.0, 1.0, 1.0, 1.0, 1.0, 1.0, 1.0, 1.0, 1.0, 1.0, 1.0, 1.0, 1.0, 1.0, 1.0, 1.0, 1.0, 1.0, 1.0, 1.0, 1.0, 1.0, 1.0, 1.0, 1.0, 1.0, 1.0, 1.0, 1.0, 1.0, 1.0, 1.0, 1.0, 1.0, 1.0, 1.0, 1.0, 1.0, 1.0, 1.0, 1.0, 1.0, 1.0, 1.0, 1.0, 1.0, 1.0, 1.0, 1.0, 1.0, 1.0, 1.0, 1.0, 1.0, 1.0, 1.0, 1.0, 1.0, 1.0, 1.0, 1.0, 1.0, 1.0, 1.0, 1.0, 1.0, 1.0, 1.0, 1.0, 1.0, 1.0, 1.0, 1.0, 1.0, 1.0, 1.0, 1.0, 1.0, 1.0, 1.0, 1.0, 1.0, 1.0, 1.0, 1.0, 1.0, 1.0, 1.0, 1.0, 1.0, 1.0, 1.0, 1.0, 1.0, 1.0, 1.0, 1.0, 1.0, 1.0, 1.0, 1.0, 1.0, 1.0, 1.0, 1.0, 1.0, 1.0, 1.0, 1.0, 1.0, 1.0, 1.0, 1.0, 1.0, 1.0, 1.0, 1.0, 1.0, 1.0, 1.0, 1.0, 1.0, 1.0, 1.0, 1.0, 1.0, 1.0, 1.0, 1.0, 1.0, 1.0, 1.0, 1.0, 1.0, 1.0, 1.0, 1.0, 1.0, 1.0, 1.0, 1.0, 1.0, 1.0, 1.0, 1.0, 1.0, 1.0, 1.0, 1.0, 1.0, 1.0, 1.0, 1.0, 1.0, 1.0, 1.0, 1.0, 1.0, 1.0, 1.0, 1.0, 1.0, 1.0, 1.0, 1.0, 1.0, 1.0, 1.0, 1.0, 1.0, 1.0, 1.0, 1.0, 1.0, 1.0, 1.0, 1.0, 1.0, 1.0, 1.0, 1.0, 1.0, 1.0, 1.0, 1.0, 1.0, 1.0, 1.0, 1.0, 1.0, 1.0, 1.0, 1.0, 1.0, 1.0, 1.0, 1.0, 1.0, 1.0, 1.0])\n",
      " list([1.0, 1.0, 1.0, 1.0, 1.0, 1.0, 1.0, 1.0, 1.0, 1.0, 1.0, 1.0, 1.0, 1.0, 1.0, 1.0, 1.0, 1.0, 1.0, 1.0, 1.0, 1.0, 1.0, 1.0, 1.0, 1.0, 1.0, 1.0, 1.0, 1.0, 1.0, 1.0, 1.0, 1.0, 1.0, 1.0, 1.0, 1.0, 1.0, 1.0, 1.0, 1.0, 1.0, 1.0, 1.0, 1.0, 1.0, 1.0, 1.0, 1.0, 1.0, 1.0, 1.0, 1.0, 1.0, 1.0, 1.0, 1.0, 1.0, 1.0, 1.0, 1.0, 1.0, 1.0, 1.0, 1.0, 1.0, 1.0, 1.0, 1.0, 1.0, 1.0, 1.0, 1.0, 1.0, 1.0, 1.0, 1.0, 1.0, 1.0, 1.0, 1.0, 1.0, 1.0, 1.0, 1.0, 1.0, 1.0, 1.0, 1.0, 1.0, 1.0, 1.0, 1.0, 1.0, 1.0, 1.0, 1.0, 1.0, 1.0, 1.0, 1.0, 1.0, 1.0, 1.0, 1.0, 1.0, 1.0, 1.0, 1.0, 1.0, 1.0, 1.0, 1.0, 1.0, 1.0, 1.0, 1.0, 1.0, 1.0, 1.0, 1.0, 1.0, 1.0, 1.0, 1.0, 1.0, 1.0, 1.0, 1.0, 1.0, 1.0, 1.0, 1.0, 1.0, 1.0, 1.0, 1.0, 1.0, 1.0, 1.0, 1.0, 1.0, 1.0, 1.0, 1.0, 1.0, 1.0, 1.0, 1.0, 1.0, 1.0, 1.0, 1.0, 1.0, 1.0, 1.0, 1.0, 1.0, 1.0, 1.0, 1.0, 1.0, 1.0, 1.0, 1.0, 1.0, 1.0, 1.0, 1.0, 1.0, 1.0, 1.0, 1.0, 1.0, 1.0, 1.0, 1.0, 1.0, 1.0, 1.0, 1.0, 1.0, 1.0, 1.0, 1.0, 1.0, 1.0, 1.0, 1.0, 1.0, 1.0, 1.0, 1.0, 1.0, 1.0, 1.0, 1.0, 1.0, 1.0, 1.0, 1.0, 1.0, 1.0, 1.0, 1.0, 1.0, 1.0, 1.0, 1.0, 1.0, 1.0, 1.0, 1.0, 1.0, 1.0, 1.0, 1.0, 1.0, 1.0, 1.0, 1.0, 1.0, 1.0, 1.0, 1.0, 1.0, 1.0, 1.0, 1.0, 1.0, 1.0, 1.0, 1.0, 1.0, 1.0, 1.0, 1.0, 1.0, 1.0, 1.0, 1.0, 1.0, 1.0, 1.0, 1.0, 1.0, 1.0, 1.0, 1.0, 1.0, 1.0, 1.0, 1.0, 1.0, 1.0, 1.0, 1.0, 1.0, 1.0, 1.0, 1.0, 1.0, 1.0, 1.0, 1.0, 1.0, 1.0, 1.0, 1.0, 1.0, 1.0, 1.0, 1.0, 1.0, 1.0, 1.0, 1.0, 1.0, 1.0, 1.0, 1.0, 1.0, 1.0, 1.0, 1.0, 1.0, 1.0, 1.0, 1.0, 1.0, 1.0, 1.0, 1.0, 1.0, 1.0, 1.0, 1.0, 1.0, 1.0, 1.0, 1.0, 1.0, 1.0, 1.0, 1.0, 1.0, 1.0, 1.0, 1.0, 1.0, 1.0, 1.0, 1.0, 1.0, 1.0, 1.0, 1.0, 1.0, 1.0, 1.0, 1.0, 1.0, 1.0, 1.0, 1.0, 1.0, 1.0, 1.0, 1.0, 1.0, 1.0, 1.0, 1.0, 1.0, 1.0, 1.0, 1.0, 1.0, 1.0, 1.0, 1.0, 1.0, 1.0, 1.0, 1.0, 1.0, 1.0, 1.0, 1.0, 1.0, 1.0, 1.0, 1.0, 1.0, 1.0, 1.0, 1.0, 1.0, 1.0, 1.0, 1.0, 1.0, 1.0, 1.0, 1.0, 1.0, 1.0, 1.0, 1.0, 1.0, 1.0, 1.0, 1.0, 1.0, 1.0, 1.0, 1.0, 1.0, 1.0, 1.0, 1.0, 1.0, 1.0, 1.0, 1.0, 1.0, 1.0, 1.0, 1.0, 1.0])\n",
      " list([1.0, 1.0, 1.0, 1.0, 1.0, 1.0, 1.0, 1.0, 1.0, 1.0, 1.0, 1.0, 1.0, 1.0, 1.0, 1.0, 1.0, 1.0, 1.0, 1.0, 1.0, 1.0, 1.0, 1.0, 1.0, 1.0, 1.0, 1.0, 1.0, 1.0, 1.0, 1.0, 1.0, 1.0, 1.0, 1.0, 1.0, 1.0, 1.0, 1.0, 1.0, 1.0, 1.0, 1.0, 1.0, 1.0, 1.0, 1.0, 1.0, 1.0, 1.0, 1.0, 1.0, 1.0, 1.0, 1.0, 1.0, 1.0, 1.0, 1.0, 1.0, 1.0, 1.0, 1.0, 1.0, 1.0, 1.0, 1.0, 1.0, 1.0, 1.0, 1.0, 1.0, 1.0, 1.0, 1.0, 1.0, 1.0, 1.0, 1.0, 1.0, 1.0, 1.0, 1.0, 1.0, 1.0, 1.0, 1.0, 1.0, 1.0, 1.0, 1.0, 1.0, 1.0, 1.0, 1.0, 1.0, 1.0, 1.0, 1.0, 1.0, 1.0, 1.0, 1.0, 1.0, 1.0, 1.0, 1.0, 1.0, 1.0, 1.0, 1.0, 1.0, 1.0, 1.0, 1.0, 1.0, 1.0, 1.0, 1.0, 1.0, 1.0, 1.0, 1.0, 1.0, 1.0, 1.0, 1.0, 1.0, 1.0, 1.0, 1.0, 1.0, 1.0, 1.0, 1.0, 1.0, 1.0, 1.0, 1.0, 1.0, 1.0, 1.0, 1.0, 1.0, 1.0, 1.0, 1.0, 1.0, 1.0, 1.0, 1.0, 1.0, 1.0, 1.0, 1.0, 1.0, 1.0, 1.0, 1.0, 1.0, 1.0, 1.0, 1.0, 1.0, 1.0, 1.0, 1.0, 1.0, 1.0, 1.0, 1.0, 1.0, 1.0, 1.0, 1.0, 1.0, 1.0, 1.0, 1.0, 1.0, 1.0, 1.0, 1.0, 1.0, 1.0, 1.0, 1.0, 1.0, 1.0, 1.0, 1.0, 1.0, 1.0, 1.0, 1.0, 1.0, 1.0, 1.0, 1.0, 1.0, 1.0, 1.0, 1.0, 1.0, 1.0, 1.0, 1.0, 1.0, 1.0, 1.0, 1.0, 1.0, 1.0, 1.0, 1.0, 1.0, 1.0, 1.0, 1.0, 1.0, 1.0, 1.0, 1.0, 1.0, 1.0, 1.0, 1.0, 1.0, 1.0, 1.0, 1.0, 1.0, 1.0, 1.0, 1.0, 1.0, 1.0, 1.0, 1.0, 1.0, 1.0, 1.0, 1.0, 1.0, 1.0, 1.0, 1.0, 1.0, 1.0, 1.0, 1.0, 1.0, 1.0, 1.0, 1.0, 1.0, 1.0, 1.0, 1.0, 1.0, 1.0, 1.0, 1.0, 1.0, 1.0, 1.0, 1.0, 1.0, 1.0, 1.0, 1.0, 1.0, 1.0, 1.0, 1.0, 1.0, 1.0, 1.0, 1.0, 1.0, 1.0, 1.0, 1.0, 1.0, 1.0, 1.0, 1.0, 1.0, 1.0, 1.0, 1.0, 1.0, 1.0, 1.0, 1.0, 1.0, 1.0, 1.0, 1.0, 1.0, 1.0, 1.0, 1.0, 1.0, 1.0, 1.0, 1.0, 1.0, 1.0, 1.0, 1.0, 1.0, 1.0, 1.0, 1.0, 1.0, 1.0, 1.0, 1.0, 1.0, 1.0, 1.0, 1.0, 1.0, 1.0, 1.0, 1.0, 1.0, 1.0, 1.0, 1.0, 1.0, 1.0, 1.0, 1.0, 1.0, 1.0, 1.0, 1.0, 1.0, 1.0, 1.0, 1.0, 1.0, 1.0, 1.0, 1.0, 1.0, 1.0, 1.0, 1.0, 1.0, 1.0, 1.0, 1.0, 1.0, 1.0, 1.0, 1.0, 1.0, 1.0, 1.0, 1.0, 1.0, 1.0, 1.0, 1.0, 1.0, 1.0, 1.0, 1.0, 1.0, 1.0])\n",
      " list([1.0, 1.0, 1.0, 1.0, 1.0, 1.0, 1.0, 1.0, 1.0, 1.0, 1.0, 1.0, 1.0, 1.0, 1.0, 1.0, 1.0, 1.0, 1.0, 1.0, 1.0, 1.0, 1.0, 1.0, 1.0, 1.0, 1.0, 1.0, 1.0, 1.0, 1.0, 1.0, 1.0, 1.0, 1.0, 1.0, 1.0, 1.0, 1.0, 1.0, 1.0, 1.0, 1.0, 1.0, 1.0, 1.0, 1.0, 1.0, 1.0, 1.0, 1.0, 1.0, 1.0, 1.0, 1.0, 1.0, 1.0, 1.0, 1.0, 1.0, 1.0, 1.0, 1.0, 1.0, 1.0, 1.0, 1.0, 1.0, 1.0, 1.0, 1.0, 1.0, 1.0, 1.0, 1.0, 1.0, 1.0, 1.0, 1.0, 1.0, 1.0, 1.0, 1.0, 1.0, 1.0, 1.0, 1.0, 1.0, 1.0, 1.0, 1.0, 1.0, 1.0, 1.0, 1.0, 1.0, 1.0, 1.0, 1.0, 1.0, 1.0, 1.0, 1.0, 1.0, 1.0, 1.0, 1.0, 1.0, 1.0, 1.0, 1.0, 1.0, 1.0, 1.0, 1.0, 1.0, 1.0, 1.0, 1.0, 1.0, 1.0, 1.0, 1.0, 1.0, 1.0, 1.0, 1.0, 1.0, 1.0, 1.0, 1.0, 1.0, 1.0, 1.0, 1.0, 1.0, 1.0, 1.0, 1.0, 1.0, 1.0, 1.0, 1.0, 1.0, 1.0, 1.0, 1.0, 1.0, 1.0, 1.0, 1.0, 1.0, 1.0, 1.0, 1.0, 1.0, 1.0, 1.0, 1.0, 1.0, 1.0, 1.0, 1.0, 1.0, 1.0, 1.0, 1.0, 1.0, 1.0, 1.0, 1.0, 1.0, 1.0, 1.0, 1.0, 1.0, 1.0, 1.0, 1.0, 1.0, 1.0, 1.0, 1.0, 1.0, 1.0, 1.0, 1.0, 1.0, 1.0, 1.0, 1.0, 1.0, 1.0, 1.0, 1.0, 1.0, 1.0, 1.0, 1.0, 1.0, 1.0, 1.0, 1.0, 1.0, 1.0, 1.0, 1.0, 1.0, 1.0, 1.0, 1.0, 1.0, 1.0, 1.0, 1.0, 1.0, 1.0, 1.0, 1.0, 1.0, 1.0, 1.0, 1.0, 1.0, 1.0, 1.0, 1.0, 1.0, 1.0, 1.0, 1.0, 1.0, 1.0, 1.0, 1.0, 1.0, 1.0, 1.0, 1.0, 1.0, 1.0, 1.0, 1.0, 1.0, 1.0, 1.0, 1.0, 1.0, 1.0, 1.0, 1.0, 1.0, 1.0, 1.0, 1.0, 1.0, 1.0, 1.0, 1.0, 1.0, 1.0, 1.0, 1.0, 1.0, 1.0, 1.0, 1.0, 1.0, 1.0, 1.0, 1.0, 1.0, 1.0, 1.0, 1.0, 1.0, 1.0, 1.0, 1.0, 1.0, 1.0, 1.0, 1.0, 1.0, 1.0, 1.0, 1.0, 1.0, 1.0, 1.0, 1.0, 1.0, 1.0, 1.0, 1.0, 1.0, 1.0, 1.0, 1.0, 1.0, 1.0, 1.0, 1.0, 1.0, 1.0, 1.0, 1.0, 1.0, 1.0, 1.0, 1.0, 1.0, 1.0, 1.0, 1.0, 1.0, 1.0, 1.0, 1.0, 1.0, 1.0, 1.0, 1.0, 1.0, 1.0, 1.0, 1.0, 1.0, 1.0, 1.0, 1.0, 1.0, 1.0, 1.0, 1.0, 1.0, 1.0, 1.0, 1.0, 1.0, 1.0, 1.0, 1.0, 1.0, 1.0, 1.0, 1.0, 1.0, 1.0, 1.0, 1.0, 1.0, 1.0, 1.0, 1.0, 1.0, 1.0, 1.0, 1.0, 1.0, 1.0, 1.0, 1.0, 1.0, 1.0, 1.0, 1.0, 1.0, 1.0, 1.0, 1.0, 1.0, 1.0, 1.0, 1.0, 1.0, 1.0, 1.0, 1.0, 1.0, 1.0, 1.0, 1.0, 1.0, 1.0, 1.0, 1.0, 1.0, 1.0, 1.0, 1.0, 1.0, 1.0, 1.0, 1.0, 1.0])]\n"
     ]
    },
    {
     "ename": "TypeError",
     "evalue": "Expected list, got numpy.float64",
     "output_type": "error",
     "traceback": [
      "\u001b[0;31m---------------------------------------------------------------------------\u001b[0m",
      "\u001b[0;31mTypeError\u001b[0m                                 Traceback (most recent call last)",
      "\u001b[0;32m/tmp/ipykernel_29488/930016728.py\u001b[0m in \u001b[0;36m<module>\u001b[0;34m\u001b[0m\n\u001b[1;32m     19\u001b[0m \u001b[0;34m\u001b[0m\u001b[0m\n\u001b[1;32m     20\u001b[0m         \u001b[0ma3\u001b[0m \u001b[0;34m=\u001b[0m \u001b[0madt_dist_full\u001b[0m\u001b[0;34m.\u001b[0m\u001b[0mdata\u001b[0m\u001b[0;34m[\u001b[0m\u001b[0mj\u001b[0m\u001b[0;34m]\u001b[0m\u001b[0;34m\u001b[0m\u001b[0;34m\u001b[0m\u001b[0m\n\u001b[0;32m---> 21\u001b[0;31m         \u001b[0ma4\u001b[0m \u001b[0;34m=\u001b[0m \u001b[0madt_dist_full\u001b[0m\u001b[0;34m[\u001b[0m\u001b[0mi\u001b[0m\u001b[0;34m,\u001b[0m\u001b[0mcol\u001b[0m\u001b[0;34m]\u001b[0m\u001b[0;34m\u001b[0m\u001b[0;34m\u001b[0m\u001b[0m\n\u001b[0m\u001b[1;32m     22\u001b[0m \u001b[0;34m\u001b[0m\u001b[0m\n\u001b[1;32m     23\u001b[0m     \u001b[0;32mif\u001b[0m \u001b[0;34m(\u001b[0m\u001b[0mi\u001b[0m \u001b[0;34m%\u001b[0m \u001b[0;36m500\u001b[0m\u001b[0;34m)\u001b[0m \u001b[0;34m==\u001b[0m \u001b[0;36m0\u001b[0m\u001b[0;34m:\u001b[0m\u001b[0;34m\u001b[0m\u001b[0;34m\u001b[0m\u001b[0m\n",
      "\u001b[0;32m~/anaconda3/envs/py38/lib/python3.8/site-packages/scipy/sparse/lil.py\u001b[0m in \u001b[0;36m__getitem__\u001b[0;34m(self, key)\u001b[0m\n\u001b[1;32m    209\u001b[0m                 isinstance(key[1], INT_TYPES)):\n\u001b[1;32m    210\u001b[0m             \u001b[0;31m# lil_get1 handles validation for us.\u001b[0m\u001b[0;34m\u001b[0m\u001b[0;34m\u001b[0m\u001b[0;34m\u001b[0m\u001b[0m\n\u001b[0;32m--> 211\u001b[0;31m             \u001b[0;32mreturn\u001b[0m \u001b[0mself\u001b[0m\u001b[0;34m.\u001b[0m\u001b[0m_get_intXint\u001b[0m\u001b[0;34m(\u001b[0m\u001b[0;34m*\u001b[0m\u001b[0mkey\u001b[0m\u001b[0;34m)\u001b[0m\u001b[0;34m\u001b[0m\u001b[0;34m\u001b[0m\u001b[0m\n\u001b[0m\u001b[1;32m    212\u001b[0m         \u001b[0;31m# Everything else takes the normal path.\u001b[0m\u001b[0;34m\u001b[0m\u001b[0;34m\u001b[0m\u001b[0;34m\u001b[0m\u001b[0m\n\u001b[1;32m    213\u001b[0m         \u001b[0;32mreturn\u001b[0m \u001b[0mIndexMixin\u001b[0m\u001b[0;34m.\u001b[0m\u001b[0m__getitem__\u001b[0m\u001b[0;34m(\u001b[0m\u001b[0mself\u001b[0m\u001b[0;34m,\u001b[0m \u001b[0mkey\u001b[0m\u001b[0;34m)\u001b[0m\u001b[0;34m\u001b[0m\u001b[0;34m\u001b[0m\u001b[0m\n",
      "\u001b[0;32m~/anaconda3/envs/py38/lib/python3.8/site-packages/scipy/sparse/lil.py\u001b[0m in \u001b[0;36m_get_intXint\u001b[0;34m(self, row, col)\u001b[0m\n\u001b[1;32m    224\u001b[0m \u001b[0;34m\u001b[0m\u001b[0m\n\u001b[1;32m    225\u001b[0m     \u001b[0;32mdef\u001b[0m \u001b[0m_get_intXint\u001b[0m\u001b[0;34m(\u001b[0m\u001b[0mself\u001b[0m\u001b[0;34m,\u001b[0m \u001b[0mrow\u001b[0m\u001b[0;34m,\u001b[0m \u001b[0mcol\u001b[0m\u001b[0;34m)\u001b[0m\u001b[0;34m:\u001b[0m\u001b[0;34m\u001b[0m\u001b[0;34m\u001b[0m\u001b[0m\n\u001b[0;32m--> 226\u001b[0;31m         v = _csparsetools.lil_get1(self.shape[0], self.shape[1], self.rows,\n\u001b[0m\u001b[1;32m    227\u001b[0m                                    self.data, row, col)\n\u001b[1;32m    228\u001b[0m         \u001b[0;32mreturn\u001b[0m \u001b[0mself\u001b[0m\u001b[0;34m.\u001b[0m\u001b[0mdtype\u001b[0m\u001b[0;34m.\u001b[0m\u001b[0mtype\u001b[0m\u001b[0;34m(\u001b[0m\u001b[0mv\u001b[0m\u001b[0;34m)\u001b[0m\u001b[0;34m\u001b[0m\u001b[0;34m\u001b[0m\u001b[0m\n",
      "\u001b[0;32m_csparsetools.pyx\u001b[0m in \u001b[0;36mscipy.sparse._csparsetools.lil_get1\u001b[0;34m()\u001b[0m\n",
      "\u001b[0;32m_csparsetools.pyx\u001b[0m in \u001b[0;36mscipy.sparse._csparsetools.lil_get1\u001b[0;34m()\u001b[0m\n",
      "\u001b[0;31mTypeError\u001b[0m: Expected list, got numpy.float64"
     ]
    }
   ],
   "source": [
    "rna_dist_full = lil_matrix(union_adj_mat.copy().astype(float))\n",
    "adt_dist_full = lil_matrix(union_adj_mat.copy().astype(float))\n",
    "print(adt_dist_full.data[:10])\n",
    "import time\n",
    "tic = time.perf_counter()\n",
    "count = 0\n",
    "indices = union_adj_mat.indices\n",
    "indptr = union_adj_mat.indptr\n",
    "ncells = union_adj_mat.shape[0]\n",
    "count = 0\n",
    "for i in range(ncells):\n",
    "    for j in range(indptr[i], indptr[i+1]):\n",
    "        col = indices[j]\n",
    "        a1 = adt_dist_full.data[j]\n",
    "        a2 = adt_dist_full[i,col]\n",
    "        adt_dist_full.data[j] = ((adt_X_norm[i,:] - adt_X_norm[col,:])**2).sum()\n",
    "        rna_dist_full.data[j] = ((rna_X_norm[i,:] - rna_X_norm[col,:])**2).sum()\n",
    "        \n",
    "        \n",
    "        a3 = adt_dist_full.data[j]\n",
    "        a4 = adt_dist_full[i,col]\n",
    "\n",
    "    if (i % 500) == 0:\n",
    "        toc = time.perf_counter()\n",
    "        print('%d out of %d -%.2f seconds elapsed' % (i, ncells, toc-tic))\n"
   ]
  },
  {
   "cell_type": "code",
   "execution_count": 173,
   "metadata": {},
   "outputs": [
    {
     "data": {
      "text/plain": [
       "11"
      ]
     },
     "execution_count": 173,
     "metadata": {},
     "output_type": "execute_result"
    }
   ],
   "source": [
    "j"
   ]
  },
  {
   "cell_type": "code",
   "execution_count": 176,
   "metadata": {},
   "outputs": [],
   "source": [
    "adt_dist_full.data[j] = ((adt_X_norm[i,:] - adt_X_norm[col,:])**2).sum()"
   ]
  },
  {
   "cell_type": "code",
   "execution_count": 177,
   "metadata": {},
   "outputs": [
    {
     "data": {
      "text/plain": [
       "0"
      ]
     },
     "execution_count": 177,
     "metadata": {},
     "output_type": "execute_result"
    }
   ],
   "source": [
    "adt_dist_full.data[j]"
   ]
  },
  {
   "cell_type": "code",
   "execution_count": 170,
   "metadata": {},
   "outputs": [
    {
     "name": "stdout",
     "output_type": "stream",
     "text": [
      "[0 0 0 0 0 0 0 0 0 0]\n"
     ]
    }
   ],
   "source": [
    "print(adt_dist_full.data[:10])\n"
   ]
  },
  {
   "cell_type": "code",
   "execution_count": 171,
   "metadata": {},
   "outputs": [
    {
     "data": {
      "text/plain": [
       "0.09909928609255379"
      ]
     },
     "execution_count": 171,
     "metadata": {},
     "output_type": "execute_result"
    }
   ],
   "source": [
    "((adt_X_norm[i,:] - adt_X_norm[col,:])**2).sum()"
   ]
  },
  {
   "cell_type": "code",
   "execution_count": null,
   "metadata": {},
   "outputs": [],
   "source": []
  },
  {
   "cell_type": "code",
   "execution_count": 159,
   "metadata": {},
   "outputs": [
    {
     "data": {
      "text/plain": [
       "[-0.35856377476063833,\n",
       " -0.35856377476063833,\n",
       " -0.35856377476063833,\n",
       " -0.35856377476063833,\n",
       " -0.35856377476063833,\n",
       " -0.35856377476063833,\n",
       " -0.35856377476063833,\n",
       " -0.35856377476063833,\n",
       " -0.35856377476063833,\n",
       " -0.35856377476063833,\n",
       " -0.35856377476063833,\n",
       " -0.35856377476063833,\n",
       " -0.35856377476063833,\n",
       " -0.35856377476063833,\n",
       " -0.35856377476063833,\n",
       " -0.35856377476063833,\n",
       " -0.35856377476063833,\n",
       " -0.35856377476063833,\n",
       " -0.35856377476063833,\n",
       " -0.35856377476063833,\n",
       " -0.35856377476063833,\n",
       " -0.35856377476063833,\n",
       " -0.35856377476063833,\n",
       " -0.35856377476063833,\n",
       " -0.35856377476063833,\n",
       " -0.35856377476063833,\n",
       " -0.35856377476063833,\n",
       " -0.35856377476063833,\n",
       " -0.35856377476063833,\n",
       " -0.35856377476063833,\n",
       " -0.35856377476063833,\n",
       " -0.35856377476063833,\n",
       " -0.35856377476063833,\n",
       " -0.35856377476063833,\n",
       " -0.35856377476063833,\n",
       " -0.35856377476063833,\n",
       " -0.35856377476063833,\n",
       " -0.35856377476063833,\n",
       " -0.35856377476063833,\n",
       " -0.35856377476063833,\n",
       " -0.35856377476063833,\n",
       " -0.35856377476063833,\n",
       " -0.35856377476063833,\n",
       " -0.35856377476063833,\n",
       " -0.35856377476063833,\n",
       " -0.35856377476063833,\n",
       " -0.35856377476063833,\n",
       " -0.35856377476063833,\n",
       " -0.35856377476063833,\n",
       " -0.35856377476063833,\n",
       " -0.35856377476063833,\n",
       " -0.35856377476063833,\n",
       " -0.35856377476063833,\n",
       " -0.35856377476063833,\n",
       " -0.35856377476063833,\n",
       " -0.35856377476063833,\n",
       " -0.35856377476063833,\n",
       " -0.35856377476063833,\n",
       " -0.35856377476063833,\n",
       " -0.35856377476063833,\n",
       " -0.35856377476063833,\n",
       " -0.35856377476063833,\n",
       " -0.35856377476063833,\n",
       " -0.35856377476063833,\n",
       " -0.35856377476063833,\n",
       " -0.35856377476063833,\n",
       " -0.35856377476063833,\n",
       " -0.35856377476063833,\n",
       " -0.35856377476063833,\n",
       " -0.35856377476063833,\n",
       " -0.35856377476063833,\n",
       " -0.35856377476063833,\n",
       " -0.35856377476063833,\n",
       " -0.35856377476063833,\n",
       " -0.35856377476063833,\n",
       " -0.35856377476063833,\n",
       " -0.35856377476063833,\n",
       " -0.35856377476063833,\n",
       " -0.35856377476063833,\n",
       " -0.35856377476063833,\n",
       " -0.35856377476063833,\n",
       " -0.35856377476063833,\n",
       " -0.35856377476063833,\n",
       " -0.35856377476063833,\n",
       " -0.35856377476063833,\n",
       " -0.35856377476063833,\n",
       " -0.35856377476063833,\n",
       " -0.35856377476063833,\n",
       " -0.35856377476063833,\n",
       " -0.35856377476063833,\n",
       " -0.35856377476063833,\n",
       " -0.35856377476063833,\n",
       " -0.35856377476063833,\n",
       " -0.35856377476063833,\n",
       " -0.35856377476063833,\n",
       " -0.35856377476063833,\n",
       " -0.35856377476063833,\n",
       " -0.35856377476063833,\n",
       " -0.35856377476063833,\n",
       " -0.35856377476063833,\n",
       " -0.35856377476063833,\n",
       " -0.35856377476063833,\n",
       " -0.35856377476063833,\n",
       " -0.35856377476063833,\n",
       " -0.35856377476063833,\n",
       " -0.35856377476063833,\n",
       " -0.35856377476063833,\n",
       " -0.35856377476063833,\n",
       " -0.35856377476063833,\n",
       " -0.35856377476063833,\n",
       " -0.35856377476063833,\n",
       " -0.35856377476063833,\n",
       " -0.35856377476063833,\n",
       " -0.35856377476063833,\n",
       " -0.35856377476063833,\n",
       " -0.35856377476063833,\n",
       " -0.35856377476063833,\n",
       " -0.35856377476063833,\n",
       " -0.35856377476063833,\n",
       " -0.35856377476063833,\n",
       " -0.35856377476063833,\n",
       " -0.35856377476063833,\n",
       " -0.35856377476063833,\n",
       " -0.35856377476063833,\n",
       " -0.35856377476063833,\n",
       " -0.35856377476063833,\n",
       " -0.35856377476063833,\n",
       " -0.35856377476063833,\n",
       " -0.35856377476063833,\n",
       " -0.35856377476063833,\n",
       " -0.35856377476063833,\n",
       " -0.35856377476063833,\n",
       " -0.35856377476063833,\n",
       " -0.35856377476063833,\n",
       " -0.35856377476063833,\n",
       " -0.35856377476063833,\n",
       " -0.35856377476063833,\n",
       " -0.35856377476063833,\n",
       " -0.35856377476063833,\n",
       " -0.35856377476063833,\n",
       " -0.35856377476063833,\n",
       " -0.35856377476063833,\n",
       " -0.35856377476063833,\n",
       " -0.35856377476063833,\n",
       " -0.35856377476063833,\n",
       " -0.35856377476063833,\n",
       " -0.35856377476063833,\n",
       " -0.35856377476063833,\n",
       " -0.35856377476063833,\n",
       " -0.35856377476063833,\n",
       " -0.35856377476063833,\n",
       " -0.35856377476063833,\n",
       " -0.35856377476063833,\n",
       " -0.35856377476063833,\n",
       " -0.35856377476063833,\n",
       " -0.35856377476063833,\n",
       " -0.35856377476063833,\n",
       " -0.35856377476063833,\n",
       " -0.35856377476063833,\n",
       " -0.35856377476063833,\n",
       " -0.35856377476063833,\n",
       " -0.35856377476063833,\n",
       " -0.35856377476063833,\n",
       " -0.35856377476063833,\n",
       " -0.35856377476063833,\n",
       " -0.35856377476063833,\n",
       " -0.35856377476063833,\n",
       " -0.35856377476063833,\n",
       " -0.35856377476063833,\n",
       " -0.35856377476063833,\n",
       " -0.35856377476063833,\n",
       " -0.35856377476063833,\n",
       " -0.35856377476063833,\n",
       " -0.35856377476063833,\n",
       " -0.35856377476063833,\n",
       " -0.35856377476063833,\n",
       " -0.35856377476063833,\n",
       " -0.35856377476063833,\n",
       " -0.35856377476063833,\n",
       " -0.35856377476063833,\n",
       " -0.35856377476063833,\n",
       " -0.35856377476063833,\n",
       " -0.35856377476063833,\n",
       " -0.35856377476063833,\n",
       " -0.35856377476063833,\n",
       " -0.35856377476063833,\n",
       " -0.35856377476063833,\n",
       " -0.35856377476063833,\n",
       " -0.35856377476063833,\n",
       " -0.35856377476063833,\n",
       " -0.35856377476063833,\n",
       " -0.35856377476063833,\n",
       " -0.35856377476063833,\n",
       " -0.35856377476063833,\n",
       " -0.35856377476063833,\n",
       " -0.35856377476063833,\n",
       " -0.35856377476063833,\n",
       " -0.35856377476063833,\n",
       " -0.35856377476063833,\n",
       " -0.35856377476063833,\n",
       " -0.35856377476063833,\n",
       " -0.35856377476063833,\n",
       " -0.35856377476063833,\n",
       " -0.35856377476063833,\n",
       " -0.35856377476063833,\n",
       " -0.35856377476063833,\n",
       " -0.35856377476063833,\n",
       " -0.35856377476063833,\n",
       " -0.35856377476063833,\n",
       " -0.35856377476063833,\n",
       " -0.35856377476063833,\n",
       " -0.35856377476063833,\n",
       " -0.35856377476063833,\n",
       " -0.35856377476063833,\n",
       " -0.35856377476063833,\n",
       " -0.35856377476063833,\n",
       " -0.35856377476063833,\n",
       " -0.35856377476063833,\n",
       " -0.35856377476063833,\n",
       " -0.35856377476063833,\n",
       " -0.35856377476063833,\n",
       " -0.35856377476063833,\n",
       " -0.35856377476063833,\n",
       " -0.35856377476063833,\n",
       " -0.35856377476063833,\n",
       " -0.35856377476063833,\n",
       " -0.35856377476063833,\n",
       " -0.35856377476063833,\n",
       " -0.35856377476063833,\n",
       " -0.35856377476063833,\n",
       " -0.35856377476063833,\n",
       " -0.35856377476063833,\n",
       " -0.35856377476063833,\n",
       " -0.35856377476063833,\n",
       " -0.35856377476063833,\n",
       " -0.35856377476063833,\n",
       " -0.35856377476063833,\n",
       " -0.35856377476063833,\n",
       " -0.35856377476063833,\n",
       " -0.35856377476063833,\n",
       " -0.35856377476063833,\n",
       " -0.35856377476063833,\n",
       " -0.35856377476063833,\n",
       " -0.35856377476063833,\n",
       " -0.35856377476063833,\n",
       " -0.35856377476063833,\n",
       " -0.35856377476063833,\n",
       " -0.35856377476063833,\n",
       " -0.35856377476063833,\n",
       " -0.35856377476063833,\n",
       " -0.35856377476063833,\n",
       " -0.35856377476063833,\n",
       " -0.35856377476063833,\n",
       " -0.35856377476063833,\n",
       " -0.35856377476063833,\n",
       " -0.35856377476063833,\n",
       " -0.35856377476063833,\n",
       " -0.35856377476063833,\n",
       " -0.35856377476063833,\n",
       " -0.35856377476063833,\n",
       " -0.35856377476063833,\n",
       " -0.35856377476063833,\n",
       " -0.35856377476063833,\n",
       " -0.35856377476063833,\n",
       " -0.35856377476063833,\n",
       " -0.35856377476063833,\n",
       " -0.35856377476063833,\n",
       " -0.35856377476063833,\n",
       " -0.35856377476063833,\n",
       " -0.35856377476063833,\n",
       " -0.35856377476063833,\n",
       " -0.35856377476063833,\n",
       " -0.35856377476063833,\n",
       " -0.35856377476063833,\n",
       " -0.35856377476063833,\n",
       " -0.35856377476063833,\n",
       " -0.35856377476063833,\n",
       " -0.35856377476063833,\n",
       " -0.35856377476063833,\n",
       " -0.35856377476063833,\n",
       " -0.35856377476063833,\n",
       " -0.35856377476063833,\n",
       " -0.35856377476063833,\n",
       " -0.35856377476063833,\n",
       " -0.35856377476063833,\n",
       " 0.6414362252393617,\n",
       " 0.6414362252393617,\n",
       " 0.6414362252393617,\n",
       " 0.6414362252393617,\n",
       " 0.6414362252393617,\n",
       " 0.6414362252393617,\n",
       " 0.6414362252393617,\n",
       " 0.6414362252393617,\n",
       " 0.6414362252393617,\n",
       " 0.6414362252393617,\n",
       " 0.6414362252393617,\n",
       " 0.6414362252393617]"
      ]
     },
     "execution_count": 159,
     "metadata": {},
     "output_type": "execute_result"
    }
   ],
   "source": [
    "ival = 0\n",
    "a = np.array(rna_dist_full[ival,:].todense()).reshape(-1)**.5\n",
    "ind = np.array(union_adj_mat[ival,:].todense()).reshape(-1)==1\n",
    "nonzeros = np.sort(a[ind])\n",
    "z = sorted(nonzeros-0.35856377476063833)\n",
    "z"
   ]
  },
  {
   "cell_type": "code",
   "execution_count": 150,
   "metadata": {},
   "outputs": [
    {
     "data": {
      "text/plain": [
       "30672"
      ]
     },
     "execution_count": 150,
     "metadata": {},
     "output_type": "execute_result"
    }
   ],
   "source": [
    "union_adj_mat.shape[0]"
   ]
  },
  {
   "cell_type": "code",
   "execution_count": 108,
   "metadata": {},
   "outputs": [
    {
     "data": {
      "text/plain": [
       "array([0.35856377, 0.45807189, 0.33703748, ..., 0.18714753, 0.36418392,\n",
       "       0.36749977])"
      ]
     },
     "execution_count": 108,
     "metadata": {},
     "output_type": "execute_result"
    }
   ],
   "source": [
    "rna_dist_to_nn"
   ]
  },
  {
   "cell_type": "code",
   "execution_count": 103,
   "metadata": {},
   "outputs": [
    {
     "data": {
      "text/plain": [
       "array([0.12856798, 0.14183201, 0.14260133, 0.14571684, 0.1475317 ,\n",
       "       0.15374422, 0.15704731, 0.16175486, 0.16273857, 0.1652509 ,\n",
       "       0.16570661, 0.16572616, 0.16604427, 0.16621338, 0.1667692 ,\n",
       "       0.16764575, 0.16889024, 0.16982918, 0.17258116, 0.17288554,\n",
       "       0.17929274, 0.17936567, 0.17969539, 0.17984343, 0.18132108,\n",
       "       0.18284109, 0.18303698, 0.18513516, 0.18550961, 0.18640715,\n",
       "       0.18974555, 0.19084207, 0.19214495, 0.19488646, 0.19492806,\n",
       "       0.19537518, 0.19714007, 0.19784204, 0.19789855, 0.19896275,\n",
       "       0.1994815 , 0.20006718, 0.20087204, 0.20442178, 0.20493628,\n",
       "       0.20510251, 0.20618613, 0.2067258 , 0.20718352, 0.20812933,\n",
       "       0.21101437, 0.21123577, 0.21162855, 0.21323627, 0.21410565,\n",
       "       0.21535511, 0.21594194, 0.21947608, 0.22028332, 0.22130806,\n",
       "       0.22181833, 0.22246941, 0.22293294, 0.22354926, 0.22539541,\n",
       "       0.22586206, 0.22760537, 0.22814445, 0.23106802, 0.23126078,\n",
       "       0.23143291, 0.23300319, 0.23358822, 0.2339405 , 0.23441036,\n",
       "       0.23464728, 0.23561002, 0.23792664, 0.23831321, 0.2403072 ,\n",
       "       0.2408964 , 0.24114989, 0.24135591, 0.24241251, 0.24241894,\n",
       "       0.24348537, 0.24648465, 0.2467845 , 0.24789791, 0.24794151,\n",
       "       0.25131166, 0.25141789, 0.25197971, 0.25516601, 0.25551596,\n",
       "       0.25619296, 0.25690486, 0.25730171, 0.25804298, 0.25833672,\n",
       "       0.25945237, 0.26087317, 0.26144881, 0.26249059, 0.26316954,\n",
       "       0.26330971, 0.26566931, 0.27103458, 0.27126259, 0.27201881,\n",
       "       0.27232325, 0.2727399 , 0.27305845, 0.27449057, 0.27464145,\n",
       "       0.27471611, 0.27552548, 0.27626687, 0.27711416, 0.27723989,\n",
       "       0.27847014, 0.27889433, 0.27939579, 0.28050818, 0.28162611,\n",
       "       0.28234095, 0.28267199, 0.2826734 , 0.28383794, 0.28414473,\n",
       "       0.28668643, 0.28676448, 0.28686247, 0.28710486, 0.28936643,\n",
       "       0.29024939, 0.29064754, 0.2914031 , 0.29303265, 0.29313758,\n",
       "       0.29319243, 0.29335264, 0.29463286, 0.29511699, 0.29539686,\n",
       "       0.29791809, 0.29936039, 0.29978119, 0.30025452, 0.30228242,\n",
       "       0.30243302, 0.30341977, 0.30559974, 0.30703372, 0.30870175,\n",
       "       0.30872358, 0.30927998, 0.30946465, 0.31075737, 0.31078336,\n",
       "       0.31159181, 0.31245438, 0.31350803, 0.31444418, 0.31560353,\n",
       "       0.31638034, 0.31649291, 0.31664134, 0.31738135, 0.31784044,\n",
       "       0.3184117 , 0.32047901, 0.32061476, 0.32160693, 0.32183614,\n",
       "       0.32230101, 0.32357197, 0.32357763, 0.32360939, 0.32402506,\n",
       "       0.32460986, 0.3250216 , 0.32594125, 0.33028904, 0.33112933,\n",
       "       0.33114022, 0.33155658, 0.33211645, 0.33223847, 0.33248456,\n",
       "       0.33263673, 0.33335978, 0.33357495, 0.33472281, 0.3347492 ,\n",
       "       0.33894274, 0.34002537, 0.34284303, 0.34655171, 0.35162002,\n",
       "       0.35309248, 0.35615634, 0.36020345, 0.36314679, 0.36531216,\n",
       "       0.36903323, 0.37408955, 0.38294024, 0.38845833, 0.39773594,\n",
       "       0.39915282, 0.40491964, 0.40842984, 0.40879131, 0.41204462,\n",
       "       0.41387739, 0.41654638, 0.41921668, 0.42271272, 0.42477626,\n",
       "       0.43516702, 0.43659532, 0.44110723, 0.44638593, 0.45243244,\n",
       "       0.45636707, 0.45647516, 0.45743536, 0.4612141 , 0.46582954,\n",
       "       0.46785071, 0.47093152, 0.48063998, 0.48833485, 0.49809184,\n",
       "       0.50056222, 0.50390408, 0.50421519, 0.50491619, 0.50517033,\n",
       "       0.51766388, 0.52010038, 0.52446268, 0.52447627, 0.52973049,\n",
       "       0.54104824, 0.54226386, 0.5502315 , 0.55449197, 0.55519274,\n",
       "       0.57199852, 0.57235077, 0.57393839, 0.57457934, 0.57876231,\n",
       "       0.58190139, 0.58373166, 0.59053668, 0.60060037, 0.60234849,\n",
       "       0.6055828 , 0.61199553, 0.6122323 , 0.62536188, 0.62627044,\n",
       "       0.65940601, 0.662661  , 0.68058867, 0.68812837, 0.70011965,\n",
       "       0.72362684, 0.74004058, 0.76638258, 0.78186569, 0.80815945,\n",
       "       0.81465522, 0.83537824, 0.84248287, 0.84760182, 0.85429812,\n",
       "       0.87101073, 0.87508777, 0.88343139, 0.88396242, 0.91211748,\n",
       "       1.01054245, 1.1781068 , 1.2331791 , 1.3204702 , 1.35021774,\n",
       "       1.39999272, 1.42932018, 1.4789927 , 1.54559519, 1.56343789,\n",
       "       1.77620498, 1.81158195])"
      ]
     },
     "execution_count": 103,
     "metadata": {},
     "output_type": "execute_result"
    }
   ],
   "source": [
    "np.sort(nonzeros)"
   ]
  },
  {
   "cell_type": "code",
   "execution_count": 226,
   "metadata": {},
   "outputs": [
    {
     "data": {
      "text/plain": [
       "1"
      ]
     },
     "execution_count": 226,
     "metadata": {},
     "output_type": "execute_result"
    }
   ],
   "source": [
    "adt_dist_full[i, col] "
   ]
  },
  {
   "cell_type": "code",
   "execution_count": 100,
   "metadata": {},
   "outputs": [
    {
     "data": {
      "text/plain": [
       "[0.1285679805705978,\n",
       " 0.14183201195328712,\n",
       " 0.1426013254330046,\n",
       " 0.1457168400348663,\n",
       " 0.14753170122908804,\n",
       " 0.15374422321328637,\n",
       " 0.15704731017124057,\n",
       " 0.1617548624652841,\n",
       " 0.1627385674847273,\n",
       " 0.16525089661284018,\n",
       " 0.1657066087869783,\n",
       " 0.16572616069389118,\n",
       " 0.1660442670791081,\n",
       " 0.16621337849546264,\n",
       " 0.16676919731070855,\n",
       " 0.16764574675756613,\n",
       " 0.16889024432078245,\n",
       " 0.16982918003070072,\n",
       " 0.17258116447093036,\n",
       " 0.17288553576936344,\n",
       " 0.17929273825632105,\n",
       " 0.17936566967737858,\n",
       " 0.17969538689739514,\n",
       " 0.17984343402414682,\n",
       " 0.18132108018935789,\n",
       " 0.18284109250296857,\n",
       " 0.18303698096276738,\n",
       " 0.18513516382328699,\n",
       " 0.18550960868601454,\n",
       " 0.1864071450873714,\n",
       " 0.18974554694270213,\n",
       " 0.19084207351877241,\n",
       " 0.19214495453595093,\n",
       " 0.19488645750079645,\n",
       " 0.19492806363665918,\n",
       " 0.1953751827640495,\n",
       " 0.19714007484807353,\n",
       " 0.1978420353399706,\n",
       " 0.19789855178907953,\n",
       " 0.19896274776842693,\n",
       " 0.19948150054191477,\n",
       " 0.20006717855413053,\n",
       " 0.20087203514909982,\n",
       " 0.2044217790547227,\n",
       " 0.2049362787777447,\n",
       " 0.20510251260612775,\n",
       " 0.20618612983740284,\n",
       " 0.20672580156717416,\n",
       " 0.2071835239435424,\n",
       " 0.2081293266417272,\n",
       " 0.21101437094507303,\n",
       " 0.21123577444038977,\n",
       " 0.21162855408854198,\n",
       " 0.2132362729732111,\n",
       " 0.2141056544600317,\n",
       " 0.2153551121554668,\n",
       " 0.2159419376253221,\n",
       " 0.21947608417430914,\n",
       " 0.2202833155075889,\n",
       " 0.2213080605127047,\n",
       " 0.22181832827118658,\n",
       " 0.22246940945300606,\n",
       " 0.22293294264024074,\n",
       " 0.22354926409047202,\n",
       " 0.22539541231086935,\n",
       " 0.2258620587235623,\n",
       " 0.22760537463891944,\n",
       " 0.22814444814117946,\n",
       " 0.23106802241418947,\n",
       " 0.2312607751727044,\n",
       " 0.23143291381132602,\n",
       " 0.23300319045493487,\n",
       " 0.2335882176112741,\n",
       " 0.23394050114079395,\n",
       " 0.23441035628402238,\n",
       " 0.23464728459532017,\n",
       " 0.23561002302604497,\n",
       " 0.23792664127248203,\n",
       " 0.23831321096373673,\n",
       " 0.24030720398561708,\n",
       " 0.24089639514556982,\n",
       " 0.241149885596417,\n",
       " 0.2413559090456669,\n",
       " 0.24241251251441773,\n",
       " 0.24241894145237522,\n",
       " 0.24348536600560125,\n",
       " 0.246484652633835,\n",
       " 0.24678449521383036,\n",
       " 0.24789791308543851,\n",
       " 0.24794150581177052,\n",
       " 0.2513116644836083,\n",
       " 0.25141789148851174,\n",
       " 0.25197970637289135,\n",
       " 0.25516600852290294,\n",
       " 0.2555159606373316,\n",
       " 0.25619295632523903,\n",
       " 0.2569048561440392,\n",
       " 0.25730171411070174,\n",
       " 0.2580429845991909,\n",
       " 0.25833671647691414,\n",
       " 0.2594523740739418,\n",
       " 0.26087317034941937,\n",
       " 0.2614488054882848,\n",
       " 0.2624905879242649,\n",
       " 0.26316954283446575,\n",
       " 0.2633097124381868,\n",
       " 0.2656693114342779,\n",
       " 0.27103458325605556,\n",
       " 0.2712625871567413,\n",
       " 0.27201880741508544,\n",
       " 0.2723232545469792,\n",
       " 0.2727398987107871,\n",
       " 0.2730584499477226,\n",
       " 0.2744905732136239,\n",
       " 0.2746414469694194,\n",
       " 0.2747161050442355,\n",
       " 0.2755254775676799,\n",
       " 0.27626686659376715,\n",
       " 0.27711415965621355,\n",
       " 0.2772398912287086,\n",
       " 0.2784701379581599,\n",
       " 0.2788943296671107,\n",
       " 0.2793957927531642,\n",
       " 0.28050817900556446,\n",
       " 0.2816261074947903,\n",
       " 0.28234094845743896,\n",
       " 0.28267199138913673,\n",
       " 0.2826734039255996,\n",
       " 0.28383794141659036,\n",
       " 0.2841447257560462,\n",
       " 0.2866864280748043,\n",
       " 0.2867644785238461,\n",
       " 0.2868624748786589,\n",
       " 0.28710485832002164,\n",
       " 0.28936642565255166,\n",
       " 0.2902493851586855,\n",
       " 0.2906475364148975,\n",
       " 0.2914031019937541,\n",
       " 0.2930326549767569,\n",
       " 0.29313757662253553,\n",
       " 0.2931924309766842,\n",
       " 0.2933526361371123,\n",
       " 0.29463285837672964,\n",
       " 0.29511698873637326,\n",
       " 0.2953968593008763,\n",
       " 0.2979180920650827,\n",
       " 0.299360386276405,\n",
       " 0.2997811875614947,\n",
       " 0.3002545218024779,\n",
       " 0.3022824179688869,\n",
       " 0.3024330206162186,\n",
       " 0.3034197661065826,\n",
       " 0.30559974276868945,\n",
       " 0.3070337165157813,\n",
       " 0.3087017464920238,\n",
       " 0.30872357831360087,\n",
       " 0.30927998437461335,\n",
       " 0.30946464803121215,\n",
       " 0.31075736981550467,\n",
       " 0.3107833561438105,\n",
       " 0.3115918132182483,\n",
       " 0.3124543774247144,\n",
       " 0.3135080290035578,\n",
       " 0.3144441805196765,\n",
       " 0.3156035313436832,\n",
       " 0.316380341611131,\n",
       " 0.3164929095454154,\n",
       " 0.3166413403865799,\n",
       " 0.31738135013652596,\n",
       " 0.31784043834360215,\n",
       " 0.3184116970384259,\n",
       " 0.3204790099191616,\n",
       " 0.3206147596102089,\n",
       " 0.3216069260692794,\n",
       " 0.32183614271106337,\n",
       " 0.3223010120823958,\n",
       " 0.3235719658644078,\n",
       " 0.32357762705417853,\n",
       " 0.3236093927348084,\n",
       " 0.324025055400017,\n",
       " 0.32460985812388116,\n",
       " 0.32502160409165104,\n",
       " 0.32594125099057514,\n",
       " 0.3302890362920534,\n",
       " 0.3311293262021185,\n",
       " 0.33114021535056304,\n",
       " 0.3315565846341012,\n",
       " 0.33211644681673014,\n",
       " 0.33223846749736297,\n",
       " 0.3324845605743906,\n",
       " 0.3326367278537062,\n",
       " 0.3333597779183818,\n",
       " 0.3335749461205302,\n",
       " 0.33472280901539286,\n",
       " 0.33474920080176696,\n",
       " 0.3389427430834346,\n",
       " 0.3400253732872013,\n",
       " 0.3428430262806203,\n",
       " 0.34655170948690067,\n",
       " 0.35162002135944365,\n",
       " 0.35309247514617126,\n",
       " 0.3561563443329813,\n",
       " 0.36020345348225746,\n",
       " 0.363146793219441,\n",
       " 0.365312163900173,\n",
       " 0.3690332308721102,\n",
       " 0.37408954883674345,\n",
       " 0.38294023891019996,\n",
       " 0.38845833353011816,\n",
       " 0.397735935140931,\n",
       " 0.39915282245778677,\n",
       " 0.4049196390377201,\n",
       " 0.40842984094570245,\n",
       " 0.4087913135427935,\n",
       " 0.41204461596126785,\n",
       " 0.41387738824198556,\n",
       " 0.4165463793969181,\n",
       " 0.41921668120742694,\n",
       " 0.4227127196388284,\n",
       " 0.4247762636890271,\n",
       " 0.4351670234232525,\n",
       " 0.436595316917275,\n",
       " 0.44110722659154744,\n",
       " 0.44638593097906676,\n",
       " 0.4524324388446884,\n",
       " 0.4563670735637844,\n",
       " 0.4564751631569691,\n",
       " 0.4574353592497499,\n",
       " 0.46121409764265014,\n",
       " 0.4658295419638672,\n",
       " 0.46785071481242446,\n",
       " 0.4709315183997729,\n",
       " 0.48063997632822675,\n",
       " 0.48833485499170315,\n",
       " 0.49809183928814066,\n",
       " 0.5005622244593244,\n",
       " 0.5039040810460554,\n",
       " 0.5042151865356677,\n",
       " 0.5049161855280354,\n",
       " 0.5051703285309931,\n",
       " 0.5176638756001717,\n",
       " 0.5201003776837975,\n",
       " 0.5244626829460262,\n",
       " 0.5244762669263799,\n",
       " 0.5297304870722608,\n",
       " 0.5410482406422318,\n",
       " 0.5422638632935661,\n",
       " 0.5502315018739458,\n",
       " 0.554491974913284,\n",
       " 0.5551927393034769,\n",
       " 0.571998516523839,\n",
       " 0.5723507685190637,\n",
       " 0.5739383896430861,\n",
       " 0.5745793370086087,\n",
       " 0.5787623127549805,\n",
       " 0.5819013881328705,\n",
       " 0.583731658786255,\n",
       " 0.5905366765908308,\n",
       " 0.6006003671428547,\n",
       " 0.602348488060886,\n",
       " 0.6055828025856884,\n",
       " 0.6119955291460614,\n",
       " 0.6122322987679047,\n",
       " 0.6253618808964637,\n",
       " 0.6262704432154756,\n",
       " 0.6594060054954594,\n",
       " 0.6626610003958723,\n",
       " 0.6805886660580119,\n",
       " 0.6881283704368175,\n",
       " 0.7001196510401738,\n",
       " 0.7236268376090483,\n",
       " 0.7400405755733569,\n",
       " 0.7663825791082335,\n",
       " 0.7818656909952781,\n",
       " 0.8081594500651385,\n",
       " 0.8146552238792284,\n",
       " 0.8353782356787463,\n",
       " 0.8424828727941273,\n",
       " 0.8476018211875156,\n",
       " 0.8542981194750303,\n",
       " 0.8710107289225508,\n",
       " 0.8750877743765675,\n",
       " 0.8834313899098991,\n",
       " 0.8839624172274405,\n",
       " 0.9121174810397273,\n",
       " 1.0105424465460402,\n",
       " 1.1781067986425044,\n",
       " 1.2331791047869372,\n",
       " 1.3204702035813058,\n",
       " 1.3502177388868295,\n",
       " 1.3999927199769502,\n",
       " 1.4293201762571512,\n",
       " 1.4789926958797261,\n",
       " 1.5455951853476402,\n",
       " 1.5634378863020852,\n",
       " 1.776204982744336,\n",
       " 1.8115819497162446]"
      ]
     },
     "execution_count": 100,
     "metadata": {},
     "output_type": "execute_result"
    }
   ],
   "source": [
    "sorted(a[a>0])"
   ]
  },
  {
   "cell_type": "code",
   "execution_count": null,
   "metadata": {},
   "outputs": [],
   "source": []
  },
  {
   "cell_type": "code",
   "execution_count": null,
   "metadata": {},
   "outputs": [],
   "source": []
  },
  {
   "cell_type": "code",
   "execution_count": 221,
   "metadata": {},
   "outputs": [
    {
     "ename": "IndexError",
     "evalue": "invalid number of indices",
     "output_type": "error",
     "traceback": [
      "\u001b[0;31m---------------------------------------------------------------------------\u001b[0m",
      "\u001b[0;31mIndexError\u001b[0m                                Traceback (most recent call last)",
      "\u001b[0;32m/tmp/ipykernel_23977/757859217.py\u001b[0m in \u001b[0;36m<module>\u001b[0;34m\u001b[0m\n\u001b[0;32m----> 1\u001b[0;31m \u001b[0munion_adj_mat\u001b[0m\u001b[0;34m[\u001b[0m\u001b[0;34m:\u001b[0m\u001b[0;34m,\u001b[0m\u001b[0;34m:\u001b[0m\u001b[0;34m,\u001b[0m\u001b[0mnp\u001b[0m\u001b[0;34m.\u001b[0m\u001b[0mnewaxis\u001b[0m\u001b[0;34m]\u001b[0m \u001b[0;31m#.multiply(adt_X_norm.reshape(30672,1,18))\u001b[0m\u001b[0;34m\u001b[0m\u001b[0;34m\u001b[0m\u001b[0m\n\u001b[0m",
      "\u001b[0;32m~/anaconda3/envs/py38/lib/python3.8/site-packages/scipy/sparse/_index.py\u001b[0m in \u001b[0;36m__getitem__\u001b[0;34m(self, key)\u001b[0m\n\u001b[1;32m     31\u001b[0m     \"\"\"\n\u001b[1;32m     32\u001b[0m     \u001b[0;32mdef\u001b[0m \u001b[0m__getitem__\u001b[0m\u001b[0;34m(\u001b[0m\u001b[0mself\u001b[0m\u001b[0;34m,\u001b[0m \u001b[0mkey\u001b[0m\u001b[0;34m)\u001b[0m\u001b[0;34m:\u001b[0m\u001b[0;34m\u001b[0m\u001b[0;34m\u001b[0m\u001b[0m\n\u001b[0;32m---> 33\u001b[0;31m         \u001b[0mrow\u001b[0m\u001b[0;34m,\u001b[0m \u001b[0mcol\u001b[0m \u001b[0;34m=\u001b[0m \u001b[0mself\u001b[0m\u001b[0;34m.\u001b[0m\u001b[0m_validate_indices\u001b[0m\u001b[0;34m(\u001b[0m\u001b[0mkey\u001b[0m\u001b[0;34m)\u001b[0m\u001b[0;34m\u001b[0m\u001b[0;34m\u001b[0m\u001b[0m\n\u001b[0m\u001b[1;32m     34\u001b[0m         \u001b[0;31m# Dispatch to specialized methods.\u001b[0m\u001b[0;34m\u001b[0m\u001b[0;34m\u001b[0m\u001b[0;34m\u001b[0m\u001b[0m\n\u001b[1;32m     35\u001b[0m         \u001b[0;32mif\u001b[0m \u001b[0misinstance\u001b[0m\u001b[0;34m(\u001b[0m\u001b[0mrow\u001b[0m\u001b[0;34m,\u001b[0m \u001b[0mINT_TYPES\u001b[0m\u001b[0;34m)\u001b[0m\u001b[0;34m:\u001b[0m\u001b[0;34m\u001b[0m\u001b[0;34m\u001b[0m\u001b[0m\n",
      "\u001b[0;32m~/anaconda3/envs/py38/lib/python3.8/site-packages/scipy/sparse/_index.py\u001b[0m in \u001b[0;36m_validate_indices\u001b[0;34m(self, key)\u001b[0m\n\u001b[1;32m    127\u001b[0m     \u001b[0;32mdef\u001b[0m \u001b[0m_validate_indices\u001b[0m\u001b[0;34m(\u001b[0m\u001b[0mself\u001b[0m\u001b[0;34m,\u001b[0m \u001b[0mkey\u001b[0m\u001b[0;34m)\u001b[0m\u001b[0;34m:\u001b[0m\u001b[0;34m\u001b[0m\u001b[0;34m\u001b[0m\u001b[0m\n\u001b[1;32m    128\u001b[0m         \u001b[0mM\u001b[0m\u001b[0;34m,\u001b[0m \u001b[0mN\u001b[0m \u001b[0;34m=\u001b[0m \u001b[0mself\u001b[0m\u001b[0;34m.\u001b[0m\u001b[0mshape\u001b[0m\u001b[0;34m\u001b[0m\u001b[0;34m\u001b[0m\u001b[0m\n\u001b[0;32m--> 129\u001b[0;31m         \u001b[0mrow\u001b[0m\u001b[0;34m,\u001b[0m \u001b[0mcol\u001b[0m \u001b[0;34m=\u001b[0m \u001b[0m_unpack_index\u001b[0m\u001b[0;34m(\u001b[0m\u001b[0mkey\u001b[0m\u001b[0;34m)\u001b[0m\u001b[0;34m\u001b[0m\u001b[0;34m\u001b[0m\u001b[0m\n\u001b[0m\u001b[1;32m    130\u001b[0m \u001b[0;34m\u001b[0m\u001b[0m\n\u001b[1;32m    131\u001b[0m         \u001b[0;32mif\u001b[0m \u001b[0misintlike\u001b[0m\u001b[0;34m(\u001b[0m\u001b[0mrow\u001b[0m\u001b[0;34m)\u001b[0m\u001b[0;34m:\u001b[0m\u001b[0;34m\u001b[0m\u001b[0;34m\u001b[0m\u001b[0m\n",
      "\u001b[0;32m~/anaconda3/envs/py38/lib/python3.8/site-packages/scipy/sparse/_index.py\u001b[0m in \u001b[0;36m_unpack_index\u001b[0;34m(index)\u001b[0m\n\u001b[1;32m    264\u001b[0m             \u001b[0mrow\u001b[0m\u001b[0;34m,\u001b[0m \u001b[0mcol\u001b[0m \u001b[0;34m=\u001b[0m \u001b[0mindex\u001b[0m\u001b[0;34m[\u001b[0m\u001b[0;36m0\u001b[0m\u001b[0;34m]\u001b[0m\u001b[0;34m,\u001b[0m \u001b[0mslice\u001b[0m\u001b[0;34m(\u001b[0m\u001b[0;32mNone\u001b[0m\u001b[0;34m)\u001b[0m\u001b[0;34m\u001b[0m\u001b[0;34m\u001b[0m\u001b[0m\n\u001b[1;32m    265\u001b[0m         \u001b[0;32melse\u001b[0m\u001b[0;34m:\u001b[0m\u001b[0;34m\u001b[0m\u001b[0;34m\u001b[0m\u001b[0m\n\u001b[0;32m--> 266\u001b[0;31m             \u001b[0;32mraise\u001b[0m \u001b[0mIndexError\u001b[0m\u001b[0;34m(\u001b[0m\u001b[0;34m'invalid number of indices'\u001b[0m\u001b[0;34m)\u001b[0m\u001b[0;34m\u001b[0m\u001b[0;34m\u001b[0m\u001b[0m\n\u001b[0m\u001b[1;32m    267\u001b[0m     \u001b[0;32melse\u001b[0m\u001b[0;34m:\u001b[0m\u001b[0;34m\u001b[0m\u001b[0;34m\u001b[0m\u001b[0m\n\u001b[1;32m    268\u001b[0m         \u001b[0midx\u001b[0m \u001b[0;34m=\u001b[0m \u001b[0m_compatible_boolean_index\u001b[0m\u001b[0;34m(\u001b[0m\u001b[0mindex\u001b[0m\u001b[0;34m)\u001b[0m\u001b[0;34m\u001b[0m\u001b[0;34m\u001b[0m\u001b[0m\n",
      "\u001b[0;31mIndexError\u001b[0m: invalid number of indices"
     ]
    }
   ],
   "source": [
    "union_adj_mat[:,:,np.newaxis] #.multiply(adt_X_norm.reshape(30672,1,18))"
   ]
  },
  {
   "cell_type": "code",
   "execution_count": 214,
   "metadata": {},
   "outputs": [
    {
     "data": {
      "text/plain": [
       "array([[1, 2, 3],\n",
       "       [4, 5, 6],\n",
       "       [7, 8, 9]])"
      ]
     },
     "execution_count": 214,
     "metadata": {},
     "output_type": "execute_result"
    }
   ],
   "source": [
    "X = np.array([[1,2,3], [4,5,6], [7,8,9]])\n",
    "X"
   ]
  },
  {
   "cell_type": "code",
   "execution_count": 215,
   "metadata": {},
   "outputs": [
    {
     "data": {
      "text/plain": [
       "array([[0, 1],\n",
       "       [0, 1],\n",
       "       [0, 1]])"
      ]
     },
     "execution_count": 215,
     "metadata": {},
     "output_type": "execute_result"
    }
   ],
   "source": [
    "Y = np.array([[0,1], [0,1], [0,1]])\n",
    "Y"
   ]
  },
  {
   "cell_type": "code",
   "execution_count": 219,
   "metadata": {},
   "outputs": [
    {
     "data": {
      "text/plain": [
       "array([[[[0, 1],\n",
       "         [0, 1],\n",
       "         [0, 1]],\n",
       "\n",
       "        [[0, 2],\n",
       "         [0, 2],\n",
       "         [0, 2]],\n",
       "\n",
       "        [[0, 3],\n",
       "         [0, 3],\n",
       "         [0, 3]]],\n",
       "\n",
       "\n",
       "       [[[0, 4],\n",
       "         [0, 4],\n",
       "         [0, 4]],\n",
       "\n",
       "        [[0, 5],\n",
       "         [0, 5],\n",
       "         [0, 5]],\n",
       "\n",
       "        [[0, 6],\n",
       "         [0, 6],\n",
       "         [0, 6]]],\n",
       "\n",
       "\n",
       "       [[[0, 7],\n",
       "         [0, 7],\n",
       "         [0, 7]],\n",
       "\n",
       "        [[0, 8],\n",
       "         [0, 8],\n",
       "         [0, 8]],\n",
       "\n",
       "        [[0, 9],\n",
       "         [0, 9],\n",
       "         [0, 9]]]])"
      ]
     },
     "execution_count": 219,
     "metadata": {},
     "output_type": "execute_result"
    }
   ],
   "source": [
    "np.dot(X[:,:,np.newaxis], Y.reshape(3,1,2))"
   ]
  },
  {
   "cell_type": "code",
   "execution_count": null,
   "metadata": {},
   "outputs": [],
   "source": []
  },
  {
   "cell_type": "code",
   "execution_count": 154,
   "metadata": {},
   "outputs": [
    {
     "data": {
      "text/plain": [
       "array([1., 1., 1., 1., 1., 1., 1., 1., 1., 1.])"
      ]
     },
     "execution_count": 154,
     "metadata": {},
     "output_type": "execute_result"
    }
   ],
   "source": [
    "a_rna_rnapredict[:10]"
   ]
  },
  {
   "cell_type": "code",
   "execution_count": 155,
   "metadata": {},
   "outputs": [
    {
     "data": {
      "text/plain": [
       "array([0.68327716, 0.52130869, 0.49287443, 0.77738799, 0.53654326,\n",
       "       0.8327573 , 0.74638474, 0.60922078, 0.87726467, 0.75409971])"
      ]
     },
     "execution_count": 155,
     "metadata": {},
     "output_type": "execute_result"
    }
   ],
   "source": [
    "a_rna_adtpredict[:10]"
   ]
  },
  {
   "cell_type": "code",
   "execution_count": 156,
   "metadata": {},
   "outputs": [
    {
     "data": {
      "text/plain": [
       "array([1.        , 0.94769147, 1.        , 1.        , 1.        ,\n",
       "       1.        , 1.        , 1.        , 1.        , 1.        ])"
      ]
     },
     "execution_count": 156,
     "metadata": {},
     "output_type": "execute_result"
    }
   ],
   "source": [
    "a_adt_adtpredict[:10]"
   ]
  },
  {
   "cell_type": "code",
   "execution_count": 157,
   "metadata": {},
   "outputs": [
    {
     "data": {
      "text/plain": [
       "array([0.84620602, 0.22477533, 0.51427748, 0.55761984, 0.72605832,\n",
       "       0.7049992 , 0.48144857, 0.41022639, 0.30988976, 0.36762732])"
      ]
     },
     "execution_count": 157,
     "metadata": {},
     "output_type": "execute_result"
    }
   ],
   "source": [
    "a_adt_rnapredict[:10]"
   ]
  },
  {
   "cell_type": "code",
   "execution_count": 150,
   "metadata": {},
   "outputs": [
    {
     "data": {
      "text/plain": [
       "True     30022\n",
       "False      650\n",
       "dtype: int64"
      ]
     },
     "execution_count": 150,
     "metadata": {},
     "output_type": "execute_result"
    }
   ],
   "source": [
    "pd.Series(a_rna_rnapredict==1).value_counts()"
   ]
  },
  {
   "cell_type": "code",
   "execution_count": 151,
   "metadata": {},
   "outputs": [
    {
     "data": {
      "text/plain": [
       "False    29531\n",
       "True      1141\n",
       "dtype: int64"
      ]
     },
     "execution_count": 151,
     "metadata": {},
     "output_type": "execute_result"
    }
   ],
   "source": [
    "pd.Series(a_rna_adtpredict==1).value_counts()"
   ]
  },
  {
   "cell_type": "code",
   "execution_count": 152,
   "metadata": {},
   "outputs": [
    {
     "data": {
      "text/plain": [
       "True     28966\n",
       "False     1706\n",
       "dtype: int64"
      ]
     },
     "execution_count": 152,
     "metadata": {},
     "output_type": "execute_result"
    }
   ],
   "source": [
    "pd.Series(a_adt_adtpredict==1).value_counts()"
   ]
  },
  {
   "cell_type": "code",
   "execution_count": 153,
   "metadata": {},
   "outputs": [
    {
     "data": {
      "text/plain": [
       "False    30163\n",
       "True       509\n",
       "dtype: int64"
      ]
     },
     "execution_count": 153,
     "metadata": {},
     "output_type": "execute_result"
    }
   ],
   "source": [
    "pd.Series(a_adt_rnapredict==1).value_counts()"
   ]
  },
  {
   "cell_type": "code",
   "execution_count": null,
   "metadata": {},
   "outputs": [],
   "source": []
  },
  {
   "cell_type": "code",
   "execution_count": null,
   "metadata": {},
   "outputs": [],
   "source": []
  },
  {
   "cell_type": "code",
   "execution_count": null,
   "metadata": {},
   "outputs": [],
   "source": []
  },
  {
   "cell_type": "code",
   "execution_count": 23,
   "metadata": {},
   "outputs": [
    {
     "data": {
      "text/plain": [
       "0"
      ]
     },
     "execution_count": 23,
     "metadata": {},
     "output_type": "execute_result"
    }
   ],
   "source": [
    "(adata_adt.obsp['distances']==1).sum().sum()"
   ]
  },
  {
   "cell_type": "code",
   "execution_count": 370,
   "metadata": {},
   "outputs": [
    {
     "data": {
      "text/plain": [
       "<30672x30672 sparse matrix of type '<class 'numpy.float64'>'\n",
       "\twith 613440 stored elements in Compressed Sparse Row format>"
      ]
     },
     "execution_count": 370,
     "metadata": {},
     "output_type": "execute_result"
    }
   ],
   "source": [
    "adata_adt.obsp['distances']"
   ]
  },
  {
   "cell_type": "code",
   "execution_count": null,
   "metadata": {},
   "outputs": [],
   "source": []
  },
  {
   "cell_type": "code",
   "execution_count": 292,
   "metadata": {},
   "outputs": [],
   "source": [
    "adjacency = (adata_adt.obsp['distances']>0).astype(int)\n",
    "adj_intersect = adjacency.dot(adjacency.T)\n"
   ]
  },
  {
   "cell_type": "code",
   "execution_count": 357,
   "metadata": {},
   "outputs": [],
   "source": [
    "\n",
    "\n"
   ]
  },
  {
   "cell_type": "code",
   "execution_count": 353,
   "metadata": {},
   "outputs": [
    {
     "data": {
      "text/plain": [
       "0.512304829649441"
      ]
     },
     "execution_count": 353,
     "metadata": {},
     "output_type": "execute_result"
    }
   ],
   "source": [
    "np.mean(euc_dist_sorted[:20])"
   ]
  },
  {
   "cell_type": "code",
   "execution_count": 330,
   "metadata": {},
   "outputs": [
    {
     "data": {
      "text/plain": [
       "(74, 18)"
      ]
     },
     "execution_count": 330,
     "metadata": {},
     "output_type": "execute_result"
    }
   ],
   "source": [
    "adt_X_norm[minjacinset,:].shape"
   ]
  },
  {
   "cell_type": "code",
   "execution_count": 343,
   "metadata": {},
   "outputs": [
    {
     "data": {
      "text/plain": [
       "array([ 4953, 23435,   656, 29758, 21198, 29655,  6997,  7809, 11612,\n",
       "       22930, 12279, 16303, 23829, 14277,  7558,  6139, 10267, 24865,\n",
       "       13088, 19758], dtype=int32)"
      ]
     },
     "execution_count": 343,
     "metadata": {},
     "output_type": "execute_result"
    }
   ],
   "source": []
  },
  {
   "cell_type": "code",
   "execution_count": 321,
   "metadata": {},
   "outputs": [
    {
     "data": {
      "text/plain": [
       "array([1, 1, 1, 1, 1, 1, 1, 1, 1, 1, 1, 1, 1, 1, 1, 1, 1, 1, 1, 1, 1, 1,\n",
       "       1, 1, 1, 1, 1, 1, 1, 1, 1, 1, 1, 1, 1, 1, 1, 1, 1, 1, 1, 1, 1, 1,\n",
       "       1, 1, 1, 1, 1, 1, 1, 1, 1, 1, 1, 1, 1, 1, 1, 1, 1, 1, 1, 1, 1, 1,\n",
       "       1, 1, 1, 1, 1, 1, 1, 1])"
      ]
     },
     "execution_count": 321,
     "metadata": {},
     "output_type": "execute_result"
    }
   ],
   "source": [
    "valssort[:(num)]"
   ]
  },
  {
   "cell_type": "code",
   "execution_count": 302,
   "metadata": {},
   "outputs": [
    {
     "data": {
      "text/plain": [
       "array([ 1,  1,  1,  1,  1,  1,  1,  1,  1,  1,  1,  1,  1,  1,  1,  1,  1,\n",
       "        1,  1,  1,  1,  1,  2,  2,  2,  3,  2,  2,  1,  1,  3,  3,  2,  2,\n",
       "        1,  2,  2,  2,  2,  2,  1,  3,  2,  1,  1,  1,  2,  1,  1,  1,  1,\n",
       "        2,  1,  1,  3,  1,  2,  1,  2,  2,  2,  6,  4,  5,  2,  4,  3,  4,\n",
       "        3,  1,  2,  1,  1,  2,  1,  1,  3,  7,  2,  2,  5,  1,  4,  4,  1,\n",
       "        1,  1,  1,  1,  3,  1,  3,  2,  2,  2,  1,  5,  1,  4,  5,  5,  2,\n",
       "        1,  5,  1,  1,  3,  8,  7,  3,  6,  1,  2,  2,  5,  1,  1,  5,  4,\n",
       "        3,  1,  2,  3,  2,  2,  2,  3,  5,  6,  1,  2,  1,  2,  4,  1,  2,\n",
       "        4,  2,  4,  2,  1,  7,  5,  2,  4,  2,  7,  5,  2,  2,  2,  5,  6,\n",
       "        2,  4,  1,  3,  2,  2,  1,  3,  2,  7,  2,  1,  5,  5,  5,  9,  3,\n",
       "        4,  6,  2,  5,  7,  5,  2,  4,  2,  4,  2,  1,  4,  2,  5,  6,  4,\n",
       "        2,  3,  4,  4,  2,  7,  1,  1,  2,  8,  4,  6,  6,  6,  6,  5,  3,\n",
       "       10,  5,  3,  1,  4, 10,  4,  5,  5,  8,  2,  6,  7,  4,  1,  7,  2,\n",
       "        8,  6,  3,  5,  1,  6,  3,  3,  2,  3,  4,  1,  2,  2,  5,  1,  5,\n",
       "        4,  4,  5,  3,  5,  4,  6,  9,  1,  4,  2,  6,  5,  5, 20])"
      ]
     },
     "execution_count": 302,
     "metadata": {},
     "output_type": "execute_result"
    }
   ],
   "source": [
    "rowvals"
   ]
  },
  {
   "cell_type": "code",
   "execution_count": null,
   "metadata": {},
   "outputs": [],
   "source": []
  },
  {
   "cell_type": "code",
   "execution_count": 294,
   "metadata": {},
   "outputs": [],
   "source": []
  },
  {
   "cell_type": "code",
   "execution_count": 300,
   "metadata": {},
   "outputs": [
    {
     "data": {
      "text/plain": [
       "array([       0,      253,      358, ..., 10296215, 10296588, 10296950],\n",
       "      dtype=int32)"
      ]
     },
     "execution_count": 300,
     "metadata": {},
     "output_type": "execute_result"
    }
   ],
   "source": [
    "indptr"
   ]
  },
  {
   "cell_type": "code",
   "execution_count": 296,
   "metadata": {},
   "outputs": [
    {
     "data": {
      "text/plain": [
       "array([29749, 27488, 26896, 21977, 20789, 16038, 15259, 12762,  9460,\n",
       "        7935,  4982,  3028,  1479,  1122,   388, 27756, 24200, 18573,\n",
       "       17652,  5581, 30187, 19758, 10189, 30267, 24158, 23035, 20797,\n",
       "       20767, 17962, 17033, 15869, 12915, 11907,  7221,  5549,  3383,\n",
       "        2416,  1422,  1319,   470, 27058, 25248, 18729,  6915,  1110,\n",
       "       29655, 25048, 23829, 23204, 23059, 21860, 19920, 17336, 10267,\n",
       "        7105,  6139,  5670,  3436,  1365, 27186, 26342, 26147, 25566,\n",
       "       23414, 19753, 19256, 18018, 17571, 10818, 29758, 28578, 24865,\n",
       "       23435, 20164, 16303,  4518, 29776, 21407,  8886,   161, 29149,\n",
       "       26066, 20790, 20030, 18467, 14324, 12946, 12279, 11527,  5503,\n",
       "         656, 29163, 28586, 26612, 26556, 22930, 21733, 21198, 15784,\n",
       "       15558, 11506,  7630,  6997,  6525,  3840, 30563, 29294, 27094,\n",
       "       26678, 26598, 22592, 21804, 20604, 16627, 14470, 10065,  2109,\n",
       "       23731, 23561, 17156, 14277, 13181, 12734, 12222, 11134, 10556,\n",
       "       10527,  9438,  8762,  7809,  7741,  7558,  6414,  5748,  4953,\n",
       "        3916,  3305,  3101,  2540,  2016, 29996, 27888, 27147, 25804,\n",
       "       22746, 22320, 21387, 18733, 17862, 15642, 12288,  9237,  8635,\n",
       "        8557,  6561,  4843,  1070, 28230, 25723, 25549, 23774, 16452,\n",
       "       16243, 15243, 11612,  9538,  9183,  5468,  5203,  4318,  3294,\n",
       "        2247,  1539,   259, 27658, 23425, 22479, 22452, 21835, 17591,\n",
       "       17244, 15010, 13747, 13257,  9436,  8998,  8878,  8602,  6634,\n",
       "        6593,  5784,  5585,  4251,  3933,  2397,   686, 29909, 28576,\n",
       "       28333, 27792, 26554, 26121, 25620, 25107, 24345, 22916, 22728,\n",
       "       22376, 22125, 21304, 21157, 19221, 19008, 14943, 14089, 13727,\n",
       "       13662, 13470, 13088, 12879, 12045, 11943, 11857, 11621, 10650,\n",
       "       10289,  9903,  9687,  9093,  8911,  8508,  7766,  7600,  7076,\n",
       "        6795,  6276,  5743,  5285,  4789,  4466,  4296,  4004,  3637,\n",
       "        2746,  2569,  2226,  1872,  1399,  1185,  1157,  1121,   397,\n",
       "           0], dtype=int32)"
      ]
     },
     "execution_count": 296,
     "metadata": {},
     "output_type": "execute_result"
    }
   ],
   "source": [
    "cols"
   ]
  },
  {
   "cell_type": "code",
   "execution_count": null,
   "metadata": {},
   "outputs": [],
   "source": []
  },
  {
   "cell_type": "code",
   "execution_count": null,
   "metadata": {},
   "outputs": [],
   "source": []
  },
  {
   "cell_type": "code",
   "execution_count": null,
   "metadata": {},
   "outputs": [],
   "source": []
  },
  {
   "cell_type": "code",
   "execution_count": 290,
   "metadata": {},
   "outputs": [
    {
     "data": {
      "text/plain": [
       "0"
      ]
     },
     "execution_count": 290,
     "metadata": {},
     "output_type": "execute_result"
    }
   ],
   "source": [
    "i"
   ]
  },
  {
   "cell_type": "code",
   "execution_count": null,
   "metadata": {},
   "outputs": [],
   "source": []
  },
  {
   "cell_type": "code",
   "execution_count": null,
   "metadata": {},
   "outputs": [],
   "source": []
  },
  {
   "cell_type": "code",
   "execution_count": null,
   "metadata": {},
   "outputs": [],
   "source": []
  },
  {
   "cell_type": "code",
   "execution_count": 282,
   "metadata": {},
   "outputs": [
    {
     "data": {
      "text/plain": [
       "array([1, 1, 1, ..., 1, 3, 1])"
      ]
     },
     "execution_count": 282,
     "metadata": {},
     "output_type": "execute_result"
    }
   ],
   "source": [
    "adj_intersect.data"
   ]
  },
  {
   "cell_type": "code",
   "execution_count": 283,
   "metadata": {},
   "outputs": [
    {
     "data": {
      "text/plain": [
       "array([29749, 27488, 26896, ...,  1961,  1760,   450], dtype=int32)"
      ]
     },
     "execution_count": 283,
     "metadata": {},
     "output_type": "execute_result"
    }
   ],
   "source": [
    "adj_intersect.indices"
   ]
  },
  {
   "cell_type": "code",
   "execution_count": 284,
   "metadata": {},
   "outputs": [
    {
     "data": {
      "text/plain": [
       "array([       0,      253,      358, ..., 10296215, 10296588, 10296950],\n",
       "      dtype=int32)"
      ]
     },
     "execution_count": 284,
     "metadata": {},
     "output_type": "execute_result"
    }
   ],
   "source": [
    "adj_intersect.indptr"
   ]
  },
  {
   "cell_type": "code",
   "execution_count": 285,
   "metadata": {},
   "outputs": [
    {
     "data": {
      "text/plain": [
       "array([[1, 0, 2],\n",
       "       [0, 0, 3],\n",
       "       [4, 5, 6]])"
      ]
     },
     "execution_count": 285,
     "metadata": {},
     "output_type": "execute_result"
    }
   ],
   "source": [
    "indptr = np.array([0, 2, 3, 6])\n",
    "indices = np.array([0, 2, 2, 0, 1, 2])\n",
    "data = np.array([1, 2, 3, 4, 5, 6])\n",
    "csr_matrix((data, indices, indptr), shape=(3, 3)).toarray()"
   ]
  },
  {
   "cell_type": "markdown",
   "metadata": {},
   "source": [
    "is the standard CSR representation where the column indices for row i are stored in indices[indptr[i]:indptr[i+1]] and their corresponding values are stored in data[indptr[i]:indptr[i+1]]. If the shape parameter is not supplied, the matrix dimensions are inferred from the index arrays."
   ]
  },
  {
   "cell_type": "code",
   "execution_count": 286,
   "metadata": {},
   "outputs": [
    {
     "data": {
      "text/plain": [
       "array([0, 2])"
      ]
     },
     "execution_count": 286,
     "metadata": {},
     "output_type": "execute_result"
    }
   ],
   "source": [
    "i = 0\n",
    "indices[indptr[i]:indptr[i+1]]"
   ]
  },
  {
   "cell_type": "code",
   "execution_count": null,
   "metadata": {},
   "outputs": [],
   "source": []
  },
  {
   "cell_type": "code",
   "execution_count": null,
   "metadata": {},
   "outputs": [],
   "source": []
  },
  {
   "cell_type": "code",
   "execution_count": null,
   "metadata": {},
   "outputs": [],
   "source": []
  },
  {
   "cell_type": "code",
   "execution_count": null,
   "metadata": {},
   "outputs": [],
   "source": []
  },
  {
   "cell_type": "code",
   "execution_count": 223,
   "metadata": {},
   "outputs": [
    {
     "data": {
      "text/plain": [
       "'\\nmask = (dists > 0) & (dists <= epsilon)\\ndata = dists[mask]\\nindices = intrsct.indices[mask]\\nrownnz = np.add.reduceat(mask, intrsct.indptr[:-1])\\nindptr = np.r_[0, np.cumsum(rownnz)]\\nout = csr_matrix((data, indices, indptr), intrsct.shape)\\n'"
      ]
     },
     "execution_count": 223,
     "metadata": {},
     "output_type": "execute_result"
    }
   ],
   "source": [
    "csr_rownnz = csr.getnnz(axis=1)\n",
    "intrsct = csr.dot(csr.T)\n",
    "nnz_i = np.repeat(csr_rownnz, intrsct.getnnz(axis=1))\n",
    "unions = nnz_i + csr_rownnz[intrsct.indices] - intrsct.data\n",
    "dists = intrsct.data / unions\n",
    "test = csr_matrix((dists,intrsct.indices, intrsct.indptr), intrsct.shape)\n",
    "\n",
    "\n",
    "'''\n",
    "mask = (dists > 0) & (dists <= epsilon)\n",
    "data = dists[mask]\n",
    "indices = intrsct.indices[mask]\n",
    "rownnz = np.add.reduceat(mask, intrsct.indptr[:-1])\n",
    "indptr = np.r_[0, np.cumsum(rownnz)]\n",
    "out = csr_matrix((data, indices, indptr), intrsct.shape)\n",
    "'''"
   ]
  },
  {
   "cell_type": "code",
   "execution_count": 263,
   "metadata": {},
   "outputs": [
    {
     "data": {
      "text/plain": [
       "20    10296950\n",
       "dtype: int64"
      ]
     },
     "execution_count": 263,
     "metadata": {},
     "output_type": "execute_result"
    }
   ],
   "source": [
    "pd.Series(nnz_i).value_counts()"
   ]
  },
  {
   "cell_type": "code",
   "execution_count": 266,
   "metadata": {},
   "outputs": [
    {
     "data": {
      "text/plain": [
       "20    10296950\n",
       "dtype: int64"
      ]
     },
     "execution_count": 266,
     "metadata": {},
     "output_type": "execute_result"
    }
   ],
   "source": [
    "pd.Series(csr_rownnz[intrsct.indices]).value_counts()"
   ]
  },
  {
   "cell_type": "code",
   "execution_count": 261,
   "metadata": {},
   "outputs": [
    {
     "data": {
      "text/plain": [
       "<30672x30672 sparse matrix of type '<class 'numpy.int64'>'\n",
       "\twith 10296950 stored elements in Compressed Sparse Row format>"
      ]
     },
     "execution_count": 261,
     "metadata": {},
     "output_type": "execute_result"
    }
   ],
   "source": [
    "intrsct"
   ]
  },
  {
   "cell_type": "code",
   "execution_count": 277,
   "metadata": {},
   "outputs": [
    {
     "data": {
      "text/plain": [
       "[<matplotlib.lines.Line2D at 0x7f35b3261190>]"
      ]
     },
     "execution_count": 277,
     "metadata": {},
     "output_type": "execute_result"
    },
    {
     "data": {
      "image/png": "[encoded data removed]",
      "text/plain": [
       "<Figure size 432x288 with 1 Axes>"
      ]
     },
     "metadata": {
      "needs_background": "light"
     },
     "output_type": "display_data"
    }
   ],
   "source": [
    "res = []\n",
    "for i in range(21):\n",
    "    inter = i\n",
    "    union = (20-i)*2 + i\n",
    "    jacard = inter/union\n",
    "    res.append([inter, union, jacard])\n",
    "    \n",
    "res = pd.DataFrame(res)\n",
    "plt.plot(np.arange(21), res[2])"
   ]
  },
  {
   "cell_type": "code",
   "execution_count": 259,
   "metadata": {},
   "outputs": [],
   "source": [
    "comp = []\n",
    "j = 0\n",
    "for i in range(100):\n",
    "    ratio = np.array(test[i, :].todense()).reshape(-1)\n",
    "    vals = np.where(ratio)[0]\n",
    "    x = np.array(csr[i,:].todense())\n",
    "    for j in vals:\n",
    "        y = np.array(csr[j,:].todense())\n",
    "        calc = ((x>0) & (y>0)).sum() / ((x>0) | (y>0)).sum()\n",
    "        comp.append([i,j,test[i, j]==calc])\n",
    "        \n",
    "\n",
    "        "
   ]
  },
  {
   "cell_type": "code",
   "execution_count": 260,
   "metadata": {},
   "outputs": [
    {
     "data": {
      "text/plain": [
       "True    33830\n",
       "Name: 2, dtype: int64"
      ]
     },
     "execution_count": 260,
     "metadata": {},
     "output_type": "execute_result"
    }
   ],
   "source": [
    "pd.DataFrame(comp)[2].value_counts()"
   ]
  },
  {
   "cell_type": "code",
   "execution_count": null,
   "metadata": {},
   "outputs": [],
   "source": []
  },
  {
   "cell_type": "code",
   "execution_count": null,
   "metadata": {},
   "outputs": [],
   "source": []
  },
  {
   "cell_type": "code",
   "execution_count": null,
   "metadata": {},
   "outputs": [],
   "source": []
  },
  {
   "cell_type": "code",
   "execution_count": 199,
   "metadata": {},
   "outputs": [
    {
     "data": {
      "text/plain": [
       "(10296950,)"
      ]
     },
     "execution_count": 199,
     "metadata": {},
     "output_type": "execute_result"
    }
   ],
   "source": [
    "dists.shape"
   ]
  },
  {
   "cell_type": "code",
   "execution_count": 200,
   "metadata": {},
   "outputs": [
    {
     "data": {
      "text/plain": [
       "(10296950,)"
      ]
     },
     "execution_count": 200,
     "metadata": {},
     "output_type": "execute_result"
    }
   ],
   "source": [
    "unions.shape"
   ]
  },
  {
   "cell_type": "code",
   "execution_count": 209,
   "metadata": {},
   "outputs": [],
   "source": []
  },
  {
   "cell_type": "code",
   "execution_count": 212,
   "metadata": {},
   "outputs": [],
   "source": []
  },
  {
   "cell_type": "code",
   "execution_count": 216,
   "metadata": {},
   "outputs": [
    {
     "data": {
      "text/plain": [
       "(array([0, 0, 0, 0, 0, 0, 0, 0, 0, 0, 0, 0, 0, 0, 0, 0, 0, 0, 0, 0, 0, 0,\n",
       "        0, 0, 0, 0, 0, 0, 0, 0, 0, 0, 0, 0, 0, 0, 0, 0, 0, 0, 0, 0, 0, 0,\n",
       "        0, 0, 0, 0, 0, 0, 0, 0, 0, 0, 0, 0, 0, 0, 0, 0, 0, 0, 0, 0, 0, 0,\n",
       "        0, 0, 0, 0, 0, 0, 0, 0, 0, 0, 0, 0, 0, 0, 0, 0, 0, 0, 0, 0, 0, 0,\n",
       "        0, 0, 0, 0, 0, 0, 0, 0, 0, 0, 0, 0, 0, 0, 0, 0, 0, 0, 0, 0, 0, 0,\n",
       "        0, 0, 0, 0, 0, 0, 0, 0, 0, 0, 0, 0, 0, 0, 0, 0, 0, 0, 0, 0, 0, 0,\n",
       "        0, 0, 0, 0, 0, 0, 0, 0, 0, 0, 0, 0, 0, 0, 0, 0, 0, 0, 0, 0, 0, 0,\n",
       "        0, 0, 0, 0, 0, 0, 0, 0, 0, 0, 0, 0, 0, 0, 0, 0, 0, 0, 0, 0, 0, 0,\n",
       "        0, 0, 0, 0, 0, 0, 0, 0, 0, 0, 0, 0, 0, 0, 0, 0, 0, 0, 0, 0, 0, 0,\n",
       "        0, 0, 0, 0, 0, 0, 0, 0, 0, 0, 0, 0, 0, 0, 0, 0, 0, 0, 0, 0, 0, 0,\n",
       "        0, 0, 0, 0, 0, 0, 0, 0, 0, 0, 0, 0, 0, 0, 0, 0, 0, 0, 0, 0, 0, 0,\n",
       "        0, 0, 0, 0, 0, 0, 0, 0, 0, 0, 0]),\n",
       " array([    0,   161,   259,   388,   397,   470,   656,   686,  1070,\n",
       "         1110,  1121,  1122,  1157,  1185,  1319,  1365,  1399,  1422,\n",
       "         1479,  1539,  1872,  2016,  2109,  2226,  2247,  2397,  2416,\n",
       "         2540,  2569,  2746,  3028,  3101,  3294,  3305,  3383,  3436,\n",
       "         3637,  3840,  3916,  3933,  4004,  4251,  4296,  4318,  4466,\n",
       "         4518,  4789,  4843,  4953,  4982,  5203,  5285,  5468,  5503,\n",
       "         5549,  5581,  5585,  5670,  5743,  5748,  5784,  6139,  6276,\n",
       "         6414,  6525,  6561,  6593,  6634,  6795,  6915,  6997,  7076,\n",
       "         7105,  7221,  7558,  7600,  7630,  7741,  7766,  7809,  7935,\n",
       "         8508,  8557,  8602,  8635,  8762,  8878,  8886,  8911,  8998,\n",
       "         9093,  9183,  9237,  9436,  9438,  9460,  9538,  9687,  9903,\n",
       "        10065, 10189, 10267, 10289, 10527, 10556, 10650, 10818, 11134,\n",
       "        11506, 11527, 11612, 11621, 11857, 11907, 11943, 12045, 12222,\n",
       "        12279, 12288, 12734, 12762, 12879, 12915, 12946, 13088, 13181,\n",
       "        13257, 13470, 13662, 13727, 13747, 14089, 14277, 14324, 14470,\n",
       "        14943, 15010, 15243, 15259, 15558, 15642, 15784, 15869, 16038,\n",
       "        16243, 16303, 16452, 16627, 17033, 17156, 17244, 17336, 17571,\n",
       "        17591, 17652, 17862, 17962, 18018, 18467, 18573, 18729, 18733,\n",
       "        19008, 19221, 19256, 19753, 19758, 19920, 20030, 20164, 20604,\n",
       "        20767, 20789, 20790, 20797, 21157, 21198, 21304, 21387, 21407,\n",
       "        21733, 21804, 21835, 21860, 21977, 22125, 22320, 22376, 22452,\n",
       "        22479, 22592, 22728, 22746, 22916, 22930, 23035, 23059, 23204,\n",
       "        23414, 23425, 23435, 23561, 23731, 23774, 23829, 24158, 24200,\n",
       "        24345, 24865, 25048, 25107, 25248, 25549, 25566, 25620, 25723,\n",
       "        25804, 26066, 26121, 26147, 26342, 26554, 26556, 26598, 26612,\n",
       "        26678, 26896, 27058, 27094, 27147, 27186, 27488, 27658, 27756,\n",
       "        27792, 27888, 28230, 28333, 28576, 28578, 28586, 29149, 29163,\n",
       "        29294, 29655, 29749, 29758, 29776, 29909, 29996, 30187, 30267,\n",
       "        30563]))"
      ]
     },
     "execution_count": 216,
     "metadata": {},
     "output_type": "execute_result"
    }
   ],
   "source": []
  },
  {
   "cell_type": "code",
   "execution_count": 222,
   "metadata": {},
   "outputs": [
    {
     "name": "stdout",
     "output_type": "stream",
     "text": [
      "0.14285714285714285\n",
      "0.14285714285714285\n"
     ]
    }
   ],
   "source": [
    "i = 0\n",
    "j = 259\n",
    "print(z[i,j])\n",
    "\n",
    "x = np.array(csr[i,:].todense())\n",
    "y = np.array(csr[j,:].todense())\n",
    "\n",
    "print(((x>0) & (y>0)).sum() / ((x>0) | (y>0)).sum())"
   ]
  },
  {
   "cell_type": "code",
   "execution_count": 221,
   "metadata": {},
   "outputs": [
    {
     "data": {
      "text/plain": [
       "0.14285714285714285"
      ]
     },
     "execution_count": 221,
     "metadata": {},
     "output_type": "execute_result"
    }
   ],
   "source": [
    "i = 0\n",
    "j= 259\n"
   ]
  },
  {
   "cell_type": "code",
   "execution_count": null,
   "metadata": {},
   "outputs": [],
   "source": []
  },
  {
   "cell_type": "code",
   "execution_count": null,
   "metadata": {},
   "outputs": [],
   "source": []
  },
  {
   "cell_type": "code",
   "execution_count": null,
   "metadata": {},
   "outputs": [],
   "source": []
  },
  {
   "cell_type": "code",
   "execution_count": null,
   "metadata": {},
   "outputs": [],
   "source": []
  },
  {
   "cell_type": "code",
   "execution_count": null,
   "metadata": {},
   "outputs": [],
   "source": []
  },
  {
   "cell_type": "code",
   "execution_count": null,
   "metadata": {},
   "outputs": [],
   "source": []
  },
  {
   "cell_type": "code",
   "execution_count": 176,
   "metadata": {},
   "outputs": [
    {
     "data": {
      "text/plain": [
       "(10296950,)"
      ]
     },
     "execution_count": 176,
     "metadata": {},
     "output_type": "execute_result"
    }
   ],
   "source": [
    "mask.shape"
   ]
  },
  {
   "cell_type": "code",
   "execution_count": 169,
   "metadata": {},
   "outputs": [
    {
     "data": {
      "text/plain": [
       "array([253, 105, 330, ..., 276, 373, 362], dtype=int32)"
      ]
     },
     "execution_count": 169,
     "metadata": {},
     "output_type": "execute_result"
    }
   ],
   "source": [
    "intrsct.getnnz(axis=1)"
   ]
  },
  {
   "cell_type": "code",
   "execution_count": 173,
   "metadata": {},
   "outputs": [
    {
     "data": {
      "text/plain": [
       "array([0.97435897, 0.97435897, 0.97435897, ..., 0.97435897, 0.91891892,\n",
       "       0.97435897])"
      ]
     },
     "execution_count": 173,
     "metadata": {},
     "output_type": "execute_result"
    }
   ],
   "source": [
    "dists"
   ]
  },
  {
   "cell_type": "code",
   "execution_count": 175,
   "metadata": {},
   "outputs": [
    {
     "data": {
      "text/plain": [
       "array([False, False, False, ..., False, False, False])"
      ]
     },
     "execution_count": 175,
     "metadata": {},
     "output_type": "execute_result"
    }
   ],
   "source": [
    "mask"
   ]
  },
  {
   "cell_type": "code",
   "execution_count": null,
   "metadata": {},
   "outputs": [],
   "source": []
  },
  {
   "cell_type": "code",
   "execution_count": null,
   "metadata": {},
   "outputs": [],
   "source": [
    "def pairwise_jaccard_sparse(csr, epsilon):\n",
    "    \"\"\"Computes the Jaccard distance between the rows of `csr`,\n",
    "    smaller than the cut-off distance `epsilon`.\n",
    "    \"\"\"\n",
    "    assert(0 < epsilon < 1)\n",
    "    csr = csr_matrix(csr).astype(bool).astype(int)\n",
    "\n",
    "    csr_rownnz = csr.getnnz(axis=1)\n",
    "    intrsct = csr.dot(csr.T)\n",
    "\n",
    "    nnz_i = np.repeat(csr_rownnz, intrsct.getnnz(axis=1))\n",
    "    unions = nnz_i + csr_rownnz[intrsct.indices] - intrsct.data\n",
    "    dists = 1.0 - intrsct.data / unions\n",
    "\n",
    "    mask = (dists > 0) & (dists <= epsilon)\n",
    "    data = dists[mask]\n",
    "    indices = intrsct.indices[mask]\n",
    "\n",
    "    rownnz = np.add.reduceat(mask, intrsct.indptr[:-1])\n",
    "    indptr = np.r_[0, np.cumsum(rownnz)]\n",
    "\n",
    "    out = csr_matrix((data, indices, indptr), intrsct.shape)\n",
    "    return out"
   ]
  },
  {
   "cell_type": "code",
   "execution_count": 155,
   "metadata": {},
   "outputs": [
    {
     "data": {
      "text/plain": [
       "<30672x30672 sparse matrix of type '<class 'numpy.int64'>'\n",
       "\twith 613440 stored elements in Compressed Sparse Row format>"
      ]
     },
     "execution_count": 155,
     "metadata": {},
     "output_type": "execute_result"
    }
   ],
   "source": [
    "z"
   ]
  },
  {
   "cell_type": "code",
   "execution_count": null,
   "metadata": {},
   "outputs": [],
   "source": []
  },
  {
   "cell_type": "code",
   "execution_count": 153,
   "metadata": {},
   "outputs": [],
   "source": [
    "intersect = z.dot(z.transpose()) "
   ]
  },
  {
   "cell_type": "code",
   "execution_count": 154,
   "metadata": {},
   "outputs": [
    {
     "data": {
      "text/plain": [
       "matrix([[20,  0,  0,  0,  0,  0,  0,  0,  0,  0],\n",
       "        [ 0, 20,  0,  0,  0,  0,  0,  0,  0,  0],\n",
       "        [ 0,  0, 20,  0,  0,  0,  0,  0,  0,  0],\n",
       "        [ 0,  0,  0, 20,  0,  0,  0,  0,  0,  0],\n",
       "        [ 0,  0,  0,  0, 20,  0,  0,  0,  0,  0],\n",
       "        [ 0,  0,  0,  0,  0, 20,  0,  0,  0,  0],\n",
       "        [ 0,  0,  0,  0,  0,  0, 20,  0,  0,  0],\n",
       "        [ 0,  0,  0,  0,  0,  0,  0, 20,  0,  0],\n",
       "        [ 0,  0,  0,  0,  0,  0,  0,  0, 20,  0],\n",
       "        [ 0,  0,  0,  0,  0,  0,  0,  0,  0, 20]])"
      ]
     },
     "execution_count": 154,
     "metadata": {},
     "output_type": "execute_result"
    }
   ],
   "source": []
  },
  {
   "cell_type": "code",
   "execution_count": null,
   "metadata": {},
   "outputs": [],
   "source": []
  },
  {
   "cell_type": "code",
   "execution_count": null,
   "metadata": {},
   "outputs": [],
   "source": []
  },
  {
   "cell_type": "code",
   "execution_count": null,
   "metadata": {},
   "outputs": [],
   "source": []
  },
  {
   "cell_type": "code",
   "execution_count": null,
   "metadata": {},
   "outputs": [],
   "source": []
  },
  {
   "cell_type": "code",
   "execution_count": null,
   "metadata": {},
   "outputs": [],
   "source": []
  },
  {
   "cell_type": "code",
   "execution_count": null,
   "metadata": {},
   "outputs": [],
   "source": []
  },
  {
   "cell_type": "code",
   "execution_count": 120,
   "metadata": {},
   "outputs": [
    {
     "data": {
      "text/plain": [
       "array([0.34843926, 0.41694461, 0.22513443, ..., 0.15275368, 0.25079609,\n",
       "       0.26591212])"
      ]
     },
     "execution_count": 120,
     "metadata": {},
     "output_type": "execute_result"
    }
   ],
   "source": [
    "d_rna_rnapredict"
   ]
  },
  {
   "cell_type": "code",
   "execution_count": 123,
   "metadata": {},
   "outputs": [],
   "source": [
    "z = adata_adt.obsp['distances']"
   ]
  },
  {
   "cell_type": "code",
   "execution_count": 128,
   "metadata": {},
   "outputs": [
    {
     "data": {
      "text/plain": [
       "(613440,)"
      ]
     },
     "execution_count": 128,
     "metadata": {},
     "output_type": "execute_result"
    }
   ],
   "source": [
    "z.indptr()"
   ]
  },
  {
   "cell_type": "code",
   "execution_count": 131,
   "metadata": {},
   "outputs": [],
   "source": [
    "sc.pp.neighbors(adata_adt, n_neighbors=2, n_pcs=18, use_rep='X_apca', metric='euclidean', knn=True)"
   ]
  },
  {
   "cell_type": "code",
   "execution_count": 132,
   "metadata": {},
   "outputs": [
    {
     "data": {
      "text/plain": [
       "<30672x30672 sparse matrix of type '<class 'numpy.float64'>'\n",
       "\twith 30672 stored elements in Compressed Sparse Row format>"
      ]
     },
     "execution_count": 132,
     "metadata": {},
     "output_type": "execute_result"
    }
   ],
   "source": [
    "adata_adt.obsp['distances']"
   ]
  },
  {
   "cell_type": "code",
   "execution_count": null,
   "metadata": {},
   "outputs": [],
   "source": []
  },
  {
   "cell_type": "code",
   "execution_count": null,
   "metadata": {},
   "outputs": [],
   "source": []
  },
  {
   "cell_type": "code",
   "execution_count": null,
   "metadata": {},
   "outputs": [],
   "source": []
  },
  {
   "cell_type": "code",
   "execution_count": 91,
   "metadata": {},
   "outputs": [
    {
     "data": {
      "text/plain": [
       "(30672, 25)"
      ]
     },
     "execution_count": 91,
     "metadata": {},
     "output_type": "execute_result"
    }
   ],
   "source": [
    "adt_X_norm.shape"
   ]
  },
  {
   "cell_type": "code",
   "execution_count": 54,
   "metadata": {},
   "outputs": [
    {
     "data": {
      "text/plain": [
       "array([1.50516963, 1.59034216, 1.63127029, 1.46064603, 1.688344  ,\n",
       "       1.71456659, 1.74695659, 1.58256221, 1.76533437, 1.69345582,\n",
       "       1.74347591, 1.61666071, 1.77678072, 1.72778273, 1.39434147,\n",
       "       1.66292846, 1.71682227, 1.68827868, 1.76053679])"
      ]
     },
     "execution_count": 54,
     "metadata": {},
     "output_type": "execute_result"
    }
   ],
   "source": [
    "x[x!=0]"
   ]
  },
  {
   "cell_type": "code",
   "execution_count": 55,
   "metadata": {},
   "outputs": [
    {
     "data": {
      "text/plain": [
       "array([1.82163155, 1.50516963, 1.81673348, 1.59034216, 1.63127029,\n",
       "       1.46064603, 1.87325597, 2.15584397, 2.23173809, 2.34097099,\n",
       "       2.02608824, 1.85228515, 1.92145824, 2.10237622, 1.79854715,\n",
       "       1.688344  , 2.00593162, 1.89052117, 1.71456659, 1.74695659,\n",
       "       2.11881256, 1.58256221, 1.81238329, 2.28322339, 1.92729592,\n",
       "       1.78754866, 2.14795542, 1.76533437, 2.28438854, 1.84062052,\n",
       "       1.69345582, 1.83877647, 2.02883196, 2.89416623, 1.94221258,\n",
       "       2.30047774, 1.74347591, 1.61666071, 1.77678072, 2.05781221,\n",
       "       3.43877578, 1.72778273, 2.03873825, 1.39434147, 2.05593252,\n",
       "       1.66292846, 1.71682227, 2.03398323, 2.15619183, 1.68827868,\n",
       "       1.81512761, 1.76053679])"
      ]
     },
     "execution_count": 55,
     "metadata": {},
     "output_type": "execute_result"
    }
   ],
   "source": [
    "y[y!=0]"
   ]
  },
  {
   "cell_type": "code",
   "execution_count": 74,
   "metadata": {},
   "outputs": [
    {
     "data": {
      "text/plain": [
       "(20,)"
      ]
     },
     "execution_count": 74,
     "metadata": {},
     "output_type": "execute_result"
    }
   ],
   "source": [
    "x[x!=0].shape"
   ]
  },
  {
   "cell_type": "code",
   "execution_count": 57,
   "metadata": {},
   "outputs": [
    {
     "data": {
      "text/plain": [
       "(52,)"
      ]
     },
     "execution_count": 57,
     "metadata": {},
     "output_type": "execute_result"
    }
   ],
   "source": [
    "y[y!=0].shape"
   ]
  },
  {
   "cell_type": "code",
   "execution_count": 65,
   "metadata": {},
   "outputs": [
    {
     "data": {
      "text/plain": [
       "matrix([[19],\n",
       "        [19],\n",
       "        [19],\n",
       "        ...,\n",
       "        [19],\n",
       "        [19],\n",
       "        [19]])"
      ]
     },
     "execution_count": 65,
     "metadata": {},
     "output_type": "execute_result"
    }
   ],
   "source": [
    "(adata_adt.obsp['distances']>0).sum(axis=1)"
   ]
  },
  {
   "cell_type": "code",
   "execution_count": 69,
   "metadata": {},
   "outputs": [
    {
     "data": {
      "text/plain": [
       "matrix([[52,  2,  1, ..., 75, 16,  1]])"
      ]
     },
     "execution_count": 69,
     "metadata": {},
     "output_type": "execute_result"
    }
   ],
   "source": [
    "(adata_adt.obsp['distances']>0).sum(axis=0)"
   ]
  },
  {
   "cell_type": "code",
   "execution_count": 70,
   "metadata": {},
   "outputs": [
    {
     "data": {
      "text/plain": [
       "matrix([[52],\n",
       "        [20],\n",
       "        [19],\n",
       "        ...,\n",
       "        [76],\n",
       "        [29],\n",
       "        [19]])"
      ]
     },
     "execution_count": 70,
     "metadata": {},
     "output_type": "execute_result"
    }
   ],
   "source": [
    "(adata_adt.obsp['connectivities']>0).sum(axis=1)"
   ]
  },
  {
   "cell_type": "code",
   "execution_count": null,
   "metadata": {},
   "outputs": [],
   "source": []
  }
 ],
 "metadata": {
  "kernelspec": {
   "display_name": "Python 3 (ipykernel)",
   "language": "python",
   "name": "python3"
  },
  "language_info": {
   "codemirror_mode": {
    "name": "ipython",
    "version": 3
   },
   "file_extension": ".py",
   "mimetype": "text/x-python",
   "name": "python",
   "nbconvert_exporter": "python",
   "pygments_lexer": "ipython3",
   "version": "3.8.12"
  }
 },
 "nbformat": 4,
 "nbformat_minor": 4
}
